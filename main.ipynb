{
  "cells": [
    {
      "cell_type": "markdown",
      "metadata": {
        "id": "view-in-github",
        "colab_type": "text"
      },
      "source": [
        "<a href=\"https://colab.research.google.com/github/catalinapesquet/everything-training/blob/main/main.ipynb\" target=\"_parent\"><img src=\"https://colab.research.google.com/assets/colab-badge.svg\" alt=\"Open In Colab\"/></a>"
      ]
    },
    {
      "metadata": {
        "id": "4abc51b5abf07ef"
      },
      "cell_type": "markdown",
      "source": [
        "# Data&Data Internship Assignment\n",
        "\n",
        "This is the notebook that you should complete.\n",
        "\n",
        "Please ensure that your code is clean, modular, and easy to follow. Feel free to create your own modules and import them into the notebook if it helps with clarity and structure.\n",
        "\n",
        " Feel free to add or delete cells in the notebook depending on you needs."
      ],
      "id": "4abc51b5abf07ef"
    },
    {
      "metadata": {
        "id": "9f140bf7910e740c"
      },
      "cell_type": "code",
      "outputs": [],
      "execution_count": 1,
      "source": [
        "# Imports (import the libraries you need)\n",
        "\n",
        "# CRUD operations libraries\n",
        "import sqlite3\n",
        "from sqlite3 import Error"
      ],
      "id": "9f140bf7910e740c"
    },
    {
      "cell_type": "code",
      "source": [
        "# Web Scrapping libraries\n",
        "!pip install selenium"
      ],
      "metadata": {
        "colab": {
          "base_uri": "https://localhost:8080/"
        },
        "collapsed": true,
        "id": "eZavExdMtGMz",
        "outputId": "265481f5-aa7d-44ac-b58a-cd7325cfc14f"
      },
      "id": "eZavExdMtGMz",
      "execution_count": 2,
      "outputs": [
        {
          "output_type": "stream",
          "name": "stdout",
          "text": [
            "Collecting selenium\n",
            "  Downloading selenium-4.34.2-py3-none-any.whl.metadata (7.5 kB)\n",
            "Requirement already satisfied: urllib3~=2.5.0 in /usr/local/lib/python3.11/dist-packages (from urllib3[socks]~=2.5.0->selenium) (2.5.0)\n",
            "Collecting trio~=0.30.0 (from selenium)\n",
            "  Downloading trio-0.30.0-py3-none-any.whl.metadata (8.5 kB)\n",
            "Collecting trio-websocket~=0.12.2 (from selenium)\n",
            "  Downloading trio_websocket-0.12.2-py3-none-any.whl.metadata (5.1 kB)\n",
            "Requirement already satisfied: certifi>=2025.6.15 in /usr/local/lib/python3.11/dist-packages (from selenium) (2025.7.14)\n",
            "Requirement already satisfied: typing_extensions~=4.14.0 in /usr/local/lib/python3.11/dist-packages (from selenium) (4.14.1)\n",
            "Requirement already satisfied: websocket-client~=1.8.0 in /usr/local/lib/python3.11/dist-packages (from selenium) (1.8.0)\n",
            "Requirement already satisfied: attrs>=23.2.0 in /usr/local/lib/python3.11/dist-packages (from trio~=0.30.0->selenium) (25.3.0)\n",
            "Requirement already satisfied: sortedcontainers in /usr/local/lib/python3.11/dist-packages (from trio~=0.30.0->selenium) (2.4.0)\n",
            "Requirement already satisfied: idna in /usr/local/lib/python3.11/dist-packages (from trio~=0.30.0->selenium) (3.10)\n",
            "Collecting outcome (from trio~=0.30.0->selenium)\n",
            "  Downloading outcome-1.3.0.post0-py2.py3-none-any.whl.metadata (2.6 kB)\n",
            "Requirement already satisfied: sniffio>=1.3.0 in /usr/local/lib/python3.11/dist-packages (from trio~=0.30.0->selenium) (1.3.1)\n",
            "Collecting wsproto>=0.14 (from trio-websocket~=0.12.2->selenium)\n",
            "  Downloading wsproto-1.2.0-py3-none-any.whl.metadata (5.6 kB)\n",
            "Requirement already satisfied: pysocks!=1.5.7,<2.0,>=1.5.6 in /usr/local/lib/python3.11/dist-packages (from urllib3[socks]~=2.5.0->selenium) (1.7.1)\n",
            "Requirement already satisfied: h11<1,>=0.9.0 in /usr/local/lib/python3.11/dist-packages (from wsproto>=0.14->trio-websocket~=0.12.2->selenium) (0.16.0)\n",
            "Downloading selenium-4.34.2-py3-none-any.whl (9.4 MB)\n",
            "\u001b[2K   \u001b[90m━━━━━━━━━━━━━━━━━━━━━━━━━━━━━━━━━━━━━━━━\u001b[0m \u001b[32m9.4/9.4 MB\u001b[0m \u001b[31m42.7 MB/s\u001b[0m eta \u001b[36m0:00:00\u001b[0m\n",
            "\u001b[?25hDownloading trio-0.30.0-py3-none-any.whl (499 kB)\n",
            "\u001b[2K   \u001b[90m━━━━━━━━━━━━━━━━━━━━━━━━━━━━━━━━━━━━━━━━\u001b[0m \u001b[32m499.2/499.2 kB\u001b[0m \u001b[31m21.6 MB/s\u001b[0m eta \u001b[36m0:00:00\u001b[0m\n",
            "\u001b[?25hDownloading trio_websocket-0.12.2-py3-none-any.whl (21 kB)\n",
            "Downloading outcome-1.3.0.post0-py2.py3-none-any.whl (10 kB)\n",
            "Downloading wsproto-1.2.0-py3-none-any.whl (24 kB)\n",
            "Installing collected packages: wsproto, outcome, trio, trio-websocket, selenium\n",
            "Successfully installed outcome-1.3.0.post0 selenium-4.34.2 trio-0.30.0 trio-websocket-0.12.2 wsproto-1.2.0\n"
          ]
        }
      ]
    },
    {
      "cell_type": "code",
      "source": [
        "!pip install unidecode"
      ],
      "metadata": {
        "colab": {
          "base_uri": "https://localhost:8080/"
        },
        "collapsed": true,
        "id": "4T0F7kKcoSsL",
        "outputId": "e23f9461-c4bd-460f-c1d3-6d3e6ae6452f"
      },
      "id": "4T0F7kKcoSsL",
      "execution_count": 30,
      "outputs": [
        {
          "output_type": "stream",
          "name": "stdout",
          "text": [
            "Collecting unidecode\n",
            "  Downloading Unidecode-1.4.0-py3-none-any.whl.metadata (13 kB)\n",
            "Downloading Unidecode-1.4.0-py3-none-any.whl (235 kB)\n",
            "\u001b[?25l   \u001b[90m━━━━━━━━━━━━━━━━━━━━━━━━━━━━━━━━━━━━━━━━\u001b[0m \u001b[32m0.0/235.8 kB\u001b[0m \u001b[31m?\u001b[0m eta \u001b[36m-:--:--\u001b[0m\r\u001b[2K   \u001b[91m━━━━━━━━━━━━━━━━━━━━━━━━━━━━━\u001b[0m\u001b[91m╸\u001b[0m\u001b[90m━━━━━━━━━━\u001b[0m \u001b[32m174.1/235.8 kB\u001b[0m \u001b[31m5.0 MB/s\u001b[0m eta \u001b[36m0:00:01\u001b[0m\r\u001b[2K   \u001b[90m━━━━━━━━━━━━━━━━━━━━━━━━━━━━━━━━━━━━━━━━\u001b[0m \u001b[32m235.8/235.8 kB\u001b[0m \u001b[31m4.6 MB/s\u001b[0m eta \u001b[36m0:00:00\u001b[0m\n",
            "\u001b[?25hInstalling collected packages: unidecode\n",
            "Successfully installed unidecode-1.4.0\n"
          ]
        }
      ]
    },
    {
      "cell_type": "code",
      "source": [
        "from selenium import webdriver\n",
        "from selenium.webdriver.chrome.options import Options\n",
        "from selenium.webdriver.common.by import By\n",
        "from selenium import webdriver\n",
        "from selenium.webdriver.support.ui import WebDriverWait\n",
        "from selenium.webdriver.support import expected_conditions as EC\n",
        "import time\n",
        "import pandas as pd\n",
        "import tempfile\n",
        "import re\n",
        "import unidecode\n",
        "\n",
        "# Entity Matching\n",
        "from sklearn.feature_extraction.text import TfidfVectorizer\n",
        "from sklearn.metrics.pairwise import cosine_similarity\n",
        "\n",
        "import numpy as np"
      ],
      "metadata": {
        "id": "dai6xFoot-H7"
      },
      "id": "dai6xFoot-H7",
      "execution_count": 44,
      "outputs": []
    },
    {
      "metadata": {
        "id": "dfe7b08f6383a665"
      },
      "cell_type": "markdown",
      "source": [
        "## Part 1: CRUD Operations\n",
        "\n",
        "Either use SQLThunder or implement a class that supports the four basic CRUD operations: **Create, Read, Update, and Delete**.\n",
        "\n",
        "SQLThunder docs: https://sqlthunder.readthedocs.io/en/latest/"
      ],
      "id": "dfe7b08f6383a665"
    },
    {
      "metadata": {
        "id": "54b9ac4809574c98"
      },
      "cell_type": "code",
      "outputs": [],
      "execution_count": 4,
      "source": [
        "# Class implementation or SQLThunder DBClient initialization\n",
        "\n",
        "class CRUDOperations:\n",
        "    def __init__(self, db_file):\n",
        "        \"\"\"Initialize the database connection\"\"\"\n",
        "        self.db_file = db_file\n",
        "        self.conn = None\n",
        "        try:\n",
        "            self.conn = sqlite3.connect(db_file)\n",
        "        except Error as e:\n",
        "            print(e)\n",
        "\n",
        "    def create_table(self):\n",
        "        \"\"\"Create a table for demonstration\"\"\"\n",
        "        sql_create_table = \"\"\"CREATE TABLE IF NOT EXISTS Products (\n",
        "                                id integer PRIMARY KEY,\n",
        "                                name text NOT NULL\n",
        "                            );\"\"\"\n",
        "        try:\n",
        "            c = self.conn.cursor()\n",
        "            c.execute(sql_create_table)\n",
        "        except Error as e:\n",
        "            print(e)\n",
        "\n",
        "    def create(self, name):\n",
        "        \"\"\"Create a new product\"\"\"\n",
        "        sql = '''INSERT INTO Products(name)\n",
        "                 VALUES(?)'''\n",
        "        cur = self.conn.cursor()\n",
        "        cur.execute(sql, (name,))\n",
        "        self.conn.commit()\n",
        "        return cur.lastrowid\n",
        "\n",
        "    def read(self):\n",
        "        \"\"\"Query all rows in the Products table\"\"\"\n",
        "        cur = self.conn.cursor()\n",
        "        cur.execute(\"SELECT * FROM Products\")\n",
        "        rows = cur.fetchall()\n",
        "        return rows\n",
        "\n",
        "    def update(self, product_id, name):\n",
        "        \"\"\"Update name of a product\"\"\"\n",
        "        sql = '''UPDATE Products\n",
        "                 SET name = ?\n",
        "                 WHERE id = ?'''\n",
        "        cur = self.conn.cursor()\n",
        "        cur.execute(sql, (name, product_id))\n",
        "        self.conn.commit()\n",
        "\n",
        "    def delete(self, product_id):\n",
        "        \"\"\"Delete a product by id\"\"\"\n",
        "        sql = 'DELETE FROM Products WHERE id=?'\n",
        "        cur = self.conn.cursor()\n",
        "        cur.execute(sql, (product_id,))\n",
        "        self.conn.commit()\n",
        "\n",
        "    def __del__(self):\n",
        "        \"\"\"Destructor to close the database connection\"\"\"\n",
        "        if self.conn:\n",
        "            self.conn.close()\n",
        "    def drop_table(self):\n",
        "      sql = \"DROP TABLE IF EXISTS Products\"\n",
        "      cur = self.conn.cursor()\n",
        "      cur.execute(sql)\n",
        "      self.conn.commit()"
      ],
      "id": "54b9ac4809574c98"
    },
    {
      "metadata": {
        "id": "5a698bd3c953ddd5"
      },
      "cell_type": "markdown",
      "source": [
        "Create a simple table for demonstration purposes, and perform the four operations using just one row (the content is up to you)"
      ],
      "id": "5a698bd3c953ddd5"
    },
    {
      "metadata": {
        "id": "cc0c46f6a0b91a4f"
      },
      "cell_type": "code",
      "outputs": [],
      "execution_count": 5,
      "source": [
        "# Create table\n",
        "db_file = 'demo_database.db'\n",
        "crud = CRUDOperations(db_file)\n",
        "crud.drop_table()\n",
        "crud.create_table()"
      ],
      "id": "cc0c46f6a0b91a4f"
    },
    {
      "metadata": {
        "colab": {
          "base_uri": "https://localhost:8080/"
        },
        "id": "6a31dd4d5e93d3ae",
        "outputId": "5603c034-f3bc-4393-9aa3-c32fd2342684"
      },
      "cell_type": "code",
      "outputs": [
        {
          "output_type": "stream",
          "name": "stdout",
          "text": [
            "Created product with ID: 1\n"
          ]
        }
      ],
      "execution_count": 6,
      "source": [
        "# Create operation (i.e. insert)\n",
        "product_id = crud.create(\"Sample Product\")\n",
        "print(f\"Created product with ID: {product_id}\")"
      ],
      "id": "6a31dd4d5e93d3ae"
    },
    {
      "metadata": {
        "colab": {
          "base_uri": "https://localhost:8080/"
        },
        "id": "c65075d697bc4aaf",
        "outputId": "6db41d76-70df-49fe-fd86-11d40ecfa5d9"
      },
      "cell_type": "code",
      "outputs": [
        {
          "output_type": "stream",
          "name": "stdout",
          "text": [
            "Products in database:\n",
            "(1, 'Sample Product')\n"
          ]
        }
      ],
      "execution_count": 7,
      "source": [
        "# Read operation\n",
        "products = crud.read()\n",
        "print(\"Products in database:\")\n",
        "for product in products:\n",
        "    print(product)"
      ],
      "id": "c65075d697bc4aaf"
    },
    {
      "metadata": {
        "colab": {
          "base_uri": "https://localhost:8080/"
        },
        "id": "f1a3ef24d38c861d",
        "outputId": "09e0e052-23aa-4c56-cfe6-f3c09c2ca2c6"
      },
      "cell_type": "code",
      "outputs": [
        {
          "output_type": "stream",
          "name": "stdout",
          "text": [
            "Product updated.\n",
            "Products in database after update:\n",
            "(1, 'Sample Product')\n"
          ]
        }
      ],
      "execution_count": 8,
      "source": [
        "# Update operation\n",
        "crud.update(2, \"Updated Product\")\n",
        "print(\"Product updated.\")\n",
        "products = crud.read()\n",
        "print(\"Products in database after update:\")\n",
        "for product in products:\n",
        "    print(product)"
      ],
      "id": "f1a3ef24d38c861d"
    },
    {
      "metadata": {
        "colab": {
          "base_uri": "https://localhost:8080/"
        },
        "id": "d4fbc1260d482475",
        "outputId": "7bb8db2c-515e-4d64-bd82-e47371f7ca55"
      },
      "cell_type": "code",
      "outputs": [
        {
          "output_type": "stream",
          "name": "stdout",
          "text": [
            "Product deleted.\n",
            "Products in database after deletion:\n"
          ]
        }
      ],
      "execution_count": 9,
      "source": [
        "# Delete operation\n",
        "crud.delete(1)\n",
        "print(\"Product deleted.\")\n",
        "products = crud.read()\n",
        "print(\"Products in database after deletion:\")\n",
        "for product in products:\n",
        "    print(product)"
      ],
      "id": "d4fbc1260d482475"
    },
    {
      "metadata": {
        "id": "f1f591b3fbd22c34"
      },
      "cell_type": "markdown",
      "source": [
        "## Part 2: Web Scraping\n",
        "\n",
        "Scrape data from profumeriaideale.com website for Valmont.\n",
        "\n",
        "**Note**: Selenium is cool ;)"
      ],
      "id": "f1f591b3fbd22c34"
    },
    {
      "cell_type": "code",
      "source": [
        "# temporary directory for user data\n",
        "temp_profile = tempfile.mkdtemp()\n",
        "\n",
        "options = Options()\n",
        "options.add_argument('--headless')  # Exécuter en mode headless\n",
        "options.add_argument('--no-sandbox')\n",
        "options.add_argument('--disable-dev-shm-usage')\n",
        "\n",
        "driver = webdriver.Chrome(options=options)"
      ],
      "metadata": {
        "id": "Z-ktGjCCuDzU"
      },
      "id": "Z-ktGjCCuDzU",
      "execution_count": 10,
      "outputs": []
    },
    {
      "cell_type": "code",
      "source": [
        "def scrape_valmont_page(url):\n",
        "    driver = webdriver.Chrome(options=options)\n",
        "    driver.get(url)\n",
        "\n",
        "    wait = WebDriverWait(driver, 10)\n",
        "    try:\n",
        "        products = wait.until(EC.presence_of_all_elements_located((By.CSS_SELECTOR, 'article.product-miniature')))\n",
        "    except:\n",
        "        print(\"No product found or timeout\")\n",
        "        driver.quit()\n",
        "        return []\n",
        "\n",
        "    data = []\n",
        "    for prod in products:\n",
        "        try:\n",
        "            title_elem = prod.find_element(By.CSS_SELECTOR, 'h2.product-title a')\n",
        "            product_name = title_elem.text\n",
        "            # product_url = title_elem.get_attribute('href')\n",
        "            capacity_match = re.search(r'(\\d+\\s?ml)', product_name, re.IGNORECASE)\n",
        "            capacity = capacity_match.group(1) if capacity_match else None\n",
        "\n",
        "            data.append({\n",
        "                'product_name': product_name,\n",
        "                'capacity': capacity,\n",
        "                # 'product_url': product_url\n",
        "            })\n",
        "        except Exception as e:\n",
        "            print(\"Error extracting the product:\", e)\n",
        "\n",
        "    driver.quit()\n",
        "    return data"
      ],
      "metadata": {
        "id": "VAwDyv41zwuQ"
      },
      "id": "VAwDyv41zwuQ",
      "execution_count": 11,
      "outputs": []
    },
    {
      "cell_type": "code",
      "source": [
        "all_products = []\n",
        "for page_num in range(1, 10):\n",
        "    url = f\"https://www.profumeriaideale.com/brand/190-valmont?page={page_num}\"\n",
        "    print(f\"Scraping page {page_num}: {url}\")\n",
        "    products = scrape_valmont_page(url)\n",
        "    if not products:\n",
        "        print(\"Empty page\")\n",
        "        break\n",
        "    all_products.extend(products)\n",
        "    time.sleep(2)\n",
        "\n",
        "print(f\"Total number of extracted products: {len(all_products)}\")"
      ],
      "metadata": {
        "colab": {
          "base_uri": "https://localhost:8080/"
        },
        "id": "MD-Q1SGFopxk",
        "outputId": "e1596e07-443e-4ba4-bec1-01907da1408e"
      },
      "id": "MD-Q1SGFopxk",
      "execution_count": 12,
      "outputs": [
        {
          "output_type": "stream",
          "name": "stdout",
          "text": [
            "Scraping page 1: https://www.profumeriaideale.com/brand/190-valmont?page=1\n",
            "Scraping page 2: https://www.profumeriaideale.com/brand/190-valmont?page=2\n",
            "Scraping page 3: https://www.profumeriaideale.com/brand/190-valmont?page=3\n",
            "Scraping page 4: https://www.profumeriaideale.com/brand/190-valmont?page=4\n",
            "Scraping page 5: https://www.profumeriaideale.com/brand/190-valmont?page=5\n",
            "No product found or timeout\n",
            "Empty page\n",
            "Total number of extracted products: 88\n"
          ]
        }
      ]
    },
    {
      "metadata": {
        "id": "281b2fcb228f1d8"
      },
      "cell_type": "code",
      "outputs": [],
      "execution_count": 13,
      "source": [
        "# More scraping ?\n"
      ],
      "id": "281b2fcb228f1d8"
    },
    {
      "metadata": {
        "id": "5f2765c7cdd06aa7"
      },
      "cell_type": "code",
      "outputs": [],
      "execution_count": 14,
      "source": [
        "# Even more scraping ?\n"
      ],
      "id": "5f2765c7cdd06aa7"
    },
    {
      "metadata": {
        "id": "6472e0fc53a15e50"
      },
      "cell_type": "markdown",
      "source": [
        "## Part 3: Cleaning and Inserting Data\n",
        "\n",
        "Visualizing data:\n"
      ],
      "id": "6472e0fc53a15e50"
    },
    {
      "metadata": {
        "colab": {
          "base_uri": "https://localhost:8080/"
        },
        "id": "df4ffbc910477558",
        "outputId": "8e89a7d8-d9d2-405a-864b-f36d4fe1c205"
      },
      "cell_type": "code",
      "outputs": [
        {
          "output_type": "execute_result",
          "data": {
            "text/plain": [
              "[{'product_name': 'Valmont Aqua Falls Acqua Struccante Istantanea 150 ml',\n",
              "  'capacity': '150 ml'},\n",
              " {'product_name': 'Valmont Bi-Falls 60 ml', 'capacity': '60 ml'},\n",
              " {'product_name': 'Valmont Blooming Ballet Eau De Toilette Donna 100ml',\n",
              "  'capacity': '100ml'},\n",
              " {'product_name': 'Valmont Body 24 Hour – Crema Corpo Anti-Aging 150 ml',\n",
              "  'capacity': '150 ml'},\n",
              " {'product_name': 'Valmont Bubble Falls Mousse Detergente Equilibrante 150 Ml',\n",
              "  'capacity': '150 Ml'},\n",
              " {'product_name': \"Valmont calendario dell'avvento holidays in neverland\",\n",
              "  'capacity': None},\n",
              " {'product_name': 'Valmont Collezione Privata Jazzy Twist Eau De Parfum Floral Gourmand Unisex 100 ml',\n",
              "  'capacity': '100 ml'},\n",
              " {'product_name': 'Valmont Collezione Privata Just Bloom Eau De Parfum 100 ml',\n",
              "  'capacity': '100 ml'},\n",
              " {'product_name': 'Valmont Collezione Privata Lady Code Eau De Parfum 100 ml',\n",
              "  'capacity': '100 ml'},\n",
              " {'product_name': 'Valmont Collezione Privata Private Mind Eau De Parfum Floral Leather Unisex 100 ml',\n",
              "  'capacity': '100 ml'},\n",
              " {'product_name': 'Valmont Deto2X Cream Crema Ossigenante Detossinante 45 Ml',\n",
              "  'capacity': '45 Ml'},\n",
              " {'product_name': 'Valmont Deto2X Eye Crema Contorno Occhi Vitalità 12 ml',\n",
              "  'capacity': '12 ml'},\n",
              " {'product_name': 'Valmont Deto2X Pack Bubble Mask Ossigenante 6 Pezzi Da 10 Ml',\n",
              "  'capacity': '10 Ml'},\n",
              " {'product_name': 'Valmont Eau De Toilette 100 ml Palazzo Nobile Cutie',\n",
              "  'capacity': '100 ml'},\n",
              " {'product_name': 'Valmont Elixir Serum Precieux 30 ml', 'capacity': '30 ml'},\n",
              " {'product_name': 'Valmont Eye Instant Stress Relieving Mask Box Patch Occhi Levigante 1 Pezzo',\n",
              "  'capacity': None},\n",
              " {'product_name': 'Valmont Eye Instant Stress Relieving Mask Box Patch Occhi Levigante 5 Pezzi',\n",
              "  'capacity': None},\n",
              " {'product_name': 'Valmont Eye Regenerating Mask Treatment Maschera Occhi Al Collagene 5 Pezzi',\n",
              "  'capacity': None},\n",
              " {'product_name': 'Valmont Face Exfoliant Crema Esfoliante Rivitalizzante 50 Ml',\n",
              "  'capacity': '50 Ml'},\n",
              " {'product_name': 'Valmont Fizzy Mint Eau De Toilette Donna 100ml',\n",
              "  'capacity': '100ml'},\n",
              " {'product_name': 'Valmont Fluid Falls Latte Detergente Struccante 150 Ml',\n",
              "  'capacity': '150 Ml'},\n",
              " {'product_name': 'Valmont Hair & Scalp Cellular Treatment Trattamento Intensivo Anticaduta 6 Duo',\n",
              "  'capacity': None},\n",
              " {'product_name': 'Valmont Hair Repair Regenerating Cleanser 150ml',\n",
              "  'capacity': '150ml'},\n",
              " {'product_name': 'Valmont Hand 24 Hour Trattamento Mani Antietà 75 ml',\n",
              "  'capacity': '75 ml'},\n",
              " {'product_name': 'Valmont Hand Moistrurizing Cream 100', 'capacity': None},\n",
              " {'product_name': 'Valmont Hydra3 Eye Emulsione Per Il Contorno Occhi 15 ml',\n",
              "  'capacity': '15 ml'},\n",
              " {'product_name': 'Valmont Hydra3 Regenetic Crema Idratante Anti Età 50 ml',\n",
              "  'capacity': '50 ml'},\n",
              " {'product_name': 'Valmont Hydra3 Regenetic Serum Siero Anti-Età Attivatore D’idratazione 30 ml',\n",
              "  'capacity': '30 ml'},\n",
              " {'product_name': 'Valmont Icy Falls Gelatina Struccante Rinfrescante 100 Ml',\n",
              "  'capacity': '100 Ml'},\n",
              " {'product_name': \"Valmont L'elixir Des Glaciers Crème Merveilleuse Crema Rigenerante Viso 50 ml\",\n",
              "  'capacity': '50 ml'},\n",
              " {'product_name': \"Valmont L'elixir Des Glaciers Merveilleux Pre-Siero Illuminante 100 Ml\",\n",
              "  'capacity': '100 Ml'},\n",
              " {'product_name': \"Valmont L'elixir Des Glaciers Sérum Majestueux Vos Yeux Siero Contorno Occhi Levigante...\",\n",
              "  'capacity': None},\n",
              " {'product_name': \"Valmont L'elixir Des Glaciers Vos Yeux Crema Contorno Occhi 15 Ml\",\n",
              "  'capacity': '15 Ml'},\n",
              " {'product_name': \"Valmont L'elixir Des Glaciers Votre Visage Crema Liftante 50 Ml\",\n",
              "  'capacity': '50 Ml'},\n",
              " {'product_name': 'Valmont Lumicity Trattamento Anti-Age Illuminante Spf50 - 30ml',\n",
              "  'capacity': '30ml'},\n",
              " {'product_name': 'Valmont Lumicream Crema Effetto Pelle Sana Illuminante 50 Ml',\n",
              "  'capacity': '50 Ml'},\n",
              " {'product_name': 'Valmont Lumimask Maschera Esfoliante Rinnovatrice 50 Ml',\n",
              "  'capacity': '50 Ml'},\n",
              " {'product_name': 'Valmont Lumipeel Lozione Peeling Esaltatrice Della Luminosità 150 ml',\n",
              "  'capacity': '150 ml'},\n",
              " {'product_name': 'Valmont Lumisence 30 ml', 'capacity': '30 ml'},\n",
              " {'product_name': 'Valmont Majestueux Cure Visage siero 12,5 ml',\n",
              "  'capacity': '5 ml'},\n",
              " {'product_name': 'Valmont Masque Majestueux Votre Visage Maschera Rigenerante Nutriente 150 Ml',\n",
              "  'capacity': '150 Ml'},\n",
              " {'product_name': 'Valmont Moisturizing Booster Siero Idratante Rimpolpante 20 ml',\n",
              "  'capacity': '20 ml'},\n",
              " {'product_name': 'Valmont Moisturizing Serumulsion Emulsione Idratante 30 Ml',\n",
              "  'capacity': '30 Ml'},\n",
              " {'product_name': 'Valmont Moisturizing With A Cream Crema Idratante 24H 50 Ml',\n",
              "  'capacity': '50 Ml'},\n",
              " {'product_name': 'Valmont Moisturizing With A Mask Maschera Idratante Istantanea 50 Ml',\n",
              "  'capacity': '50 Ml'},\n",
              " {'product_name': 'Valmont Palazzo Nobile Bright Poppy Eau De Toilette Floral Citrus Unisex 100 ml',\n",
              "  'capacity': '100 ml'},\n",
              " {'product_name': 'Valmont Palazzo Nobile Casanova 2161 Eau De Toilette Woody Aromatic Unisex 100 ml',\n",
              "  'capacity': '100 ml'},\n",
              " {'product_name': 'Valmont Palazzo Nobile Satin Musk Eau De Toilette Floral Musky Unisex 100 ml',\n",
              "  'capacity': '100 ml'},\n",
              " {'product_name': 'Valmont Palazzo Nobile Secret Bamboo Eau De Toilette Floral Green Powdery Unisex 100 ml',\n",
              "  'capacity': '100 ml'},\n",
              " {'product_name': 'Valmont Perfecting Powder Cream Fondotinta Idratante',\n",
              "  'capacity': None},\n",
              " {'product_name': 'Valmont Primary Cream Crema Lenitiva Essenziale 50 Ml',\n",
              "  'capacity': '50 Ml'},\n",
              " {'product_name': 'Valmont Primary Pomade Balsamo Ricco Riparatore 50 Ml',\n",
              "  'capacity': '50 Ml'},\n",
              " {'product_name': 'Valmont Primary Serum Siero Riparatore Essenziale 30 Ml',\n",
              "  'capacity': '30 Ml'},\n",
              " {'product_name': 'Valmont Primary Solution Siero Per Il Trattamento Delle Imperfezioni 20 Ml',\n",
              "  'capacity': '20 Ml'},\n",
              " {'product_name': 'Valmont Primary Veil Soluzione Spray Preparatoria Protettiva 150 Ml',\n",
              "  'capacity': '150 Ml'},\n",
              " {'product_name': 'Valmont Prime 24 Hour Crema Energizzante E Idratante 50 Ml',\n",
              "  'capacity': '50 Ml'},\n",
              " {'product_name': 'Valmont Prime B-Cellular Siero Anti-Età Cellulare Energizzante 30 ml',\n",
              "  'capacity': '30 ml'},\n",
              " {'product_name': 'Valmont Prime Contour Trattamento Correttivo Contorno Occhi E Labbra 15 M',\n",
              "  'capacity': None},\n",
              " {'product_name': 'Valmont Prime Lip Repair Trattamento Labbra Riparatore 15 ml',\n",
              "  'capacity': '15 ml'},\n",
              " {'product_name': 'Valmont Prime Regenera I Crema Energizzante 50 Ml',\n",
              "  'capacity': '50 Ml'},\n",
              " {'product_name': 'Valmont Prime Regenera Ii Balsamo Riparatore Nutriente Intensivo 50 Ml',\n",
              "  'capacity': '50 Ml'},\n",
              " {'product_name': 'Valmont Prime Renewing Pack Machera Viso Antiage 75 Ml',\n",
              "  'capacity': '75 Ml'},\n",
              " {'product_name': 'Valmont Priming With A Hydrating Fluid Primer Idratante Istantaneo 150 Ml',\n",
              "  'capacity': '150 Ml'},\n",
              " {'product_name': \"Valmont Purifying Pack Maschera Purificante All'argilla 50 Ml\",\n",
              "  'capacity': '50 Ml'},\n",
              " {'product_name': 'Valmont Recovering Mask 200 ml', 'capacity': '200 ml'},\n",
              " {'product_name': 'Valmont Regenerating Mask Maschera Idratante Viso 1 Pezzo',\n",
              "  'capacity': None},\n",
              " {'product_name': 'Valmont Regenerating Mask Maschera Idratante Viso 5 Pezzi',\n",
              "  'capacity': None},\n",
              " {'product_name': 'Valmont Restoring Perfection Spf 50 Crema Ad Alta Protezione Uva/Uvb 30ml',\n",
              "  'capacity': '30ml'},\n",
              " {'product_name': 'Valmont Sea Bliss Eau De Toilette 100 ml',\n",
              "  'capacity': '100 ml'},\n",
              " {'product_name': 'Valmont Storie Veneziane Alessandrite I Extrait De Parfum Aldehydic Floral Unisex...',\n",
              "  'capacity': None},\n",
              " {'product_name': \"Valmont Storie Veneziane Alessandrite I'Extrait De Parfum Aldehydic 100 ml\",\n",
              "  'capacity': '100 ml'},\n",
              " {'product_name': 'Valmont Storie Veneziane Blu Cobalto I Extrait De Parfum Gourmand Oriental Unisex 100 ml',\n",
              "  'capacity': '100 ml'},\n",
              " {'product_name': 'Valmont Storie Veneziane Gaggia Medio I Extrait De Parfum 100 ml',\n",
              "  'capacity': '100 ml'},\n",
              " {'product_name': \"Valmont Storie Veneziane Mica D'oro I Extrait De Parfum Oriental Gourmand Unisex 100 ml\",\n",
              "  'capacity': '100 ml'},\n",
              " {'product_name': 'Valmont Storie Veneziane Rosso I Extrait De Parfum Floral Oriental Unisex 100 ml',\n",
              "  'capacity': '100 ml'},\n",
              " {'product_name': \"Valmont Storie Veneziane Verde Erba I'Extrait De Parfum 100 ml\",\n",
              "  'capacity': '100 ml'},\n",
              " {'product_name': 'Valmont Storie Veneziane Zafferano I Extrait De Parfum Floral-Oriental Especiado Unisex...',\n",
              "  'capacity': None},\n",
              " {'product_name': 'Valmont V-Firm Cream Crema Viso Densificante 50 Ml',\n",
              "  'capacity': '50 Ml'},\n",
              " {'product_name': 'Valmont V-Firm Eye Crema Rassodante Per Contorno Occhi 15 ml',\n",
              "  'capacity': '15 ml'},\n",
              " {'product_name': 'Valmont V-Firm Serum Correttore Tonicità E Contorno 30 ml',\n",
              "  'capacity': '30 ml'},\n",
              " {'product_name': 'Valmont V-Line Lifting Concentrate Siero Antirughe E Anti Linee Sottili 30 Ml',\n",
              "  'capacity': '30 Ml'},\n",
              " {'product_name': 'Valmont V-Line Lifting Cream Crema Antirughe Correttiva E Levigante 50 Ml',\n",
              "  'capacity': '50 Ml'},\n",
              " {'product_name': 'Valmont V-Line Lifting Eye Cream Crema Contorno Occhi Levigante 15 ml',\n",
              "  'capacity': '15 ml'},\n",
              " {'product_name': 'Valmont V-Neck Cream Crema Levigante Collo E Décolleté 50 ml',\n",
              "  'capacity': '50 ml'},\n",
              " {'product_name': 'Valmont Vital 24 Hour Light Crema Viso Rivitalizzante 50 Ml',\n",
              "  'capacity': '50 Ml'},\n",
              " {'product_name': 'Valmont Vital B. Fluid Fluido Rivitalizzante Viso 50 Ml',\n",
              "  'capacity': '50 Ml'},\n",
              " {'product_name': 'Valmont Vital Falls Tonico Addolcente Rivitalizzante 150 Ml',\n",
              "  'capacity': '150 Ml'},\n",
              " {'product_name': 'Valmont Wonder Falls Crema Detergente Nutriente 100 ml',\n",
              "  'capacity': '100 ml'}]"
            ]
          },
          "metadata": {},
          "execution_count": 15
        }
      ],
      "execution_count": 15,
      "source": [
        "# Visualizing\n",
        "all_products"
      ],
      "id": "df4ffbc910477558"
    },
    {
      "metadata": {
        "id": "d617aad9ada9e707"
      },
      "cell_type": "code",
      "outputs": [],
      "execution_count": 16,
      "source": [
        "# Cleaning\n",
        "def clean_capacity(capacity):\n",
        "    if capacity is None:\n",
        "        return None\n",
        "    cleaned = capacity.strip().lower().replace(' ', '')\n",
        "    # Corriger les fautes typiques (ex : 'ml', 'ML', 'Ml')\n",
        "    if 'ml' in cleaned:\n",
        "        return cleaned.replace('ml', '') + ' ml'\n",
        "    return cleaned\n",
        "\n",
        "def clean_product_name(name):\n",
        "    name = name.strip()\n",
        "    name = re.sub(r'\\s+', ' ', name)  # multiple spaces\n",
        "    name = re.sub(r'\\bml\\b', 'ml', name, flags=re.IGNORECASE)  # mL'\n",
        "    name = re.sub(r'\\s+ml', ' ml', name, flags=re.IGNORECASE)\n",
        "    name = name.rstrip(' .')  # erase ponctuation\n",
        "    return name\n"
      ],
      "id": "d617aad9ada9e707"
    },
    {
      "cell_type": "code",
      "source": [
        "cleaned_products = []\n",
        "\n",
        "for item in all_products:  # raw_products = ton dict original\n",
        "    cleaned = {\n",
        "        'product_name': clean_product_name(item['product_name']),\n",
        "        'capacity': clean_capacity(item['capacity'])\n",
        "    }\n",
        "    cleaned_products.append(cleaned)"
      ],
      "metadata": {
        "id": "UhpLyzbZsrre"
      },
      "id": "UhpLyzbZsrre",
      "execution_count": 17,
      "outputs": []
    },
    {
      "cell_type": "code",
      "source": [
        "cleaned_products"
      ],
      "metadata": {
        "colab": {
          "base_uri": "https://localhost:8080/"
        },
        "collapsed": true,
        "id": "3uwkuqMgsupf",
        "outputId": "264ebbe3-bc1e-4187-a388-58720aa75485"
      },
      "id": "3uwkuqMgsupf",
      "execution_count": 18,
      "outputs": [
        {
          "output_type": "execute_result",
          "data": {
            "text/plain": [
              "[{'product_name': 'Valmont Aqua Falls Acqua Struccante Istantanea 150 ml',\n",
              "  'capacity': '150 ml'},\n",
              " {'product_name': 'Valmont Bi-Falls 60 ml', 'capacity': '60 ml'},\n",
              " {'product_name': 'Valmont Blooming Ballet Eau De Toilette Donna 100ml',\n",
              "  'capacity': '100 ml'},\n",
              " {'product_name': 'Valmont Body 24 Hour – Crema Corpo Anti-Aging 150 ml',\n",
              "  'capacity': '150 ml'},\n",
              " {'product_name': 'Valmont Bubble Falls Mousse Detergente Equilibrante 150 ml',\n",
              "  'capacity': '150 ml'},\n",
              " {'product_name': \"Valmont calendario dell'avvento holidays in neverland\",\n",
              "  'capacity': None},\n",
              " {'product_name': 'Valmont Collezione Privata Jazzy Twist Eau De Parfum Floral Gourmand Unisex 100 ml',\n",
              "  'capacity': '100 ml'},\n",
              " {'product_name': 'Valmont Collezione Privata Just Bloom Eau De Parfum 100 ml',\n",
              "  'capacity': '100 ml'},\n",
              " {'product_name': 'Valmont Collezione Privata Lady Code Eau De Parfum 100 ml',\n",
              "  'capacity': '100 ml'},\n",
              " {'product_name': 'Valmont Collezione Privata Private Mind Eau De Parfum Floral Leather Unisex 100 ml',\n",
              "  'capacity': '100 ml'},\n",
              " {'product_name': 'Valmont Deto2X Cream Crema Ossigenante Detossinante 45 ml',\n",
              "  'capacity': '45 ml'},\n",
              " {'product_name': 'Valmont Deto2X Eye Crema Contorno Occhi Vitalità 12 ml',\n",
              "  'capacity': '12 ml'},\n",
              " {'product_name': 'Valmont Deto2X Pack Bubble Mask Ossigenante 6 Pezzi Da 10 ml',\n",
              "  'capacity': '10 ml'},\n",
              " {'product_name': 'Valmont Eau De Toilette 100 ml Palazzo Nobile Cutie',\n",
              "  'capacity': '100 ml'},\n",
              " {'product_name': 'Valmont Elixir Serum Precieux 30 ml', 'capacity': '30 ml'},\n",
              " {'product_name': 'Valmont Eye Instant Stress Relieving Mask Box Patch Occhi Levigante 1 Pezzo',\n",
              "  'capacity': None},\n",
              " {'product_name': 'Valmont Eye Instant Stress Relieving Mask Box Patch Occhi Levigante 5 Pezzi',\n",
              "  'capacity': None},\n",
              " {'product_name': 'Valmont Eye Regenerating Mask Treatment Maschera Occhi Al Collagene 5 Pezzi',\n",
              "  'capacity': None},\n",
              " {'product_name': 'Valmont Face Exfoliant Crema Esfoliante Rivitalizzante 50 ml',\n",
              "  'capacity': '50 ml'},\n",
              " {'product_name': 'Valmont Fizzy Mint Eau De Toilette Donna 100ml',\n",
              "  'capacity': '100 ml'},\n",
              " {'product_name': 'Valmont Fluid Falls Latte Detergente Struccante 150 ml',\n",
              "  'capacity': '150 ml'},\n",
              " {'product_name': 'Valmont Hair & Scalp Cellular Treatment Trattamento Intensivo Anticaduta 6 Duo',\n",
              "  'capacity': None},\n",
              " {'product_name': 'Valmont Hair Repair Regenerating Cleanser 150ml',\n",
              "  'capacity': '150 ml'},\n",
              " {'product_name': 'Valmont Hand 24 Hour Trattamento Mani Antietà 75 ml',\n",
              "  'capacity': '75 ml'},\n",
              " {'product_name': 'Valmont Hand Moistrurizing Cream 100', 'capacity': None},\n",
              " {'product_name': 'Valmont Hydra3 Eye Emulsione Per Il Contorno Occhi 15 ml',\n",
              "  'capacity': '15 ml'},\n",
              " {'product_name': 'Valmont Hydra3 Regenetic Crema Idratante Anti Età 50 ml',\n",
              "  'capacity': '50 ml'},\n",
              " {'product_name': 'Valmont Hydra3 Regenetic Serum Siero Anti-Età Attivatore D’idratazione 30 ml',\n",
              "  'capacity': '30 ml'},\n",
              " {'product_name': 'Valmont Icy Falls Gelatina Struccante Rinfrescante 100 ml',\n",
              "  'capacity': '100 ml'},\n",
              " {'product_name': \"Valmont L'elixir Des Glaciers Crème Merveilleuse Crema Rigenerante Viso 50 ml\",\n",
              "  'capacity': '50 ml'},\n",
              " {'product_name': \"Valmont L'elixir Des Glaciers Merveilleux Pre-Siero Illuminante 100 ml\",\n",
              "  'capacity': '100 ml'},\n",
              " {'product_name': \"Valmont L'elixir Des Glaciers Sérum Majestueux Vos Yeux Siero Contorno Occhi Levigante\",\n",
              "  'capacity': None},\n",
              " {'product_name': \"Valmont L'elixir Des Glaciers Vos Yeux Crema Contorno Occhi 15 ml\",\n",
              "  'capacity': '15 ml'},\n",
              " {'product_name': \"Valmont L'elixir Des Glaciers Votre Visage Crema Liftante 50 ml\",\n",
              "  'capacity': '50 ml'},\n",
              " {'product_name': 'Valmont Lumicity Trattamento Anti-Age Illuminante Spf50 - 30ml',\n",
              "  'capacity': '30 ml'},\n",
              " {'product_name': 'Valmont Lumicream Crema Effetto Pelle Sana Illuminante 50 ml',\n",
              "  'capacity': '50 ml'},\n",
              " {'product_name': 'Valmont Lumimask Maschera Esfoliante Rinnovatrice 50 ml',\n",
              "  'capacity': '50 ml'},\n",
              " {'product_name': 'Valmont Lumipeel Lozione Peeling Esaltatrice Della Luminosità 150 ml',\n",
              "  'capacity': '150 ml'},\n",
              " {'product_name': 'Valmont Lumisence 30 ml', 'capacity': '30 ml'},\n",
              " {'product_name': 'Valmont Majestueux Cure Visage siero 12,5 ml',\n",
              "  'capacity': '5 ml'},\n",
              " {'product_name': 'Valmont Masque Majestueux Votre Visage Maschera Rigenerante Nutriente 150 ml',\n",
              "  'capacity': '150 ml'},\n",
              " {'product_name': 'Valmont Moisturizing Booster Siero Idratante Rimpolpante 20 ml',\n",
              "  'capacity': '20 ml'},\n",
              " {'product_name': 'Valmont Moisturizing Serumulsion Emulsione Idratante 30 ml',\n",
              "  'capacity': '30 ml'},\n",
              " {'product_name': 'Valmont Moisturizing With A Cream Crema Idratante 24H 50 ml',\n",
              "  'capacity': '50 ml'},\n",
              " {'product_name': 'Valmont Moisturizing With A Mask Maschera Idratante Istantanea 50 ml',\n",
              "  'capacity': '50 ml'},\n",
              " {'product_name': 'Valmont Palazzo Nobile Bright Poppy Eau De Toilette Floral Citrus Unisex 100 ml',\n",
              "  'capacity': '100 ml'},\n",
              " {'product_name': 'Valmont Palazzo Nobile Casanova 2161 Eau De Toilette Woody Aromatic Unisex 100 ml',\n",
              "  'capacity': '100 ml'},\n",
              " {'product_name': 'Valmont Palazzo Nobile Satin Musk Eau De Toilette Floral Musky Unisex 100 ml',\n",
              "  'capacity': '100 ml'},\n",
              " {'product_name': 'Valmont Palazzo Nobile Secret Bamboo Eau De Toilette Floral Green Powdery Unisex 100 ml',\n",
              "  'capacity': '100 ml'},\n",
              " {'product_name': 'Valmont Perfecting Powder Cream Fondotinta Idratante',\n",
              "  'capacity': None},\n",
              " {'product_name': 'Valmont Primary Cream Crema Lenitiva Essenziale 50 ml',\n",
              "  'capacity': '50 ml'},\n",
              " {'product_name': 'Valmont Primary Pomade Balsamo Ricco Riparatore 50 ml',\n",
              "  'capacity': '50 ml'},\n",
              " {'product_name': 'Valmont Primary Serum Siero Riparatore Essenziale 30 ml',\n",
              "  'capacity': '30 ml'},\n",
              " {'product_name': 'Valmont Primary Solution Siero Per Il Trattamento Delle Imperfezioni 20 ml',\n",
              "  'capacity': '20 ml'},\n",
              " {'product_name': 'Valmont Primary Veil Soluzione Spray Preparatoria Protettiva 150 ml',\n",
              "  'capacity': '150 ml'},\n",
              " {'product_name': 'Valmont Prime 24 Hour Crema Energizzante E Idratante 50 ml',\n",
              "  'capacity': '50 ml'},\n",
              " {'product_name': 'Valmont Prime B-Cellular Siero Anti-Età Cellulare Energizzante 30 ml',\n",
              "  'capacity': '30 ml'},\n",
              " {'product_name': 'Valmont Prime Contour Trattamento Correttivo Contorno Occhi E Labbra 15 M',\n",
              "  'capacity': None},\n",
              " {'product_name': 'Valmont Prime Lip Repair Trattamento Labbra Riparatore 15 ml',\n",
              "  'capacity': '15 ml'},\n",
              " {'product_name': 'Valmont Prime Regenera I Crema Energizzante 50 ml',\n",
              "  'capacity': '50 ml'},\n",
              " {'product_name': 'Valmont Prime Regenera Ii Balsamo Riparatore Nutriente Intensivo 50 ml',\n",
              "  'capacity': '50 ml'},\n",
              " {'product_name': 'Valmont Prime Renewing Pack Machera Viso Antiage 75 ml',\n",
              "  'capacity': '75 ml'},\n",
              " {'product_name': 'Valmont Priming With A Hydrating Fluid Primer Idratante Istantaneo 150 ml',\n",
              "  'capacity': '150 ml'},\n",
              " {'product_name': \"Valmont Purifying Pack Maschera Purificante All'argilla 50 ml\",\n",
              "  'capacity': '50 ml'},\n",
              " {'product_name': 'Valmont Recovering Mask 200 ml', 'capacity': '200 ml'},\n",
              " {'product_name': 'Valmont Regenerating Mask Maschera Idratante Viso 1 Pezzo',\n",
              "  'capacity': None},\n",
              " {'product_name': 'Valmont Regenerating Mask Maschera Idratante Viso 5 Pezzi',\n",
              "  'capacity': None},\n",
              " {'product_name': 'Valmont Restoring Perfection Spf 50 Crema Ad Alta Protezione Uva/Uvb 30ml',\n",
              "  'capacity': '30 ml'},\n",
              " {'product_name': 'Valmont Sea Bliss Eau De Toilette 100 ml',\n",
              "  'capacity': '100 ml'},\n",
              " {'product_name': 'Valmont Storie Veneziane Alessandrite I Extrait De Parfum Aldehydic Floral Unisex',\n",
              "  'capacity': None},\n",
              " {'product_name': \"Valmont Storie Veneziane Alessandrite I'Extrait De Parfum Aldehydic 100 ml\",\n",
              "  'capacity': '100 ml'},\n",
              " {'product_name': 'Valmont Storie Veneziane Blu Cobalto I Extrait De Parfum Gourmand Oriental Unisex 100 ml',\n",
              "  'capacity': '100 ml'},\n",
              " {'product_name': 'Valmont Storie Veneziane Gaggia Medio I Extrait De Parfum 100 ml',\n",
              "  'capacity': '100 ml'},\n",
              " {'product_name': \"Valmont Storie Veneziane Mica D'oro I Extrait De Parfum Oriental Gourmand Unisex 100 ml\",\n",
              "  'capacity': '100 ml'},\n",
              " {'product_name': 'Valmont Storie Veneziane Rosso I Extrait De Parfum Floral Oriental Unisex 100 ml',\n",
              "  'capacity': '100 ml'},\n",
              " {'product_name': \"Valmont Storie Veneziane Verde Erba I'Extrait De Parfum 100 ml\",\n",
              "  'capacity': '100 ml'},\n",
              " {'product_name': 'Valmont Storie Veneziane Zafferano I Extrait De Parfum Floral-Oriental Especiado Unisex',\n",
              "  'capacity': None},\n",
              " {'product_name': 'Valmont V-Firm Cream Crema Viso Densificante 50 ml',\n",
              "  'capacity': '50 ml'},\n",
              " {'product_name': 'Valmont V-Firm Eye Crema Rassodante Per Contorno Occhi 15 ml',\n",
              "  'capacity': '15 ml'},\n",
              " {'product_name': 'Valmont V-Firm Serum Correttore Tonicità E Contorno 30 ml',\n",
              "  'capacity': '30 ml'},\n",
              " {'product_name': 'Valmont V-Line Lifting Concentrate Siero Antirughe E Anti Linee Sottili 30 ml',\n",
              "  'capacity': '30 ml'},\n",
              " {'product_name': 'Valmont V-Line Lifting Cream Crema Antirughe Correttiva E Levigante 50 ml',\n",
              "  'capacity': '50 ml'},\n",
              " {'product_name': 'Valmont V-Line Lifting Eye Cream Crema Contorno Occhi Levigante 15 ml',\n",
              "  'capacity': '15 ml'},\n",
              " {'product_name': 'Valmont V-Neck Cream Crema Levigante Collo E Décolleté 50 ml',\n",
              "  'capacity': '50 ml'},\n",
              " {'product_name': 'Valmont Vital 24 Hour Light Crema Viso Rivitalizzante 50 ml',\n",
              "  'capacity': '50 ml'},\n",
              " {'product_name': 'Valmont Vital B. Fluid Fluido Rivitalizzante Viso 50 ml',\n",
              "  'capacity': '50 ml'},\n",
              " {'product_name': 'Valmont Vital Falls Tonico Addolcente Rivitalizzante 150 ml',\n",
              "  'capacity': '150 ml'},\n",
              " {'product_name': 'Valmont Wonder Falls Crema Detergente Nutriente 100 ml',\n",
              "  'capacity': '100 ml'}]"
            ]
          },
          "metadata": {},
          "execution_count": 18
        }
      ]
    },
    {
      "metadata": {
        "id": "6fb3c5a360dde9b5"
      },
      "cell_type": "markdown",
      "source": [
        "Insertion using class/SQLThunder form Part 1"
      ],
      "id": "6fb3c5a360dde9b5"
    },
    {
      "metadata": {
        "colab": {
          "base_uri": "https://localhost:8080/"
        },
        "id": "f23dda76b08ff04a",
        "outputId": "d1f096c6-c2d4-40cd-89d2-00bc6c284620",
        "collapsed": true
      },
      "cell_type": "code",
      "outputs": [
        {
          "output_type": "stream",
          "name": "stderr",
          "text": [
            "Exception ignored in: <function CRUDOperations.__del__ at 0x7df40436d300>\n",
            "Traceback (most recent call last):\n",
            "  File \"/tmp/ipython-input-95169380.py\", line 60, in __del__\n",
            "sqlite3.ProgrammingError: SQLite objects created in a thread can only be used in that same thread. The object was created in thread id 138488185229312 and this is thread id 138487495898688.\n"
          ]
        },
        {
          "output_type": "stream",
          "name": "stdout",
          "text": [
            "(1, 'Valmont Aqua Falls Acqua Struccante Istantanea 150 ml')\n",
            "(2, 'Valmont Bi-Falls 60 ml')\n",
            "(3, 'Valmont Blooming Ballet Eau De Toilette Donna 100ml')\n",
            "(4, 'Valmont Body 24 Hour – Crema Corpo Anti-Aging 150 ml')\n",
            "(5, 'Valmont Bubble Falls Mousse Detergente Equilibrante 150 ml')\n",
            "(6, \"Valmont calendario dell'avvento holidays in neverland\")\n",
            "(7, 'Valmont Collezione Privata Jazzy Twist Eau De Parfum Floral Gourmand Unisex 100 ml')\n",
            "(8, 'Valmont Collezione Privata Just Bloom Eau De Parfum 100 ml')\n",
            "(9, 'Valmont Collezione Privata Lady Code Eau De Parfum 100 ml')\n",
            "(10, 'Valmont Collezione Privata Private Mind Eau De Parfum Floral Leather Unisex 100 ml')\n",
            "(11, 'Valmont Deto2X Cream Crema Ossigenante Detossinante 45 ml')\n",
            "(12, 'Valmont Deto2X Eye Crema Contorno Occhi Vitalità 12 ml')\n",
            "(13, 'Valmont Deto2X Pack Bubble Mask Ossigenante 6 Pezzi Da 10 ml')\n",
            "(14, 'Valmont Eau De Toilette 100 ml Palazzo Nobile Cutie')\n",
            "(15, 'Valmont Elixir Serum Precieux 30 ml')\n",
            "(16, 'Valmont Eye Instant Stress Relieving Mask Box Patch Occhi Levigante 1 Pezzo')\n",
            "(17, 'Valmont Eye Instant Stress Relieving Mask Box Patch Occhi Levigante 5 Pezzi')\n",
            "(18, 'Valmont Eye Regenerating Mask Treatment Maschera Occhi Al Collagene 5 Pezzi')\n",
            "(19, 'Valmont Face Exfoliant Crema Esfoliante Rivitalizzante 50 ml')\n",
            "(20, 'Valmont Fizzy Mint Eau De Toilette Donna 100ml')\n",
            "(21, 'Valmont Fluid Falls Latte Detergente Struccante 150 ml')\n",
            "(22, 'Valmont Hair & Scalp Cellular Treatment Trattamento Intensivo Anticaduta 6 Duo')\n",
            "(23, 'Valmont Hair Repair Regenerating Cleanser 150ml')\n",
            "(24, 'Valmont Hand 24 Hour Trattamento Mani Antietà 75 ml')\n",
            "(25, 'Valmont Hand Moistrurizing Cream 100')\n",
            "(26, 'Valmont Hydra3 Eye Emulsione Per Il Contorno Occhi 15 ml')\n",
            "(27, 'Valmont Hydra3 Regenetic Crema Idratante Anti Età 50 ml')\n",
            "(28, 'Valmont Hydra3 Regenetic Serum Siero Anti-Età Attivatore D’idratazione 30 ml')\n",
            "(29, 'Valmont Icy Falls Gelatina Struccante Rinfrescante 100 ml')\n",
            "(30, \"Valmont L'elixir Des Glaciers Crème Merveilleuse Crema Rigenerante Viso 50 ml\")\n",
            "(31, \"Valmont L'elixir Des Glaciers Merveilleux Pre-Siero Illuminante 100 ml\")\n",
            "(32, \"Valmont L'elixir Des Glaciers Sérum Majestueux Vos Yeux Siero Contorno Occhi Levigante\")\n",
            "(33, \"Valmont L'elixir Des Glaciers Vos Yeux Crema Contorno Occhi 15 ml\")\n",
            "(34, \"Valmont L'elixir Des Glaciers Votre Visage Crema Liftante 50 ml\")\n",
            "(35, 'Valmont Lumicity Trattamento Anti-Age Illuminante Spf50 - 30ml')\n",
            "(36, 'Valmont Lumicream Crema Effetto Pelle Sana Illuminante 50 ml')\n",
            "(37, 'Valmont Lumimask Maschera Esfoliante Rinnovatrice 50 ml')\n",
            "(38, 'Valmont Lumipeel Lozione Peeling Esaltatrice Della Luminosità 150 ml')\n",
            "(39, 'Valmont Lumisence 30 ml')\n",
            "(40, 'Valmont Majestueux Cure Visage siero 12,5 ml')\n",
            "(41, 'Valmont Masque Majestueux Votre Visage Maschera Rigenerante Nutriente 150 ml')\n",
            "(42, 'Valmont Moisturizing Booster Siero Idratante Rimpolpante 20 ml')\n",
            "(43, 'Valmont Moisturizing Serumulsion Emulsione Idratante 30 ml')\n",
            "(44, 'Valmont Moisturizing With A Cream Crema Idratante 24H 50 ml')\n",
            "(45, 'Valmont Moisturizing With A Mask Maschera Idratante Istantanea 50 ml')\n",
            "(46, 'Valmont Palazzo Nobile Bright Poppy Eau De Toilette Floral Citrus Unisex 100 ml')\n",
            "(47, 'Valmont Palazzo Nobile Casanova 2161 Eau De Toilette Woody Aromatic Unisex 100 ml')\n",
            "(48, 'Valmont Palazzo Nobile Satin Musk Eau De Toilette Floral Musky Unisex 100 ml')\n",
            "(49, 'Valmont Palazzo Nobile Secret Bamboo Eau De Toilette Floral Green Powdery Unisex 100 ml')\n",
            "(50, 'Valmont Perfecting Powder Cream Fondotinta Idratante')\n",
            "(51, 'Valmont Primary Cream Crema Lenitiva Essenziale 50 ml')\n",
            "(52, 'Valmont Primary Pomade Balsamo Ricco Riparatore 50 ml')\n",
            "(53, 'Valmont Primary Serum Siero Riparatore Essenziale 30 ml')\n",
            "(54, 'Valmont Primary Solution Siero Per Il Trattamento Delle Imperfezioni 20 ml')\n",
            "(55, 'Valmont Primary Veil Soluzione Spray Preparatoria Protettiva 150 ml')\n",
            "(56, 'Valmont Prime 24 Hour Crema Energizzante E Idratante 50 ml')\n",
            "(57, 'Valmont Prime B-Cellular Siero Anti-Età Cellulare Energizzante 30 ml')\n",
            "(58, 'Valmont Prime Contour Trattamento Correttivo Contorno Occhi E Labbra 15 M')\n",
            "(59, 'Valmont Prime Lip Repair Trattamento Labbra Riparatore 15 ml')\n",
            "(60, 'Valmont Prime Regenera I Crema Energizzante 50 ml')\n",
            "(61, 'Valmont Prime Regenera Ii Balsamo Riparatore Nutriente Intensivo 50 ml')\n",
            "(62, 'Valmont Prime Renewing Pack Machera Viso Antiage 75 ml')\n",
            "(63, 'Valmont Priming With A Hydrating Fluid Primer Idratante Istantaneo 150 ml')\n",
            "(64, \"Valmont Purifying Pack Maschera Purificante All'argilla 50 ml\")\n",
            "(65, 'Valmont Recovering Mask 200 ml')\n",
            "(66, 'Valmont Regenerating Mask Maschera Idratante Viso 1 Pezzo')\n",
            "(67, 'Valmont Regenerating Mask Maschera Idratante Viso 5 Pezzi')\n",
            "(68, 'Valmont Restoring Perfection Spf 50 Crema Ad Alta Protezione Uva/Uvb 30ml')\n",
            "(69, 'Valmont Sea Bliss Eau De Toilette 100 ml')\n",
            "(70, 'Valmont Storie Veneziane Alessandrite I Extrait De Parfum Aldehydic Floral Unisex')\n",
            "(71, \"Valmont Storie Veneziane Alessandrite I'Extrait De Parfum Aldehydic 100 ml\")\n",
            "(72, 'Valmont Storie Veneziane Blu Cobalto I Extrait De Parfum Gourmand Oriental Unisex 100 ml')\n",
            "(73, 'Valmont Storie Veneziane Gaggia Medio I Extrait De Parfum 100 ml')\n",
            "(74, \"Valmont Storie Veneziane Mica D'oro I Extrait De Parfum Oriental Gourmand Unisex 100 ml\")\n",
            "(75, 'Valmont Storie Veneziane Rosso I Extrait De Parfum Floral Oriental Unisex 100 ml')\n",
            "(76, \"Valmont Storie Veneziane Verde Erba I'Extrait De Parfum 100 ml\")\n",
            "(77, 'Valmont Storie Veneziane Zafferano I Extrait De Parfum Floral-Oriental Especiado Unisex')\n",
            "(78, 'Valmont V-Firm Cream Crema Viso Densificante 50 ml')\n",
            "(79, 'Valmont V-Firm Eye Crema Rassodante Per Contorno Occhi 15 ml')\n",
            "(80, 'Valmont V-Firm Serum Correttore Tonicità E Contorno 30 ml')\n",
            "(81, 'Valmont V-Line Lifting Concentrate Siero Antirughe E Anti Linee Sottili 30 ml')\n",
            "(82, 'Valmont V-Line Lifting Cream Crema Antirughe Correttiva E Levigante 50 ml')\n",
            "(83, 'Valmont V-Line Lifting Eye Cream Crema Contorno Occhi Levigante 15 ml')\n",
            "(84, 'Valmont V-Neck Cream Crema Levigante Collo E Décolleté 50 ml')\n",
            "(85, 'Valmont Vital 24 Hour Light Crema Viso Rivitalizzante 50 ml')\n",
            "(86, 'Valmont Vital B. Fluid Fluido Rivitalizzante Viso 50 ml')\n",
            "(87, 'Valmont Vital Falls Tonico Addolcente Rivitalizzante 150 ml')\n",
            "(88, 'Valmont Wonder Falls Crema Detergente Nutriente 100 ml')\n"
          ]
        }
      ],
      "execution_count": 19,
      "source": [
        "# Insert data in your local db (you might need to create a new table)\n",
        "\n",
        "crud = CRUDOperations(\"produits_valmont.db\")\n",
        "\n",
        "# Create table\n",
        "crud.drop_table()\n",
        "crud.create_table()\n",
        "\n",
        "# Insert product\n",
        "for p in cleaned_products:\n",
        "    crud.create(p['product_name'])\n",
        "\n",
        "# Read and check\n",
        "all_products = crud.read()\n",
        "for prod in all_products:\n",
        "    print(prod)\n"
      ],
      "id": "f23dda76b08ff04a"
    },
    {
      "metadata": {
        "id": "589839c32219003b"
      },
      "cell_type": "markdown",
      "source": [
        "## Entity Matching"
      ],
      "id": "589839c32219003b"
    },
    {
      "metadata": {
        "id": "c64605b45a286e4c"
      },
      "cell_type": "markdown",
      "source": [
        "Try to match each scraped data to official ref if it exists."
      ],
      "id": "c64605b45a286e4c"
    },
    {
      "metadata": {
        "id": "12a1ee5c4a07d438",
        "colab": {
          "base_uri": "https://localhost:8080/"
        },
        "outputId": "d9c29997-d97d-45db-a753-3e70d439e0c5"
      },
      "cell_type": "code",
      "outputs": [
        {
          "output_type": "stream",
          "name": "stdout",
          "text": [
            "   offer_uid                                              title\n",
            "0          1  Valmont Aqua Falls Acqua Struccante Istantanea...\n",
            "1          2                             Valmont Bi-Falls 60 ml\n",
            "2          3  Valmont Blooming Ballet Eau De Toilette Donna ...\n",
            "3          4  Valmont Body 24 Hour – Crema Corpo Anti-Aging ...\n",
            "4          5  Valmont Bubble Falls Mousse Detergente Equilib...\n"
          ]
        }
      ],
      "execution_count": 46,
      "source": [
        "# Load data\n",
        "refs = pd.read_excel(\"refs.xlsx\")\n",
        "\n",
        "conn = sqlite3.connect(\"produits_valmont.db\")\n",
        "\n",
        "offers = pd.read_sql_query(\"SELECT * FROM products\", conn)\n",
        "\n",
        "# Facultatif : renommer les colonnes si besoin\n",
        "offers.columns = ['offer_uid', 'title']  # ou ['id', 'title'] selon les noms exacts dans ta table\n",
        "\n",
        "# Vérification\n",
        "print(offers.head())"
      ],
      "id": "12a1ee5c4a07d438"
    },
    {
      "cell_type": "code",
      "source": [
        "offers['clean_title'] = offers['title'].apply(clean_product_name)\n",
        "refs['clean_name'] = refs['product_name'].apply(clean_product_name)"
      ],
      "metadata": {
        "id": "v9omPghWo3JF"
      },
      "id": "v9omPghWo3JF",
      "execution_count": 47,
      "outputs": []
    },
    {
      "metadata": {
        "id": "c3968635396b271f",
        "colab": {
          "base_uri": "https://localhost:8080/"
        },
        "outputId": "b8e4b0cf-bb28-4279-c3b5-6a63b7b5f212"
      },
      "cell_type": "code",
      "outputs": [
        {
          "output_type": "stream",
          "name": "stdout",
          "text": [
            "   offer_uid      SKU  similarity\n",
            "0          1   705045    0.627203\n",
            "1          2   705047    0.941690\n",
            "2          3   803004    0.558310\n",
            "3          4  7058100    0.676028\n",
            "4          5   705046    0.699925\n"
          ]
        }
      ],
      "execution_count": 48,
      "source": [
        "# Match\n",
        "# Combine vocabulary\n",
        "all_titles = pd.concat([offers['clean_title'], refs['clean_name']])\n",
        "\n",
        "# Vectorisation TF-IDF\n",
        "vectorizer = TfidfVectorizer(stop_words='english', ngram_range=(1,2), min_df=2)\n",
        "vectorizer.fit(all_titles)\n",
        "tfidf_matrix = vectorizer.fit_transform(all_titles)\n",
        "\n",
        "offers_vec = vectorizer.transform(offers['clean_title'])\n",
        "refs_vec = vectorizer.transform(refs['clean_name'])\n",
        "\n",
        "similarity_matrix = cosine_similarity(offers_vec, refs_vec)\n",
        "\n",
        "best_match_indices = np.argmax(similarity_matrix, axis=1)\n",
        "\n",
        "best_match_scores = np.max(similarity_matrix, axis=1)\n",
        "\n",
        "# Create DataFrame (results)\n",
        "matched_skus = refs.iloc[best_match_indices]['SKU'].values\n",
        "\n",
        "submission_df = pd.DataFrame({\n",
        "    'offer_uid': offers['offer_uid'],\n",
        "    'SKU': matched_skus,\n",
        "    'similarity': best_match_scores\n",
        "})\n",
        "\n",
        "# Create DataFrame (results)\n",
        "\n",
        "matched_skus = refs.iloc[best_match_indices]['SKU'].values\n",
        "\n",
        "submission_df = pd.DataFrame({\n",
        "    'offer_uid': offers['offer_uid'],\n",
        "    'SKU': matched_skus,\n",
        "    'similarity': best_match_scores\n",
        "})\n",
        "\n",
        "submission_df.to_csv(\"submission.csv\", index=False)\n",
        "print(submission_df.head())"
      ],
      "id": "c3968635396b271f"
    },
    {
      "metadata": {
        "id": "832ec3b12106f442",
        "colab": {
          "base_uri": "https://localhost:8080/"
        },
        "outputId": "ce0a2439-7784-4cfc-da92-fcbf96628693"
      },
      "cell_type": "code",
      "outputs": [
        {
          "output_type": "stream",
          "name": "stdout",
          "text": [
            "=== 10 worst matches ===\n",
            "Offer ID 6 (Similarity: 0.000):\n",
            "  Offer: Valmont calendario dell'avvento holidays in neverland\n",
            "  Reference: Alessandrite I\n",
            "\n",
            "Offer ID 14 (Similarity: 0.197):\n",
            "  Offer: Valmont Eau De Toilette 100 ml Palazzo Nobile Cutie\n",
            "  Reference: Cutie Pear\n",
            "\n",
            "Offer ID 35 (Similarity: 0.273):\n",
            "  Offer: Valmont Lumicity Trattamento Anti-Age Illuminante Spf50 - 30ml\n",
            "  Reference: LUMICITY SPF 50+ \n",
            "\n",
            "Offer ID 75 (Similarity: 0.276):\n",
            "  Offer: Valmont Storie Veneziane Rosso I Extrait De Parfum Floral Oriental Unisex 100 ml\n",
            "  Reference: Rosso I\n",
            "\n",
            "Offer ID 70 (Similarity: 0.280):\n",
            "  Offer: Valmont Storie Veneziane Alessandrite I Extrait De Parfum Aldehydic Floral Unisex\n",
            "  Reference: Alessandrite I\n",
            "\n",
            "Offer ID 71 (Similarity: 0.282):\n",
            "  Offer: Valmont Storie Veneziane Alessandrite I'Extrait De Parfum Aldehydic 100 ml\n",
            "  Reference: Alessandrite I\n",
            "\n",
            "Offer ID 77 (Similarity: 0.328):\n",
            "  Offer: Valmont Storie Veneziane Zafferano I Extrait De Parfum Floral-Oriental Especiado Unisex\n",
            "  Reference: Zafferano I\n",
            "\n",
            "Offer ID 50 (Similarity: 0.330):\n",
            "  Offer: Valmont Perfecting Powder Cream Fondotinta Idratante\n",
            "  Reference: V-LIFT CREAM\n",
            "\n",
            "Offer ID 66 (Similarity: 0.333):\n",
            "  Offer: Valmont Regenerating Mask Maschera Idratante Viso 1 Pezzo\n",
            "  Reference: EYE REGENERATING MASK\n",
            "\n",
            "Offer ID 67 (Similarity: 0.337):\n",
            "  Offer: Valmont Regenerating Mask Maschera Idratante Viso 5 Pezzi\n",
            "  Reference: EYE REGENERATING MASK\n",
            "\n",
            "Offer ID 40 (Similarity: 0.361):\n",
            "  Offer: Valmont Majestueux Cure Visage siero 12,5 ml\n",
            "  Reference: CURE MAJESTUEUSE VOTRE VISAGE \n",
            "\n",
            "Offer ID 25 (Similarity: 0.382):\n",
            "  Offer: Valmont Hand Moistrurizing Cream 100\n",
            "  Reference: HAND NUTRITIVE TREATMENT\n",
            "\n",
            "Offer ID 33 (Similarity: 0.441):\n",
            "  Offer: Valmont L'elixir Des Glaciers Vos Yeux Crema Contorno Occhi 15 ml\n",
            "  Reference: VOS YEUX\n",
            "\n",
            "Offer ID 12 (Similarity: 0.457):\n",
            "  Offer: Valmont Deto2X Eye Crema Contorno Occhi Vitalità 12 ml\n",
            "  Reference: DETO2X EYE\n",
            "\n",
            "Offer ID 27 (Similarity: 0.464):\n",
            "  Offer: Valmont Hydra3 Regenetic Crema Idratante Anti Età 50 ml\n",
            "  Reference: HYDRA3 REGENETIC CREAM\n",
            "\n",
            "Offer ID 7 (Similarity: 0.466):\n",
            "  Offer: Valmont Collezione Privata Jazzy Twist Eau De Parfum Floral Gourmand Unisex 100 ml\n",
            "  Reference: Jazzy Twist\n",
            "\n",
            "Offer ID 57 (Similarity: 0.467):\n",
            "  Offer: Valmont Prime B-Cellular Siero Anti-Età Cellulare Energizzante 30 ml\n",
            "  Reference: PRIME B CELLULAR\n",
            "\n",
            "Offer ID 26 (Similarity: 0.468):\n",
            "  Offer: Valmont Hydra3 Eye Emulsione Per Il Contorno Occhi 15 ml\n",
            "  Reference: HYDRA3 EYE\n",
            "\n",
            "Offer ID 74 (Similarity: 0.473):\n",
            "  Offer: Valmont Storie Veneziane Mica D'oro I Extrait De Parfum Oriental Gourmand Unisex 100 ml\n",
            "  Reference: Mica D'Oro I\n",
            "\n",
            "Offer ID 72 (Similarity: 0.473):\n",
            "  Offer: Valmont Storie Veneziane Blu Cobalto I Extrait De Parfum Gourmand Oriental Unisex 100 ml\n",
            "  Reference: Blu Cobalto I\n",
            "\n"
          ]
        }
      ],
      "execution_count": 49,
      "source": [
        "refs['SKU'] = refs['SKU'].astype(str).str.strip()\n",
        "submission_df['SKU'] = submission_df['SKU'].astype(str).str.strip()\n",
        "\n",
        "# Sort by similarity\n",
        "worst_matches = submission_df.sort_values(by='similarity').head(20)\n",
        "\n",
        "print(\"=== 10 worst matches ===\")\n",
        "\n",
        "for idx, row in worst_matches.iterrows():\n",
        "    offer_uid = row['offer_uid']\n",
        "    sku = row['SKU']\n",
        "    similarity = row['similarity']\n",
        "\n",
        "    offer_text = offers.loc[offers['offer_uid'] == offer_uid, 'title'].values\n",
        "    offer_text = offer_text[0] if len(offer_text) > 0 else \"N/A\"\n",
        "\n",
        "    # Find product name in ref\n",
        "    if sku not in refs['SKU'].values:\n",
        "        ref_text = \"SKU non trouvé dans refs\"\n",
        "    else:\n",
        "        ref_text = refs.loc[refs['SKU'] == sku, 'product_name'].values[0]\n",
        "    print(f\"Offer ID {offer_uid} (Similarity: {similarity:.3f}):\\n  Offer: {offer_text}\\n  Reference: {ref_text}\\n\")\n",
        "\n"
      ],
      "id": "832ec3b12106f442"
    },
    {
      "metadata": {
        "id": "dee086f24ea386ea"
      },
      "cell_type": "code",
      "outputs": [],
      "execution_count": 23,
      "source": [
        "# Lots of Matching\n"
      ],
      "id": "dee086f24ea386ea"
    },
    {
      "metadata": {
        "id": "6dd7820cdf6a636a"
      },
      "cell_type": "code",
      "outputs": [],
      "execution_count": 24,
      "source": [
        "# Now you can add as manyyyy cells as you want to match\n"
      ],
      "id": "6dd7820cdf6a636a"
    },
    {
      "metadata": {
        "id": "daedad2dd950739e"
      },
      "cell_type": "markdown",
      "source": [
        "### Output Excel\n",
        "\n",
        "Please save your result in an excel in the format mentioned in the README.MD and submit it to Kaggle. Don't forget to send the repo by email."
      ],
      "id": "daedad2dd950739e"
    }
  ],
  "metadata": {
    "kernelspec": {
      "display_name": "Python 3",
      "language": "python",
      "name": "python3"
    },
    "language_info": {
      "codemirror_mode": {
        "name": "ipython",
        "version": 2
      },
      "file_extension": ".py",
      "mimetype": "text/x-python",
      "name": "python",
      "nbconvert_exporter": "python",
      "pygments_lexer": "ipython2",
      "version": "2.7.6"
    },
    "colab": {
      "provenance": [],
      "include_colab_link": true
    }
  },
  "nbformat": 4,
  "nbformat_minor": 5
}