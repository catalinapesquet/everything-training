{
  "nbformat": 4,
  "nbformat_minor": 0,
  "metadata": {
    "colab": {
      "provenance": [],
      "include_colab_link": true
    },
    "kernelspec": {
      "name": "python3",
      "display_name": "Python 3"
    },
    "language_info": {
      "name": "python"
    },
    "accelerator": "GPU",
    "widgets": {
      "application/vnd.jupyter.widget-state+json": {
        "529095765d294b49986883260e3ed2d1": {
          "model_module": "@jupyter-widgets/controls",
          "model_name": "HBoxModel",
          "model_module_version": "1.5.0",
          "state": {
            "_dom_classes": [],
            "_model_module": "@jupyter-widgets/controls",
            "_model_module_version": "1.5.0",
            "_model_name": "HBoxModel",
            "_view_count": null,
            "_view_module": "@jupyter-widgets/controls",
            "_view_module_version": "1.5.0",
            "_view_name": "HBoxView",
            "box_style": "",
            "children": [
              "IPY_MODEL_d6af6e49428d41ac8e8ce492b27f86c7",
              "IPY_MODEL_7da4cd4b83e94ec4a97020ef4333dcd6",
              "IPY_MODEL_c3c69fb211da406ab3f00e5d606e4815"
            ],
            "layout": "IPY_MODEL_f72b2552baa14646b758271b1574acef"
          }
        },
        "d6af6e49428d41ac8e8ce492b27f86c7": {
          "model_module": "@jupyter-widgets/controls",
          "model_name": "HTMLModel",
          "model_module_version": "1.5.0",
          "state": {
            "_dom_classes": [],
            "_model_module": "@jupyter-widgets/controls",
            "_model_module_version": "1.5.0",
            "_model_name": "HTMLModel",
            "_view_count": null,
            "_view_module": "@jupyter-widgets/controls",
            "_view_module_version": "1.5.0",
            "_view_name": "HTMLView",
            "description": "",
            "description_tooltip": null,
            "layout": "IPY_MODEL_e6ee62789e784253bc8d25575e50d832",
            "placeholder": "​",
            "style": "IPY_MODEL_cdb153b31f75448ea9895b611ad5a8b6",
            "value": "100%"
          }
        },
        "7da4cd4b83e94ec4a97020ef4333dcd6": {
          "model_module": "@jupyter-widgets/controls",
          "model_name": "FloatProgressModel",
          "model_module_version": "1.5.0",
          "state": {
            "_dom_classes": [],
            "_model_module": "@jupyter-widgets/controls",
            "_model_module_version": "1.5.0",
            "_model_name": "FloatProgressModel",
            "_view_count": null,
            "_view_module": "@jupyter-widgets/controls",
            "_view_module_version": "1.5.0",
            "_view_name": "ProgressView",
            "bar_style": "success",
            "description": "",
            "description_tooltip": null,
            "layout": "IPY_MODEL_41646fdef4fa4490a79ae4be79a8d7c7",
            "max": 5,
            "min": 0,
            "orientation": "horizontal",
            "style": "IPY_MODEL_0b5e0aee45eb410f9584568335f6655b",
            "value": 5
          }
        },
        "c3c69fb211da406ab3f00e5d606e4815": {
          "model_module": "@jupyter-widgets/controls",
          "model_name": "HTMLModel",
          "model_module_version": "1.5.0",
          "state": {
            "_dom_classes": [],
            "_model_module": "@jupyter-widgets/controls",
            "_model_module_version": "1.5.0",
            "_model_name": "HTMLModel",
            "_view_count": null,
            "_view_module": "@jupyter-widgets/controls",
            "_view_module_version": "1.5.0",
            "_view_name": "HTMLView",
            "description": "",
            "description_tooltip": null,
            "layout": "IPY_MODEL_24fdb2ee97804b6fb4a723e062df581d",
            "placeholder": "​",
            "style": "IPY_MODEL_0221ec43d21949ef92b7a74dfead7521",
            "value": " 5/5 [03:57&lt;00:00, 46.43s/it]"
          }
        },
        "f72b2552baa14646b758271b1574acef": {
          "model_module": "@jupyter-widgets/base",
          "model_name": "LayoutModel",
          "model_module_version": "1.2.0",
          "state": {
            "_model_module": "@jupyter-widgets/base",
            "_model_module_version": "1.2.0",
            "_model_name": "LayoutModel",
            "_view_count": null,
            "_view_module": "@jupyter-widgets/base",
            "_view_module_version": "1.2.0",
            "_view_name": "LayoutView",
            "align_content": null,
            "align_items": null,
            "align_self": null,
            "border": null,
            "bottom": null,
            "display": null,
            "flex": null,
            "flex_flow": null,
            "grid_area": null,
            "grid_auto_columns": null,
            "grid_auto_flow": null,
            "grid_auto_rows": null,
            "grid_column": null,
            "grid_gap": null,
            "grid_row": null,
            "grid_template_areas": null,
            "grid_template_columns": null,
            "grid_template_rows": null,
            "height": null,
            "justify_content": null,
            "justify_items": null,
            "left": null,
            "margin": null,
            "max_height": null,
            "max_width": null,
            "min_height": null,
            "min_width": null,
            "object_fit": null,
            "object_position": null,
            "order": null,
            "overflow": null,
            "overflow_x": null,
            "overflow_y": null,
            "padding": null,
            "right": null,
            "top": null,
            "visibility": null,
            "width": null
          }
        },
        "e6ee62789e784253bc8d25575e50d832": {
          "model_module": "@jupyter-widgets/base",
          "model_name": "LayoutModel",
          "model_module_version": "1.2.0",
          "state": {
            "_model_module": "@jupyter-widgets/base",
            "_model_module_version": "1.2.0",
            "_model_name": "LayoutModel",
            "_view_count": null,
            "_view_module": "@jupyter-widgets/base",
            "_view_module_version": "1.2.0",
            "_view_name": "LayoutView",
            "align_content": null,
            "align_items": null,
            "align_self": null,
            "border": null,
            "bottom": null,
            "display": null,
            "flex": null,
            "flex_flow": null,
            "grid_area": null,
            "grid_auto_columns": null,
            "grid_auto_flow": null,
            "grid_auto_rows": null,
            "grid_column": null,
            "grid_gap": null,
            "grid_row": null,
            "grid_template_areas": null,
            "grid_template_columns": null,
            "grid_template_rows": null,
            "height": null,
            "justify_content": null,
            "justify_items": null,
            "left": null,
            "margin": null,
            "max_height": null,
            "max_width": null,
            "min_height": null,
            "min_width": null,
            "object_fit": null,
            "object_position": null,
            "order": null,
            "overflow": null,
            "overflow_x": null,
            "overflow_y": null,
            "padding": null,
            "right": null,
            "top": null,
            "visibility": null,
            "width": null
          }
        },
        "cdb153b31f75448ea9895b611ad5a8b6": {
          "model_module": "@jupyter-widgets/controls",
          "model_name": "DescriptionStyleModel",
          "model_module_version": "1.5.0",
          "state": {
            "_model_module": "@jupyter-widgets/controls",
            "_model_module_version": "1.5.0",
            "_model_name": "DescriptionStyleModel",
            "_view_count": null,
            "_view_module": "@jupyter-widgets/base",
            "_view_module_version": "1.2.0",
            "_view_name": "StyleView",
            "description_width": ""
          }
        },
        "41646fdef4fa4490a79ae4be79a8d7c7": {
          "model_module": "@jupyter-widgets/base",
          "model_name": "LayoutModel",
          "model_module_version": "1.2.0",
          "state": {
            "_model_module": "@jupyter-widgets/base",
            "_model_module_version": "1.2.0",
            "_model_name": "LayoutModel",
            "_view_count": null,
            "_view_module": "@jupyter-widgets/base",
            "_view_module_version": "1.2.0",
            "_view_name": "LayoutView",
            "align_content": null,
            "align_items": null,
            "align_self": null,
            "border": null,
            "bottom": null,
            "display": null,
            "flex": null,
            "flex_flow": null,
            "grid_area": null,
            "grid_auto_columns": null,
            "grid_auto_flow": null,
            "grid_auto_rows": null,
            "grid_column": null,
            "grid_gap": null,
            "grid_row": null,
            "grid_template_areas": null,
            "grid_template_columns": null,
            "grid_template_rows": null,
            "height": null,
            "justify_content": null,
            "justify_items": null,
            "left": null,
            "margin": null,
            "max_height": null,
            "max_width": null,
            "min_height": null,
            "min_width": null,
            "object_fit": null,
            "object_position": null,
            "order": null,
            "overflow": null,
            "overflow_x": null,
            "overflow_y": null,
            "padding": null,
            "right": null,
            "top": null,
            "visibility": null,
            "width": null
          }
        },
        "0b5e0aee45eb410f9584568335f6655b": {
          "model_module": "@jupyter-widgets/controls",
          "model_name": "ProgressStyleModel",
          "model_module_version": "1.5.0",
          "state": {
            "_model_module": "@jupyter-widgets/controls",
            "_model_module_version": "1.5.0",
            "_model_name": "ProgressStyleModel",
            "_view_count": null,
            "_view_module": "@jupyter-widgets/base",
            "_view_module_version": "1.2.0",
            "_view_name": "StyleView",
            "bar_color": null,
            "description_width": ""
          }
        },
        "24fdb2ee97804b6fb4a723e062df581d": {
          "model_module": "@jupyter-widgets/base",
          "model_name": "LayoutModel",
          "model_module_version": "1.2.0",
          "state": {
            "_model_module": "@jupyter-widgets/base",
            "_model_module_version": "1.2.0",
            "_model_name": "LayoutModel",
            "_view_count": null,
            "_view_module": "@jupyter-widgets/base",
            "_view_module_version": "1.2.0",
            "_view_name": "LayoutView",
            "align_content": null,
            "align_items": null,
            "align_self": null,
            "border": null,
            "bottom": null,
            "display": null,
            "flex": null,
            "flex_flow": null,
            "grid_area": null,
            "grid_auto_columns": null,
            "grid_auto_flow": null,
            "grid_auto_rows": null,
            "grid_column": null,
            "grid_gap": null,
            "grid_row": null,
            "grid_template_areas": null,
            "grid_template_columns": null,
            "grid_template_rows": null,
            "height": null,
            "justify_content": null,
            "justify_items": null,
            "left": null,
            "margin": null,
            "max_height": null,
            "max_width": null,
            "min_height": null,
            "min_width": null,
            "object_fit": null,
            "object_position": null,
            "order": null,
            "overflow": null,
            "overflow_x": null,
            "overflow_y": null,
            "padding": null,
            "right": null,
            "top": null,
            "visibility": null,
            "width": null
          }
        },
        "0221ec43d21949ef92b7a74dfead7521": {
          "model_module": "@jupyter-widgets/controls",
          "model_name": "DescriptionStyleModel",
          "model_module_version": "1.5.0",
          "state": {
            "_model_module": "@jupyter-widgets/controls",
            "_model_module_version": "1.5.0",
            "_model_name": "DescriptionStyleModel",
            "_view_count": null,
            "_view_module": "@jupyter-widgets/base",
            "_view_module_version": "1.2.0",
            "_view_name": "StyleView",
            "description_width": ""
          }
        },
        "fe4235b756954399b6d26fedae5fb672": {
          "model_module": "@jupyter-widgets/controls",
          "model_name": "HBoxModel",
          "model_module_version": "1.5.0",
          "state": {
            "_dom_classes": [],
            "_model_module": "@jupyter-widgets/controls",
            "_model_module_version": "1.5.0",
            "_model_name": "HBoxModel",
            "_view_count": null,
            "_view_module": "@jupyter-widgets/controls",
            "_view_module_version": "1.5.0",
            "_view_name": "HBoxView",
            "box_style": "",
            "children": [
              "IPY_MODEL_448a3e8be80e4ced8b5ff9fc18fd1045",
              "IPY_MODEL_611cc5e32cb84c9d84e382ef37ead87d",
              "IPY_MODEL_829649664a594f6eb55cc2a360eab17d"
            ],
            "layout": "IPY_MODEL_7d6d927552c94cbc97fcf0b72a95c448"
          }
        },
        "448a3e8be80e4ced8b5ff9fc18fd1045": {
          "model_module": "@jupyter-widgets/controls",
          "model_name": "HTMLModel",
          "model_module_version": "1.5.0",
          "state": {
            "_dom_classes": [],
            "_model_module": "@jupyter-widgets/controls",
            "_model_module_version": "1.5.0",
            "_model_name": "HTMLModel",
            "_view_count": null,
            "_view_module": "@jupyter-widgets/controls",
            "_view_module_version": "1.5.0",
            "_view_name": "HTMLView",
            "description": "",
            "description_tooltip": null,
            "layout": "IPY_MODEL_50bf0ebf2d0a408ea4a15cf190d2c72b",
            "placeholder": "​",
            "style": "IPY_MODEL_aec607dc69074f9e81e358fec66152c3",
            "value": "100%"
          }
        },
        "611cc5e32cb84c9d84e382ef37ead87d": {
          "model_module": "@jupyter-widgets/controls",
          "model_name": "FloatProgressModel",
          "model_module_version": "1.5.0",
          "state": {
            "_dom_classes": [],
            "_model_module": "@jupyter-widgets/controls",
            "_model_module_version": "1.5.0",
            "_model_name": "FloatProgressModel",
            "_view_count": null,
            "_view_module": "@jupyter-widgets/controls",
            "_view_module_version": "1.5.0",
            "_view_name": "ProgressView",
            "bar_style": "success",
            "description": "",
            "description_tooltip": null,
            "layout": "IPY_MODEL_e0fdf6e9d85945cfa728afb2e9eaadbf",
            "max": 5,
            "min": 0,
            "orientation": "horizontal",
            "style": "IPY_MODEL_9ddc24fe665d44d7892754ef2015025f",
            "value": 5
          }
        },
        "829649664a594f6eb55cc2a360eab17d": {
          "model_module": "@jupyter-widgets/controls",
          "model_name": "HTMLModel",
          "model_module_version": "1.5.0",
          "state": {
            "_dom_classes": [],
            "_model_module": "@jupyter-widgets/controls",
            "_model_module_version": "1.5.0",
            "_model_name": "HTMLModel",
            "_view_count": null,
            "_view_module": "@jupyter-widgets/controls",
            "_view_module_version": "1.5.0",
            "_view_name": "HTMLView",
            "description": "",
            "description_tooltip": null,
            "layout": "IPY_MODEL_cb5227003903403d9e8bb9a35a9d38de",
            "placeholder": "​",
            "style": "IPY_MODEL_e3d9e805bf7949d9a79531e15bfbedfa",
            "value": " 5/5 [01:01&lt;00:00, 12.13s/it]"
          }
        },
        "7d6d927552c94cbc97fcf0b72a95c448": {
          "model_module": "@jupyter-widgets/base",
          "model_name": "LayoutModel",
          "model_module_version": "1.2.0",
          "state": {
            "_model_module": "@jupyter-widgets/base",
            "_model_module_version": "1.2.0",
            "_model_name": "LayoutModel",
            "_view_count": null,
            "_view_module": "@jupyter-widgets/base",
            "_view_module_version": "1.2.0",
            "_view_name": "LayoutView",
            "align_content": null,
            "align_items": null,
            "align_self": null,
            "border": null,
            "bottom": null,
            "display": null,
            "flex": null,
            "flex_flow": null,
            "grid_area": null,
            "grid_auto_columns": null,
            "grid_auto_flow": null,
            "grid_auto_rows": null,
            "grid_column": null,
            "grid_gap": null,
            "grid_row": null,
            "grid_template_areas": null,
            "grid_template_columns": null,
            "grid_template_rows": null,
            "height": null,
            "justify_content": null,
            "justify_items": null,
            "left": null,
            "margin": null,
            "max_height": null,
            "max_width": null,
            "min_height": null,
            "min_width": null,
            "object_fit": null,
            "object_position": null,
            "order": null,
            "overflow": null,
            "overflow_x": null,
            "overflow_y": null,
            "padding": null,
            "right": null,
            "top": null,
            "visibility": null,
            "width": null
          }
        },
        "50bf0ebf2d0a408ea4a15cf190d2c72b": {
          "model_module": "@jupyter-widgets/base",
          "model_name": "LayoutModel",
          "model_module_version": "1.2.0",
          "state": {
            "_model_module": "@jupyter-widgets/base",
            "_model_module_version": "1.2.0",
            "_model_name": "LayoutModel",
            "_view_count": null,
            "_view_module": "@jupyter-widgets/base",
            "_view_module_version": "1.2.0",
            "_view_name": "LayoutView",
            "align_content": null,
            "align_items": null,
            "align_self": null,
            "border": null,
            "bottom": null,
            "display": null,
            "flex": null,
            "flex_flow": null,
            "grid_area": null,
            "grid_auto_columns": null,
            "grid_auto_flow": null,
            "grid_auto_rows": null,
            "grid_column": null,
            "grid_gap": null,
            "grid_row": null,
            "grid_template_areas": null,
            "grid_template_columns": null,
            "grid_template_rows": null,
            "height": null,
            "justify_content": null,
            "justify_items": null,
            "left": null,
            "margin": null,
            "max_height": null,
            "max_width": null,
            "min_height": null,
            "min_width": null,
            "object_fit": null,
            "object_position": null,
            "order": null,
            "overflow": null,
            "overflow_x": null,
            "overflow_y": null,
            "padding": null,
            "right": null,
            "top": null,
            "visibility": null,
            "width": null
          }
        },
        "aec607dc69074f9e81e358fec66152c3": {
          "model_module": "@jupyter-widgets/controls",
          "model_name": "DescriptionStyleModel",
          "model_module_version": "1.5.0",
          "state": {
            "_model_module": "@jupyter-widgets/controls",
            "_model_module_version": "1.5.0",
            "_model_name": "DescriptionStyleModel",
            "_view_count": null,
            "_view_module": "@jupyter-widgets/base",
            "_view_module_version": "1.2.0",
            "_view_name": "StyleView",
            "description_width": ""
          }
        },
        "e0fdf6e9d85945cfa728afb2e9eaadbf": {
          "model_module": "@jupyter-widgets/base",
          "model_name": "LayoutModel",
          "model_module_version": "1.2.0",
          "state": {
            "_model_module": "@jupyter-widgets/base",
            "_model_module_version": "1.2.0",
            "_model_name": "LayoutModel",
            "_view_count": null,
            "_view_module": "@jupyter-widgets/base",
            "_view_module_version": "1.2.0",
            "_view_name": "LayoutView",
            "align_content": null,
            "align_items": null,
            "align_self": null,
            "border": null,
            "bottom": null,
            "display": null,
            "flex": null,
            "flex_flow": null,
            "grid_area": null,
            "grid_auto_columns": null,
            "grid_auto_flow": null,
            "grid_auto_rows": null,
            "grid_column": null,
            "grid_gap": null,
            "grid_row": null,
            "grid_template_areas": null,
            "grid_template_columns": null,
            "grid_template_rows": null,
            "height": null,
            "justify_content": null,
            "justify_items": null,
            "left": null,
            "margin": null,
            "max_height": null,
            "max_width": null,
            "min_height": null,
            "min_width": null,
            "object_fit": null,
            "object_position": null,
            "order": null,
            "overflow": null,
            "overflow_x": null,
            "overflow_y": null,
            "padding": null,
            "right": null,
            "top": null,
            "visibility": null,
            "width": null
          }
        },
        "9ddc24fe665d44d7892754ef2015025f": {
          "model_module": "@jupyter-widgets/controls",
          "model_name": "ProgressStyleModel",
          "model_module_version": "1.5.0",
          "state": {
            "_model_module": "@jupyter-widgets/controls",
            "_model_module_version": "1.5.0",
            "_model_name": "ProgressStyleModel",
            "_view_count": null,
            "_view_module": "@jupyter-widgets/base",
            "_view_module_version": "1.2.0",
            "_view_name": "StyleView",
            "bar_color": null,
            "description_width": ""
          }
        },
        "cb5227003903403d9e8bb9a35a9d38de": {
          "model_module": "@jupyter-widgets/base",
          "model_name": "LayoutModel",
          "model_module_version": "1.2.0",
          "state": {
            "_model_module": "@jupyter-widgets/base",
            "_model_module_version": "1.2.0",
            "_model_name": "LayoutModel",
            "_view_count": null,
            "_view_module": "@jupyter-widgets/base",
            "_view_module_version": "1.2.0",
            "_view_name": "LayoutView",
            "align_content": null,
            "align_items": null,
            "align_self": null,
            "border": null,
            "bottom": null,
            "display": null,
            "flex": null,
            "flex_flow": null,
            "grid_area": null,
            "grid_auto_columns": null,
            "grid_auto_flow": null,
            "grid_auto_rows": null,
            "grid_column": null,
            "grid_gap": null,
            "grid_row": null,
            "grid_template_areas": null,
            "grid_template_columns": null,
            "grid_template_rows": null,
            "height": null,
            "justify_content": null,
            "justify_items": null,
            "left": null,
            "margin": null,
            "max_height": null,
            "max_width": null,
            "min_height": null,
            "min_width": null,
            "object_fit": null,
            "object_position": null,
            "order": null,
            "overflow": null,
            "overflow_x": null,
            "overflow_y": null,
            "padding": null,
            "right": null,
            "top": null,
            "visibility": null,
            "width": null
          }
        },
        "e3d9e805bf7949d9a79531e15bfbedfa": {
          "model_module": "@jupyter-widgets/controls",
          "model_name": "DescriptionStyleModel",
          "model_module_version": "1.5.0",
          "state": {
            "_model_module": "@jupyter-widgets/controls",
            "_model_module_version": "1.5.0",
            "_model_name": "DescriptionStyleModel",
            "_view_count": null,
            "_view_module": "@jupyter-widgets/base",
            "_view_module_version": "1.2.0",
            "_view_name": "StyleView",
            "description_width": ""
          }
        },
        "33ed8500608f43f2897c8a17e841de5e": {
          "model_module": "@jupyter-widgets/controls",
          "model_name": "HBoxModel",
          "model_module_version": "1.5.0",
          "state": {
            "_dom_classes": [],
            "_model_module": "@jupyter-widgets/controls",
            "_model_module_version": "1.5.0",
            "_model_name": "HBoxModel",
            "_view_count": null,
            "_view_module": "@jupyter-widgets/controls",
            "_view_module_version": "1.5.0",
            "_view_name": "HBoxView",
            "box_style": "",
            "children": [
              "IPY_MODEL_ea792efcbbfa4867b2f740afedcb0f11",
              "IPY_MODEL_8cebc8be6816407e8074ab257bc09196",
              "IPY_MODEL_86a526f23abe43bdb908e23dec3254af"
            ],
            "layout": "IPY_MODEL_8f0057d7daec490bad26f11da59dc634"
          }
        },
        "ea792efcbbfa4867b2f740afedcb0f11": {
          "model_module": "@jupyter-widgets/controls",
          "model_name": "HTMLModel",
          "model_module_version": "1.5.0",
          "state": {
            "_dom_classes": [],
            "_model_module": "@jupyter-widgets/controls",
            "_model_module_version": "1.5.0",
            "_model_name": "HTMLModel",
            "_view_count": null,
            "_view_module": "@jupyter-widgets/controls",
            "_view_module_version": "1.5.0",
            "_view_name": "HTMLView",
            "description": "",
            "description_tooltip": null,
            "layout": "IPY_MODEL_d8a0d55912d54f17a46be9d1db398069",
            "placeholder": "​",
            "style": "IPY_MODEL_98cf8fa7d19f4a0c9c21614351c47876",
            "value": ""
          }
        },
        "8cebc8be6816407e8074ab257bc09196": {
          "model_module": "@jupyter-widgets/controls",
          "model_name": "FloatProgressModel",
          "model_module_version": "1.5.0",
          "state": {
            "_dom_classes": [],
            "_model_module": "@jupyter-widgets/controls",
            "_model_module_version": "1.5.0",
            "_model_name": "FloatProgressModel",
            "_view_count": null,
            "_view_module": "@jupyter-widgets/controls",
            "_view_module_version": "1.5.0",
            "_view_name": "ProgressView",
            "bar_style": "success",
            "description": "",
            "description_tooltip": null,
            "layout": "IPY_MODEL_46da3b2fdeca4e23a0248ea242d4434e",
            "max": 1,
            "min": 0,
            "orientation": "horizontal",
            "style": "IPY_MODEL_babe65b5ae244c9faa8a84304305bbda",
            "value": 1
          }
        },
        "86a526f23abe43bdb908e23dec3254af": {
          "model_module": "@jupyter-widgets/controls",
          "model_name": "HTMLModel",
          "model_module_version": "1.5.0",
          "state": {
            "_dom_classes": [],
            "_model_module": "@jupyter-widgets/controls",
            "_model_module_version": "1.5.0",
            "_model_name": "HTMLModel",
            "_view_count": null,
            "_view_module": "@jupyter-widgets/controls",
            "_view_module_version": "1.5.0",
            "_view_name": "HTMLView",
            "description": "",
            "description_tooltip": null,
            "layout": "IPY_MODEL_ca3a7fbd28ec4988866a4bfb94839020",
            "placeholder": "​",
            "style": "IPY_MODEL_5f79bff161e7479aa1110be1629ade2c",
            "value": " 313/? [00:02&lt;00:00, 243.20it/s]"
          }
        },
        "8f0057d7daec490bad26f11da59dc634": {
          "model_module": "@jupyter-widgets/base",
          "model_name": "LayoutModel",
          "model_module_version": "1.2.0",
          "state": {
            "_model_module": "@jupyter-widgets/base",
            "_model_module_version": "1.2.0",
            "_model_name": "LayoutModel",
            "_view_count": null,
            "_view_module": "@jupyter-widgets/base",
            "_view_module_version": "1.2.0",
            "_view_name": "LayoutView",
            "align_content": null,
            "align_items": null,
            "align_self": null,
            "border": null,
            "bottom": null,
            "display": null,
            "flex": null,
            "flex_flow": null,
            "grid_area": null,
            "grid_auto_columns": null,
            "grid_auto_flow": null,
            "grid_auto_rows": null,
            "grid_column": null,
            "grid_gap": null,
            "grid_row": null,
            "grid_template_areas": null,
            "grid_template_columns": null,
            "grid_template_rows": null,
            "height": null,
            "justify_content": null,
            "justify_items": null,
            "left": null,
            "margin": null,
            "max_height": null,
            "max_width": null,
            "min_height": null,
            "min_width": null,
            "object_fit": null,
            "object_position": null,
            "order": null,
            "overflow": null,
            "overflow_x": null,
            "overflow_y": null,
            "padding": null,
            "right": null,
            "top": null,
            "visibility": null,
            "width": null
          }
        },
        "d8a0d55912d54f17a46be9d1db398069": {
          "model_module": "@jupyter-widgets/base",
          "model_name": "LayoutModel",
          "model_module_version": "1.2.0",
          "state": {
            "_model_module": "@jupyter-widgets/base",
            "_model_module_version": "1.2.0",
            "_model_name": "LayoutModel",
            "_view_count": null,
            "_view_module": "@jupyter-widgets/base",
            "_view_module_version": "1.2.0",
            "_view_name": "LayoutView",
            "align_content": null,
            "align_items": null,
            "align_self": null,
            "border": null,
            "bottom": null,
            "display": null,
            "flex": null,
            "flex_flow": null,
            "grid_area": null,
            "grid_auto_columns": null,
            "grid_auto_flow": null,
            "grid_auto_rows": null,
            "grid_column": null,
            "grid_gap": null,
            "grid_row": null,
            "grid_template_areas": null,
            "grid_template_columns": null,
            "grid_template_rows": null,
            "height": null,
            "justify_content": null,
            "justify_items": null,
            "left": null,
            "margin": null,
            "max_height": null,
            "max_width": null,
            "min_height": null,
            "min_width": null,
            "object_fit": null,
            "object_position": null,
            "order": null,
            "overflow": null,
            "overflow_x": null,
            "overflow_y": null,
            "padding": null,
            "right": null,
            "top": null,
            "visibility": null,
            "width": null
          }
        },
        "98cf8fa7d19f4a0c9c21614351c47876": {
          "model_module": "@jupyter-widgets/controls",
          "model_name": "DescriptionStyleModel",
          "model_module_version": "1.5.0",
          "state": {
            "_model_module": "@jupyter-widgets/controls",
            "_model_module_version": "1.5.0",
            "_model_name": "DescriptionStyleModel",
            "_view_count": null,
            "_view_module": "@jupyter-widgets/base",
            "_view_module_version": "1.2.0",
            "_view_name": "StyleView",
            "description_width": ""
          }
        },
        "46da3b2fdeca4e23a0248ea242d4434e": {
          "model_module": "@jupyter-widgets/base",
          "model_name": "LayoutModel",
          "model_module_version": "1.2.0",
          "state": {
            "_model_module": "@jupyter-widgets/base",
            "_model_module_version": "1.2.0",
            "_model_name": "LayoutModel",
            "_view_count": null,
            "_view_module": "@jupyter-widgets/base",
            "_view_module_version": "1.2.0",
            "_view_name": "LayoutView",
            "align_content": null,
            "align_items": null,
            "align_self": null,
            "border": null,
            "bottom": null,
            "display": null,
            "flex": null,
            "flex_flow": null,
            "grid_area": null,
            "grid_auto_columns": null,
            "grid_auto_flow": null,
            "grid_auto_rows": null,
            "grid_column": null,
            "grid_gap": null,
            "grid_row": null,
            "grid_template_areas": null,
            "grid_template_columns": null,
            "grid_template_rows": null,
            "height": null,
            "justify_content": null,
            "justify_items": null,
            "left": null,
            "margin": null,
            "max_height": null,
            "max_width": null,
            "min_height": null,
            "min_width": null,
            "object_fit": null,
            "object_position": null,
            "order": null,
            "overflow": null,
            "overflow_x": null,
            "overflow_y": null,
            "padding": null,
            "right": null,
            "top": null,
            "visibility": null,
            "width": "20px"
          }
        },
        "babe65b5ae244c9faa8a84304305bbda": {
          "model_module": "@jupyter-widgets/controls",
          "model_name": "ProgressStyleModel",
          "model_module_version": "1.5.0",
          "state": {
            "_model_module": "@jupyter-widgets/controls",
            "_model_module_version": "1.5.0",
            "_model_name": "ProgressStyleModel",
            "_view_count": null,
            "_view_module": "@jupyter-widgets/base",
            "_view_module_version": "1.2.0",
            "_view_name": "StyleView",
            "bar_color": null,
            "description_width": ""
          }
        },
        "ca3a7fbd28ec4988866a4bfb94839020": {
          "model_module": "@jupyter-widgets/base",
          "model_name": "LayoutModel",
          "model_module_version": "1.2.0",
          "state": {
            "_model_module": "@jupyter-widgets/base",
            "_model_module_version": "1.2.0",
            "_model_name": "LayoutModel",
            "_view_count": null,
            "_view_module": "@jupyter-widgets/base",
            "_view_module_version": "1.2.0",
            "_view_name": "LayoutView",
            "align_content": null,
            "align_items": null,
            "align_self": null,
            "border": null,
            "bottom": null,
            "display": null,
            "flex": null,
            "flex_flow": null,
            "grid_area": null,
            "grid_auto_columns": null,
            "grid_auto_flow": null,
            "grid_auto_rows": null,
            "grid_column": null,
            "grid_gap": null,
            "grid_row": null,
            "grid_template_areas": null,
            "grid_template_columns": null,
            "grid_template_rows": null,
            "height": null,
            "justify_content": null,
            "justify_items": null,
            "left": null,
            "margin": null,
            "max_height": null,
            "max_width": null,
            "min_height": null,
            "min_width": null,
            "object_fit": null,
            "object_position": null,
            "order": null,
            "overflow": null,
            "overflow_x": null,
            "overflow_y": null,
            "padding": null,
            "right": null,
            "top": null,
            "visibility": null,
            "width": null
          }
        },
        "5f79bff161e7479aa1110be1629ade2c": {
          "model_module": "@jupyter-widgets/controls",
          "model_name": "DescriptionStyleModel",
          "model_module_version": "1.5.0",
          "state": {
            "_model_module": "@jupyter-widgets/controls",
            "_model_module_version": "1.5.0",
            "_model_name": "DescriptionStyleModel",
            "_view_count": null,
            "_view_module": "@jupyter-widgets/base",
            "_view_module_version": "1.2.0",
            "_view_name": "StyleView",
            "description_width": ""
          }
        }
      }
    }
  },
  "cells": [
    {
      "cell_type": "markdown",
      "metadata": {
        "id": "view-in-github",
        "colab_type": "text"
      },
      "source": [
        "<a href=\"https://colab.research.google.com/github/catalinapesquet/PyTorch-Notes-and-Codes/blob/main/03_pytorch_computer_vision_exercises.ipynb\" target=\"_parent\"><img src=\"https://colab.research.google.com/assets/colab-badge.svg\" alt=\"Open In Colab\"/></a>"
      ]
    },
    {
      "cell_type": "markdown",
      "source": [
        "# 03. PyTorch Computer Vision Exercises\n",
        "\n",
        "The following is a collection of exercises based on computer vision fundamentals in PyTorch.\n",
        "\n",
        "They're a bunch of fun.\n",
        "\n",
        "You're going to get to write plenty of code!\n",
        "\n",
        "## Resources\n",
        "\n",
        "1. These exercises are based on [notebook 03 of the Learn PyTorch for Deep Learning course](https://www.learnpytorch.io/03_pytorch_computer_vision/).\n",
        "2. See a live [walkthrough of the solutions (errors and all) on YouTube](https://youtu.be/_PibmqpEyhA).\n",
        "  * **Note:** Going through these exercises took me just over 3 hours of solid coding, so you should expect around the same.\n",
        "3. See [other solutions on the course GitHub](https://github.com/mrdbourke/pytorch-deep-learning/tree/main/extras/solutions)."
      ],
      "metadata": {
        "id": "Vex99np2wFVt"
      }
    },
    {
      "cell_type": "code",
      "source": [
        "# Check for GPU\n",
        "!nvidia-smi"
      ],
      "metadata": {
        "colab": {
          "base_uri": "https://localhost:8080/"
        },
        "id": "GaeYzOTLwWh2",
        "outputId": "b6988dab-a254-430e-b0de-2e0d64600ba1"
      },
      "execution_count": null,
      "outputs": [
        {
          "output_type": "stream",
          "name": "stdout",
          "text": [
            "Tue Oct 15 16:30:37 2024       \n",
            "+---------------------------------------------------------------------------------------+\n",
            "| NVIDIA-SMI 535.104.05             Driver Version: 535.104.05   CUDA Version: 12.2     |\n",
            "|-----------------------------------------+----------------------+----------------------+\n",
            "| GPU  Name                 Persistence-M | Bus-Id        Disp.A | Volatile Uncorr. ECC |\n",
            "| Fan  Temp   Perf          Pwr:Usage/Cap |         Memory-Usage | GPU-Util  Compute M. |\n",
            "|                                         |                      |               MIG M. |\n",
            "|=========================================+======================+======================|\n",
            "|   0  Tesla T4                       Off | 00000000:00:04.0 Off |                    0 |\n",
            "| N/A   48C    P8              10W /  70W |      0MiB / 15360MiB |      0%      Default |\n",
            "|                                         |                      |                  N/A |\n",
            "+-----------------------------------------+----------------------+----------------------+\n",
            "                                                                                         \n",
            "+---------------------------------------------------------------------------------------+\n",
            "| Processes:                                                                            |\n",
            "|  GPU   GI   CI        PID   Type   Process name                            GPU Memory |\n",
            "|        ID   ID                                                             Usage      |\n",
            "|=======================================================================================|\n",
            "|  No running processes found                                                           |\n",
            "+---------------------------------------------------------------------------------------+\n"
          ]
        }
      ]
    },
    {
      "cell_type": "code",
      "source": [
        "# Import torch\n",
        "import torch\n",
        "\n",
        "# Exercises require PyTorch > 1.10.0\n",
        "print(torch.__version__)\n",
        "\n",
        "# TODO: Setup device agnostic code\n",
        "device = \"cuda\" if torch.cuda.is_available() else \"cpu\""
      ],
      "metadata": {
        "colab": {
          "base_uri": "https://localhost:8080/"
        },
        "id": "DNwZLMbCzJLk",
        "outputId": "4bc85af8-1c01-49cf-e110-cfd5377b7fc8"
      },
      "execution_count": null,
      "outputs": [
        {
          "output_type": "stream",
          "name": "stdout",
          "text": [
            "2.4.1+cu121\n"
          ]
        }
      ]
    },
    {
      "cell_type": "markdown",
      "source": [
        "## 1. What are 3 areas in industry where computer vision is currently being used?"
      ],
      "metadata": {
        "id": "FSFX7tc1w-en"
      }
    },
    {
      "cell_type": "markdown",
      "source": [
        "* Healthcare, analysis of medicine data.\n",
        "\n",
        "* Image segmentation (apple for example).\n",
        "\n",
        "* Face recognition."
      ],
      "metadata": {
        "id": "Jmhz8RpN7CvW"
      }
    },
    {
      "cell_type": "markdown",
      "source": [
        "## 2. Search \"what is overfitting in machine learning\" and write down a sentence about what you find."
      ],
      "metadata": {
        "id": "oBK-WI6YxDYa"
      }
    },
    {
      "cell_type": "markdown",
      "source": [
        "In machine learning, overfitting occurs when an algorithm fits too closely or even exactly to its training data, resulting in a model that can’t make accurate predictions or conclusions from any data other than the training data.\n",
        "\n",
        "How to detect overfit models?\n",
        "\n",
        "To understand the accuracy of machine learning models, it’s important to test for model fitness. K-fold cross-validation is one of the most popular techniques to assess accuracy of the model.\n"
      ],
      "metadata": {
        "id": "G6Tihkp07aI0"
      }
    },
    {
      "cell_type": "markdown",
      "source": [
        "## 3. Search \"ways to prevent overfitting in machine learning\", write down 3 of the things you find and a sentence about each.\n",
        "> **Note:** there are lots of these, so don't worry too much about all of them, just pick 3 and start with those."
      ],
      "metadata": {
        "id": "XeYFEqw8xK26"
      }
    },
    {
      "cell_type": "markdown",
      "source": [
        "How to avoid overfitting?\n",
        "\n",
        "* Early stopping: this method seeks to pause training before the model starts learning the noise within the model. This approach risks halting the training process too soon, leading to the opposite problem of underfitting.\n",
        "* Train with more data: Expanding the training set to include more data can increase the accuracy of the model by providing more opportunities to parse out the dominant relationship among the input and output variables.\n",
        "* Data augmentation: While it is better to inject clean, relevant data into your training data, sometimes noisy data is added to make a model more stable. However, this method should be done sparingly.\n",
        "* Feature selection: Feature selection is the process of identifying the most important parameters within the training data and then eliminating the irrelevant or redundant ones.\n"
      ],
      "metadata": {
        "id": "zd_TOw6K8Uju"
      }
    },
    {
      "cell_type": "markdown",
      "source": [
        "## 4. Spend 20-minutes reading and clicking through the [CNN Explainer website](https://poloclub.github.io/cnn-explainer/).\n",
        "\n",
        "* Upload your own example image using the \"upload\" button on the website and see what happens in each layer of a CNN as your image passes through it."
      ],
      "metadata": {
        "id": "DKdEEFEqxM-8"
      }
    },
    {
      "cell_type": "code",
      "source": [],
      "metadata": {
        "id": "TqZaJIRMbFtS"
      },
      "execution_count": null,
      "outputs": []
    },
    {
      "cell_type": "markdown",
      "source": [
        "## 5. Load the [`torchvision.datasets.MNIST()`](https://pytorch.org/vision/stable/generated/torchvision.datasets.MNIST.html#torchvision.datasets.MNIST) train and test datasets."
      ],
      "metadata": {
        "id": "lvf-3pODxXYI"
      }
    },
    {
      "cell_type": "code",
      "source": [
        "# Import PyTorch\n",
        "import torch\n",
        "from torch import nn\n",
        "\n",
        "# Import torchvision\n",
        "import torchvision\n",
        "from torchvision import datasets\n",
        "from torchvision.transforms import ToTensor\n",
        "\n",
        "# Import matplotlib\n",
        "import matplotlib.pyplot as plt\n"
      ],
      "metadata": {
        "id": "SHjeuN81bHza"
      },
      "execution_count": null,
      "outputs": []
    },
    {
      "cell_type": "markdown",
      "source": [
        "Download the data:\n",
        "* root: str - which folder do you want to download the data to?\n",
        "* train: Bool - do you want the training or test split?\n",
        "* download: Bool - should the data be downloaded?\n",
        "* transform: torchvision.transforms - what transformations would you like to do on the data?\n",
        "* target_transform - you can transform the targets (labels) if you like too."
      ],
      "metadata": {
        "id": "UfUZZxYPlzlf"
      }
    },
    {
      "cell_type": "code",
      "source": [
        "# Setup training data\n",
        "train_data = datasets.MNIST(\n",
        "    root=\"data\", # root directory of dataset\n",
        "    train=True, # training dataset\n",
        "    download=True, # download data if it doesn't exist on disk\n",
        "    transform=ToTensor(), # images come as PIL format\n",
        "    target_transform=None # A function/transform that takes in the target and transforms it.\n",
        ")\n",
        "\n",
        "# Set up testing data\n",
        "test_data = datasets.MNIST(\n",
        "    root=\"data\",\n",
        "    train=False,\n",
        "    download=True,\n",
        "    transform=ToTensor()\n",
        ")"
      ],
      "metadata": {
        "colab": {
          "base_uri": "https://localhost:8080/"
        },
        "id": "vNRsX3Qdlw4U",
        "outputId": "0da989c4-65e0-4343-bb57-cb8f935ca65d"
      },
      "execution_count": null,
      "outputs": [
        {
          "output_type": "stream",
          "name": "stdout",
          "text": [
            "Downloading http://yann.lecun.com/exdb/mnist/train-images-idx3-ubyte.gz\n",
            "Failed to download (trying next):\n",
            "<urlopen error [SSL: CERTIFICATE_VERIFY_FAILED] certificate verify failed: certificate has expired (_ssl.c:1007)>\n",
            "\n",
            "Downloading https://ossci-datasets.s3.amazonaws.com/mnist/train-images-idx3-ubyte.gz\n",
            "Downloading https://ossci-datasets.s3.amazonaws.com/mnist/train-images-idx3-ubyte.gz to data/MNIST/raw/train-images-idx3-ubyte.gz\n"
          ]
        },
        {
          "output_type": "stream",
          "name": "stderr",
          "text": [
            "100%|██████████| 9912422/9912422 [00:00<00:00, 15994970.66it/s]\n"
          ]
        },
        {
          "output_type": "stream",
          "name": "stdout",
          "text": [
            "Extracting data/MNIST/raw/train-images-idx3-ubyte.gz to data/MNIST/raw\n",
            "\n",
            "Downloading http://yann.lecun.com/exdb/mnist/train-labels-idx1-ubyte.gz\n",
            "Failed to download (trying next):\n",
            "<urlopen error [SSL: CERTIFICATE_VERIFY_FAILED] certificate verify failed: certificate has expired (_ssl.c:1007)>\n",
            "\n",
            "Downloading https://ossci-datasets.s3.amazonaws.com/mnist/train-labels-idx1-ubyte.gz\n",
            "Downloading https://ossci-datasets.s3.amazonaws.com/mnist/train-labels-idx1-ubyte.gz to data/MNIST/raw/train-labels-idx1-ubyte.gz\n"
          ]
        },
        {
          "output_type": "stream",
          "name": "stderr",
          "text": [
            "100%|██████████| 28881/28881 [00:00<00:00, 477113.17it/s]\n"
          ]
        },
        {
          "output_type": "stream",
          "name": "stdout",
          "text": [
            "Extracting data/MNIST/raw/train-labels-idx1-ubyte.gz to data/MNIST/raw\n",
            "\n",
            "Downloading http://yann.lecun.com/exdb/mnist/t10k-images-idx3-ubyte.gz\n",
            "Failed to download (trying next):\n",
            "<urlopen error [SSL: CERTIFICATE_VERIFY_FAILED] certificate verify failed: certificate has expired (_ssl.c:1007)>\n",
            "\n",
            "Downloading https://ossci-datasets.s3.amazonaws.com/mnist/t10k-images-idx3-ubyte.gz\n",
            "Downloading https://ossci-datasets.s3.amazonaws.com/mnist/t10k-images-idx3-ubyte.gz to data/MNIST/raw/t10k-images-idx3-ubyte.gz\n"
          ]
        },
        {
          "output_type": "stream",
          "name": "stderr",
          "text": [
            "100%|██████████| 1648877/1648877 [00:00<00:00, 4400505.34it/s]\n"
          ]
        },
        {
          "output_type": "stream",
          "name": "stdout",
          "text": [
            "Extracting data/MNIST/raw/t10k-images-idx3-ubyte.gz to data/MNIST/raw\n",
            "\n",
            "Downloading http://yann.lecun.com/exdb/mnist/t10k-labels-idx1-ubyte.gz\n",
            "Failed to download (trying next):\n",
            "<urlopen error [SSL: CERTIFICATE_VERIFY_FAILED] certificate verify failed: certificate has expired (_ssl.c:1007)>\n",
            "\n",
            "Downloading https://ossci-datasets.s3.amazonaws.com/mnist/t10k-labels-idx1-ubyte.gz\n",
            "Downloading https://ossci-datasets.s3.amazonaws.com/mnist/t10k-labels-idx1-ubyte.gz to data/MNIST/raw/t10k-labels-idx1-ubyte.gz\n"
          ]
        },
        {
          "output_type": "stream",
          "name": "stderr",
          "text": [
            "100%|██████████| 4542/4542 [00:00<00:00, 9845234.51it/s]"
          ]
        },
        {
          "output_type": "stream",
          "name": "stdout",
          "text": [
            "Extracting data/MNIST/raw/t10k-labels-idx1-ubyte.gz to data/MNIST/raw\n",
            "\n"
          ]
        },
        {
          "output_type": "stream",
          "name": "stderr",
          "text": [
            "\n"
          ]
        }
      ]
    },
    {
      "cell_type": "markdown",
      "source": [
        "## 6. Visualize at least 5 different samples of the MNIST training dataset."
      ],
      "metadata": {
        "id": "qxZW-uAbxe_F"
      }
    },
    {
      "cell_type": "code",
      "source": [
        "# See first training sample\n",
        "image, label = train_data[0]\n",
        "image, label"
      ],
      "metadata": {
        "id": "QVFsYi1PbItE",
        "colab": {
          "base_uri": "https://localhost:8080/"
        },
        "outputId": "5c610d02-fc07-49aa-ca94-a1f3b95beeeb"
      },
      "execution_count": null,
      "outputs": [
        {
          "output_type": "execute_result",
          "data": {
            "text/plain": [
              "(tensor([[[0.0000, 0.0000, 0.0000, 0.0000, 0.0000, 0.0000, 0.0000, 0.0000,\n",
              "           0.0000, 0.0000, 0.0000, 0.0000, 0.0000, 0.0000, 0.0000, 0.0000,\n",
              "           0.0000, 0.0000, 0.0000, 0.0000, 0.0000, 0.0000, 0.0000, 0.0000,\n",
              "           0.0000, 0.0000, 0.0000, 0.0000],\n",
              "          [0.0000, 0.0000, 0.0000, 0.0000, 0.0000, 0.0000, 0.0000, 0.0000,\n",
              "           0.0000, 0.0000, 0.0000, 0.0000, 0.0000, 0.0000, 0.0000, 0.0000,\n",
              "           0.0000, 0.0000, 0.0000, 0.0000, 0.0000, 0.0000, 0.0000, 0.0000,\n",
              "           0.0000, 0.0000, 0.0000, 0.0000],\n",
              "          [0.0000, 0.0000, 0.0000, 0.0000, 0.0000, 0.0000, 0.0000, 0.0000,\n",
              "           0.0000, 0.0000, 0.0000, 0.0000, 0.0000, 0.0000, 0.0000, 0.0000,\n",
              "           0.0000, 0.0000, 0.0000, 0.0000, 0.0000, 0.0000, 0.0000, 0.0000,\n",
              "           0.0000, 0.0000, 0.0000, 0.0000],\n",
              "          [0.0000, 0.0000, 0.0000, 0.0000, 0.0000, 0.0000, 0.0000, 0.0000,\n",
              "           0.0000, 0.0000, 0.0000, 0.0000, 0.0000, 0.0000, 0.0000, 0.0000,\n",
              "           0.0000, 0.0000, 0.0000, 0.0000, 0.0000, 0.0000, 0.0000, 0.0000,\n",
              "           0.0000, 0.0000, 0.0000, 0.0000],\n",
              "          [0.0000, 0.0000, 0.0000, 0.0000, 0.0000, 0.0000, 0.0000, 0.0000,\n",
              "           0.0000, 0.0000, 0.0000, 0.0000, 0.0000, 0.0000, 0.0000, 0.0000,\n",
              "           0.0000, 0.0000, 0.0000, 0.0000, 0.0000, 0.0000, 0.0000, 0.0000,\n",
              "           0.0000, 0.0000, 0.0000, 0.0000],\n",
              "          [0.0000, 0.0000, 0.0000, 0.0000, 0.0000, 0.0000, 0.0000, 0.0000,\n",
              "           0.0000, 0.0000, 0.0000, 0.0000, 0.0118, 0.0706, 0.0706, 0.0706,\n",
              "           0.4941, 0.5333, 0.6863, 0.1020, 0.6510, 1.0000, 0.9686, 0.4980,\n",
              "           0.0000, 0.0000, 0.0000, 0.0000],\n",
              "          [0.0000, 0.0000, 0.0000, 0.0000, 0.0000, 0.0000, 0.0000, 0.0000,\n",
              "           0.1176, 0.1412, 0.3686, 0.6039, 0.6667, 0.9922, 0.9922, 0.9922,\n",
              "           0.9922, 0.9922, 0.8824, 0.6745, 0.9922, 0.9490, 0.7647, 0.2510,\n",
              "           0.0000, 0.0000, 0.0000, 0.0000],\n",
              "          [0.0000, 0.0000, 0.0000, 0.0000, 0.0000, 0.0000, 0.0000, 0.1922,\n",
              "           0.9333, 0.9922, 0.9922, 0.9922, 0.9922, 0.9922, 0.9922, 0.9922,\n",
              "           0.9922, 0.9843, 0.3647, 0.3216, 0.3216, 0.2196, 0.1529, 0.0000,\n",
              "           0.0000, 0.0000, 0.0000, 0.0000],\n",
              "          [0.0000, 0.0000, 0.0000, 0.0000, 0.0000, 0.0000, 0.0000, 0.0706,\n",
              "           0.8588, 0.9922, 0.9922, 0.9922, 0.9922, 0.9922, 0.7765, 0.7137,\n",
              "           0.9686, 0.9451, 0.0000, 0.0000, 0.0000, 0.0000, 0.0000, 0.0000,\n",
              "           0.0000, 0.0000, 0.0000, 0.0000],\n",
              "          [0.0000, 0.0000, 0.0000, 0.0000, 0.0000, 0.0000, 0.0000, 0.0000,\n",
              "           0.3137, 0.6118, 0.4196, 0.9922, 0.9922, 0.8039, 0.0431, 0.0000,\n",
              "           0.1686, 0.6039, 0.0000, 0.0000, 0.0000, 0.0000, 0.0000, 0.0000,\n",
              "           0.0000, 0.0000, 0.0000, 0.0000],\n",
              "          [0.0000, 0.0000, 0.0000, 0.0000, 0.0000, 0.0000, 0.0000, 0.0000,\n",
              "           0.0000, 0.0549, 0.0039, 0.6039, 0.9922, 0.3529, 0.0000, 0.0000,\n",
              "           0.0000, 0.0000, 0.0000, 0.0000, 0.0000, 0.0000, 0.0000, 0.0000,\n",
              "           0.0000, 0.0000, 0.0000, 0.0000],\n",
              "          [0.0000, 0.0000, 0.0000, 0.0000, 0.0000, 0.0000, 0.0000, 0.0000,\n",
              "           0.0000, 0.0000, 0.0000, 0.5451, 0.9922, 0.7451, 0.0078, 0.0000,\n",
              "           0.0000, 0.0000, 0.0000, 0.0000, 0.0000, 0.0000, 0.0000, 0.0000,\n",
              "           0.0000, 0.0000, 0.0000, 0.0000],\n",
              "          [0.0000, 0.0000, 0.0000, 0.0000, 0.0000, 0.0000, 0.0000, 0.0000,\n",
              "           0.0000, 0.0000, 0.0000, 0.0431, 0.7451, 0.9922, 0.2745, 0.0000,\n",
              "           0.0000, 0.0000, 0.0000, 0.0000, 0.0000, 0.0000, 0.0000, 0.0000,\n",
              "           0.0000, 0.0000, 0.0000, 0.0000],\n",
              "          [0.0000, 0.0000, 0.0000, 0.0000, 0.0000, 0.0000, 0.0000, 0.0000,\n",
              "           0.0000, 0.0000, 0.0000, 0.0000, 0.1373, 0.9451, 0.8824, 0.6275,\n",
              "           0.4235, 0.0039, 0.0000, 0.0000, 0.0000, 0.0000, 0.0000, 0.0000,\n",
              "           0.0000, 0.0000, 0.0000, 0.0000],\n",
              "          [0.0000, 0.0000, 0.0000, 0.0000, 0.0000, 0.0000, 0.0000, 0.0000,\n",
              "           0.0000, 0.0000, 0.0000, 0.0000, 0.0000, 0.3176, 0.9412, 0.9922,\n",
              "           0.9922, 0.4667, 0.0980, 0.0000, 0.0000, 0.0000, 0.0000, 0.0000,\n",
              "           0.0000, 0.0000, 0.0000, 0.0000],\n",
              "          [0.0000, 0.0000, 0.0000, 0.0000, 0.0000, 0.0000, 0.0000, 0.0000,\n",
              "           0.0000, 0.0000, 0.0000, 0.0000, 0.0000, 0.0000, 0.1765, 0.7294,\n",
              "           0.9922, 0.9922, 0.5882, 0.1059, 0.0000, 0.0000, 0.0000, 0.0000,\n",
              "           0.0000, 0.0000, 0.0000, 0.0000],\n",
              "          [0.0000, 0.0000, 0.0000, 0.0000, 0.0000, 0.0000, 0.0000, 0.0000,\n",
              "           0.0000, 0.0000, 0.0000, 0.0000, 0.0000, 0.0000, 0.0000, 0.0627,\n",
              "           0.3647, 0.9882, 0.9922, 0.7333, 0.0000, 0.0000, 0.0000, 0.0000,\n",
              "           0.0000, 0.0000, 0.0000, 0.0000],\n",
              "          [0.0000, 0.0000, 0.0000, 0.0000, 0.0000, 0.0000, 0.0000, 0.0000,\n",
              "           0.0000, 0.0000, 0.0000, 0.0000, 0.0000, 0.0000, 0.0000, 0.0000,\n",
              "           0.0000, 0.9765, 0.9922, 0.9765, 0.2510, 0.0000, 0.0000, 0.0000,\n",
              "           0.0000, 0.0000, 0.0000, 0.0000],\n",
              "          [0.0000, 0.0000, 0.0000, 0.0000, 0.0000, 0.0000, 0.0000, 0.0000,\n",
              "           0.0000, 0.0000, 0.0000, 0.0000, 0.0000, 0.0000, 0.1804, 0.5098,\n",
              "           0.7176, 0.9922, 0.9922, 0.8118, 0.0078, 0.0000, 0.0000, 0.0000,\n",
              "           0.0000, 0.0000, 0.0000, 0.0000],\n",
              "          [0.0000, 0.0000, 0.0000, 0.0000, 0.0000, 0.0000, 0.0000, 0.0000,\n",
              "           0.0000, 0.0000, 0.0000, 0.0000, 0.1529, 0.5804, 0.8980, 0.9922,\n",
              "           0.9922, 0.9922, 0.9804, 0.7137, 0.0000, 0.0000, 0.0000, 0.0000,\n",
              "           0.0000, 0.0000, 0.0000, 0.0000],\n",
              "          [0.0000, 0.0000, 0.0000, 0.0000, 0.0000, 0.0000, 0.0000, 0.0000,\n",
              "           0.0000, 0.0000, 0.0941, 0.4471, 0.8667, 0.9922, 0.9922, 0.9922,\n",
              "           0.9922, 0.7882, 0.3059, 0.0000, 0.0000, 0.0000, 0.0000, 0.0000,\n",
              "           0.0000, 0.0000, 0.0000, 0.0000],\n",
              "          [0.0000, 0.0000, 0.0000, 0.0000, 0.0000, 0.0000, 0.0000, 0.0000,\n",
              "           0.0902, 0.2588, 0.8353, 0.9922, 0.9922, 0.9922, 0.9922, 0.7765,\n",
              "           0.3176, 0.0078, 0.0000, 0.0000, 0.0000, 0.0000, 0.0000, 0.0000,\n",
              "           0.0000, 0.0000, 0.0000, 0.0000],\n",
              "          [0.0000, 0.0000, 0.0000, 0.0000, 0.0000, 0.0000, 0.0706, 0.6706,\n",
              "           0.8588, 0.9922, 0.9922, 0.9922, 0.9922, 0.7647, 0.3137, 0.0353,\n",
              "           0.0000, 0.0000, 0.0000, 0.0000, 0.0000, 0.0000, 0.0000, 0.0000,\n",
              "           0.0000, 0.0000, 0.0000, 0.0000],\n",
              "          [0.0000, 0.0000, 0.0000, 0.0000, 0.2157, 0.6745, 0.8863, 0.9922,\n",
              "           0.9922, 0.9922, 0.9922, 0.9569, 0.5216, 0.0431, 0.0000, 0.0000,\n",
              "           0.0000, 0.0000, 0.0000, 0.0000, 0.0000, 0.0000, 0.0000, 0.0000,\n",
              "           0.0000, 0.0000, 0.0000, 0.0000],\n",
              "          [0.0000, 0.0000, 0.0000, 0.0000, 0.5333, 0.9922, 0.9922, 0.9922,\n",
              "           0.8314, 0.5294, 0.5176, 0.0627, 0.0000, 0.0000, 0.0000, 0.0000,\n",
              "           0.0000, 0.0000, 0.0000, 0.0000, 0.0000, 0.0000, 0.0000, 0.0000,\n",
              "           0.0000, 0.0000, 0.0000, 0.0000],\n",
              "          [0.0000, 0.0000, 0.0000, 0.0000, 0.0000, 0.0000, 0.0000, 0.0000,\n",
              "           0.0000, 0.0000, 0.0000, 0.0000, 0.0000, 0.0000, 0.0000, 0.0000,\n",
              "           0.0000, 0.0000, 0.0000, 0.0000, 0.0000, 0.0000, 0.0000, 0.0000,\n",
              "           0.0000, 0.0000, 0.0000, 0.0000],\n",
              "          [0.0000, 0.0000, 0.0000, 0.0000, 0.0000, 0.0000, 0.0000, 0.0000,\n",
              "           0.0000, 0.0000, 0.0000, 0.0000, 0.0000, 0.0000, 0.0000, 0.0000,\n",
              "           0.0000, 0.0000, 0.0000, 0.0000, 0.0000, 0.0000, 0.0000, 0.0000,\n",
              "           0.0000, 0.0000, 0.0000, 0.0000],\n",
              "          [0.0000, 0.0000, 0.0000, 0.0000, 0.0000, 0.0000, 0.0000, 0.0000,\n",
              "           0.0000, 0.0000, 0.0000, 0.0000, 0.0000, 0.0000, 0.0000, 0.0000,\n",
              "           0.0000, 0.0000, 0.0000, 0.0000, 0.0000, 0.0000, 0.0000, 0.0000,\n",
              "           0.0000, 0.0000, 0.0000, 0.0000]]]),\n",
              " 5)"
            ]
          },
          "metadata": {},
          "execution_count": 6
        }
      ]
    },
    {
      "cell_type": "code",
      "source": [
        "# What's the shape of the image ?\n",
        "image.shape"
      ],
      "metadata": {
        "colab": {
          "base_uri": "https://localhost:8080/"
        },
        "id": "9fSHNrabnBML",
        "outputId": "edacb3cf-0750-41cf-c9e0-55e37c8a0c5d"
      },
      "execution_count": null,
      "outputs": [
        {
          "output_type": "execute_result",
          "data": {
            "text/plain": [
              "torch.Size([1, 28, 28])"
            ]
          },
          "metadata": {},
          "execution_count": 7
        }
      ]
    },
    {
      "cell_type": "markdown",
      "source": [
        "The shape of the image tensor is [1, 28, 28]"
      ],
      "metadata": {
        "id": "iQ3fxWZ_nFPM"
      }
    },
    {
      "cell_type": "code",
      "source": [
        "# How many samples are there?\n",
        "len(train_data.data), len(train_data.targets), len(test_data.data), len(test_data.targets)"
      ],
      "metadata": {
        "colab": {
          "base_uri": "https://localhost:8080/"
        },
        "id": "gJJfvhQbnK7n",
        "outputId": "7228529b-5c55-49d7-8972-c94bbedf5d73"
      },
      "execution_count": null,
      "outputs": [
        {
          "output_type": "execute_result",
          "data": {
            "text/plain": [
              "(60000, 60000, 10000, 10000)"
            ]
          },
          "metadata": {},
          "execution_count": 8
        }
      ]
    },
    {
      "cell_type": "markdown",
      "source": [
        "So we've got 60,000 training samples and 10,000 testing samples."
      ],
      "metadata": {
        "id": "0Am_bxiYnNHA"
      }
    },
    {
      "cell_type": "code",
      "source": [
        "# See classes\n",
        "class_names = train_data.classes\n",
        "class_names"
      ],
      "metadata": {
        "colab": {
          "base_uri": "https://localhost:8080/"
        },
        "id": "ZdAq4cH1nPy4",
        "outputId": "1a7c3a3c-900b-4ad9-a78b-33856a35aa9f"
      },
      "execution_count": null,
      "outputs": [
        {
          "output_type": "execute_result",
          "data": {
            "text/plain": [
              "['0 - zero',\n",
              " '1 - one',\n",
              " '2 - two',\n",
              " '3 - three',\n",
              " '4 - four',\n",
              " '5 - five',\n",
              " '6 - six',\n",
              " '7 - seven',\n",
              " '8 - eight',\n",
              " '9 - nine']"
            ]
          },
          "metadata": {},
          "execution_count": 9
        }
      ]
    },
    {
      "cell_type": "markdown",
      "source": [
        "Visualizing our data"
      ],
      "metadata": {
        "id": "J53BryY7nWb5"
      }
    },
    {
      "cell_type": "code",
      "source": [
        "image, label = train_data[0]\n",
        "print(f\"Image shape: {image.shape}\")\n",
        "plt.imshow(image.squeeze()) # image shape is [1, 28, 28] (colour channels, height, width)\n",
        "plt.title(label)"
      ],
      "metadata": {
        "colab": {
          "base_uri": "https://localhost:8080/",
          "height": 487
        },
        "id": "fSWn0ooKnWGQ",
        "outputId": "8338cc16-54fb-4833-d6b7-194e834cf9a1"
      },
      "execution_count": null,
      "outputs": [
        {
          "output_type": "stream",
          "name": "stdout",
          "text": [
            "Image shape: torch.Size([1, 28, 28])\n"
          ]
        },
        {
          "output_type": "execute_result",
          "data": {
            "text/plain": [
              "Text(0.5, 1.0, '5')"
            ]
          },
          "metadata": {},
          "execution_count": 10
        },
        {
          "output_type": "display_data",
          "data": {
            "text/plain": [
              "<Figure size 640x480 with 1 Axes>"
            ],
            "image/png": "[encoded data removed]"
          },
          "metadata": {}
        }
      ]
    },
    {
      "cell_type": "code",
      "source": [
        "plt.imshow(image.squeeze(), cmap=\"gray\")\n",
        "plt.title(class_names[label]);"
      ],
      "metadata": {
        "colab": {
          "base_uri": "https://localhost:8080/",
          "height": 452
        },
        "id": "ole-XAqRno7u",
        "outputId": "61b0c473-3136-41e7-88d6-7817ace0137f"
      },
      "execution_count": null,
      "outputs": [
        {
          "output_type": "display_data",
          "data": {
            "text/plain": [
              "<Figure size 640x480 with 1 Axes>"
            ],
            "image/png": "[encoded data removed]"
          },
          "metadata": {}
        }
      ]
    },
    {
      "cell_type": "code",
      "source": [
        "# Plot more images\n",
        "torch.manual_seed(42)\n",
        "fig = plt.figure(figsize=(9, 9))\n",
        "rows, cols = 4, 4\n",
        "for i in range(1, rows * cols + 1):\n",
        "    random_idx = torch.randint(0, len(train_data), size=[1]).item()\n",
        "    img, label = train_data[random_idx]\n",
        "    fig.add_subplot(rows, cols, i)\n",
        "    plt.imshow(img.squeeze(), cmap=\"gray\")\n",
        "    plt.title(class_names[label])\n",
        "    plt.axis(False);"
      ],
      "metadata": {
        "colab": {
          "base_uri": "https://localhost:8080/",
          "height": 663
        },
        "id": "BT_PNp-hnsZ3",
        "outputId": "1cc2bbbe-9cba-4f26-8d76-111182b5c41d"
      },
      "execution_count": null,
      "outputs": [
        {
          "output_type": "display_data",
          "data": {
            "text/plain": [
              "<Figure size 900x900 with 16 Axes>"
            ],
            "image/png": "[encoded data removed]"
          },
          "metadata": {}
        }
      ]
    },
    {
      "cell_type": "markdown",
      "source": [
        "## 7. Turn the MNIST train and test datasets into dataloaders using `torch.utils.data.DataLoader`, set the `batch_size=32`."
      ],
      "metadata": {
        "id": "JAPDzW0wxhi3"
      }
    },
    {
      "cell_type": "markdown",
      "source": [
        "We got a dataset. Need to prepare it with torch.utils.data.DataLoader, turns a large dataset into batches/mini batches"
      ],
      "metadata": {
        "id": "eVRlgDRinvo5"
      }
    },
    {
      "cell_type": "code",
      "source": [
        "from torch.utils.data import DataLoader\n",
        "\n",
        "# Setup batch size\n",
        "BATCH_SIZE=32\n",
        "# Turn data into iterables\n",
        "train_dataloader = DataLoader(train_data,\n",
        "                              batch_size=BATCH_SIZE,\n",
        "                              shuffle=True)\n",
        "test_dataloader = DataLoader(test_data,\n",
        "                             batch_size=BATCH_SIZE,\n",
        "                             shuffle=False)\n",
        "\n",
        "# Let's check out what we've created\n",
        "print(f\"Dataloaders: {train_dataloader, test_dataloader}\")\n",
        "print(f\"Length of train dataloader: {len(train_dataloader)} batches of {BATCH_SIZE}\")\n",
        "print(f\"Length of test dataloader: {len(test_dataloader)} batches of {BATCH_SIZE}\")"
      ],
      "metadata": {
        "id": "ALA6MPcFbJXQ",
        "colab": {
          "base_uri": "https://localhost:8080/"
        },
        "outputId": "9f7e5e57-d91e-4139-ac41-9323ad5b4136"
      },
      "execution_count": null,
      "outputs": [
        {
          "output_type": "stream",
          "name": "stdout",
          "text": [
            "Dataloaders: (<torch.utils.data.dataloader.DataLoader object at 0x7ad07a4bfac0>, <torch.utils.data.dataloader.DataLoader object at 0x7ad07a4bf430>)\n",
            "Length of train dataloader: 1875 batches of 32\n",
            "Length of test dataloader: 313 batches of 32\n"
          ]
        }
      ]
    },
    {
      "cell_type": "code",
      "source": [
        "# Check out what's inside the training dataloader\n",
        "train_features_batch, train_labels_batch = next(iter(train_dataloader))\n",
        "train_features_batch.shape, train_labels_batch.shape"
      ],
      "metadata": {
        "colab": {
          "base_uri": "https://localhost:8080/"
        },
        "id": "55zv5hnoojBh",
        "outputId": "2121c256-37fa-4750-e5ed-ee2a09b4395e"
      },
      "execution_count": null,
      "outputs": [
        {
          "output_type": "execute_result",
          "data": {
            "text/plain": [
              "(torch.Size([32, 1, 28, 28]), torch.Size([32]))"
            ]
          },
          "metadata": {},
          "execution_count": 14
        }
      ]
    },
    {
      "cell_type": "code",
      "source": [
        "# Show a sample\n",
        "torch.manual_seed(42)\n",
        "random_idx = torch.randint(0, len(train_features_batch), size=[1]).item()\n",
        "img, label = train_features_batch[random_idx], train_labels_batch[random_idx]\n",
        "plt.imshow(img.squeeze(), cmap=\"gray\")\n",
        "plt.title(class_names[label])\n",
        "plt.axis(\"Off\");\n",
        "print(f\"Image size: {img.shape}\")\n",
        "print(f\"Label: {label}, label size: {label.shape}\")"
      ],
      "metadata": {
        "colab": {
          "base_uri": "https://localhost:8080/",
          "height": 463
        },
        "id": "6OX8d7cXomxe",
        "outputId": "d2938748-f5f0-477c-9907-3dba93dcdea9"
      },
      "execution_count": null,
      "outputs": [
        {
          "output_type": "stream",
          "name": "stdout",
          "text": [
            "Image size: torch.Size([1, 28, 28])\n",
            "Label: 9, label size: torch.Size([])\n"
          ]
        },
        {
          "output_type": "display_data",
          "data": {
            "text/plain": [
              "<Figure size 640x480 with 1 Axes>"
            ],
            "image/png": "[encoded data removed]"
          },
          "metadata": {}
        }
      ]
    },
    {
      "cell_type": "markdown",
      "source": [
        "## 8. Recreate `model_2` used in notebook 03 (the same model from the [CNN Explainer website](https://poloclub.github.io/cnn-explainer/), also known as TinyVGG) capable of fitting on the MNIST dataset."
      ],
      "metadata": {
        "id": "bCCVfXk5xjYS"
      }
    },
    {
      "cell_type": "code",
      "source": [
        "class MNISTModel(nn.Module):\n",
        "  def __init__(self, input_shape: int, hidden_units:int, output_shape:int):\n",
        "    super().__init__()\n",
        "    self.block_1 = nn.Sequential(\n",
        "        nn.Conv2d(in_channels=input_shape,\n",
        "                  out_channels=hidden_units,\n",
        "                  kernel_size=3, # Size of the convolving kernel\n",
        "                  stride=1,\n",
        "                  padding=1),\n",
        "        nn.ReLU(),\n",
        "        nn.Conv2d(in_channels=hidden_units,\n",
        "                  out_channels=hidden_units,\n",
        "                  kernel_size=3,\n",
        "                  stride=1,\n",
        "                  padding=1),\n",
        "        nn.ReLU(),\n",
        "        nn.MaxPool2d(kernel_size=2,\n",
        "                     stride=2) # default stride value\n",
        "    )\n",
        "    self.block_2 = nn.Sequential(\n",
        "        nn.Conv2d(in_channels=hidden_units,\n",
        "                  out_channels=hidden_units,\n",
        "                  kernel_size=3,\n",
        "                  stride=1,\n",
        "                  padding=1),\n",
        "        nn.ReLU(),\n",
        "        nn.Conv2d(in_channels=hidden_units,\n",
        "                  out_channels=hidden_units,\n",
        "                  kernel_size=3,\n",
        "                  stride=1,\n",
        "                  padding=1),\n",
        "        nn.ReLU(),\n",
        "        nn.MaxPool2d(2)\n",
        "    )\n",
        "    self.classifier = nn.Sequential(\n",
        "        nn.Flatten(),\n",
        "        nn.Linear(in_features=hidden_units*7*7,\n",
        "                  out_features=output_shape)\n",
        "    )\n",
        "  def forward(self,x):\n",
        "    x = self.block_1(x)\n",
        "    # print(f\"Output shape of conv block 1: {x.shape}\")\n",
        "    x = self.block_2(x)\n",
        "    # print(f\"Output shape of conv block 2: {x.shape}\")\n",
        "    x = self.classifier(x)\n",
        "    # print(f\"Output shape of classifier: {x.shape}\")\n",
        "    return x\n"
      ],
      "metadata": {
        "id": "5IKNF22XbKYS"
      },
      "execution_count": null,
      "outputs": []
    },
    {
      "cell_type": "code",
      "source": [
        "device"
      ],
      "metadata": {
        "colab": {
          "base_uri": "https://localhost:8080/",
          "height": 35
        },
        "id": "eV7ENjD4scsn",
        "outputId": "8fb7afd3-2472-4174-f76c-3db41fff00bc"
      },
      "execution_count": null,
      "outputs": [
        {
          "output_type": "execute_result",
          "data": {
            "text/plain": [
              "'cuda'"
            ],
            "application/vnd.google.colaboratory.intrinsic+json": {
              "type": "string"
            }
          },
          "metadata": {},
          "execution_count": 17
        }
      ]
    },
    {
      "cell_type": "code",
      "source": [
        "model = MNISTModel(input_shape=1,\n",
        "                    hidden_units=10,\n",
        "                    output_shape=10).to(device)\n",
        "model"
      ],
      "metadata": {
        "colab": {
          "base_uri": "https://localhost:8080/"
        },
        "id": "w-D6RyKWsezK",
        "outputId": "a2294868-ef20-47b1-e0c5-cacafac4eb3b"
      },
      "execution_count": null,
      "outputs": [
        {
          "output_type": "execute_result",
          "data": {
            "text/plain": [
              "MNISTModel(\n",
              "  (block_1): Sequential(\n",
              "    (0): Conv2d(1, 10, kernel_size=(3, 3), stride=(1, 1), padding=(1, 1))\n",
              "    (1): ReLU()\n",
              "    (2): Conv2d(10, 10, kernel_size=(3, 3), stride=(1, 1), padding=(1, 1))\n",
              "    (3): ReLU()\n",
              "    (4): MaxPool2d(kernel_size=2, stride=2, padding=0, dilation=1, ceil_mode=False)\n",
              "  )\n",
              "  (block_2): Sequential(\n",
              "    (0): Conv2d(10, 10, kernel_size=(3, 3), stride=(1, 1), padding=(1, 1))\n",
              "    (1): ReLU()\n",
              "    (2): Conv2d(10, 10, kernel_size=(3, 3), stride=(1, 1), padding=(1, 1))\n",
              "    (3): ReLU()\n",
              "    (4): MaxPool2d(kernel_size=2, stride=2, padding=0, dilation=1, ceil_mode=False)\n",
              "  )\n",
              "  (classifier): Sequential(\n",
              "    (0): Flatten(start_dim=1, end_dim=-1)\n",
              "    (1): Linear(in_features=490, out_features=10, bias=True)\n",
              "  )\n",
              ")"
            ]
          },
          "metadata": {},
          "execution_count": 18
        }
      ]
    },
    {
      "cell_type": "code",
      "source": [
        "\n",
        "# Check out the model state dict to find out what patterns our model wants to learn\n",
        "model.state_dict()"
      ],
      "metadata": {
        "colab": {
          "base_uri": "https://localhost:8080/"
        },
        "id": "6wWfa5fmz7T6",
        "outputId": "ca0ee2bc-50c0-42b2-8ac4-527ec0c5dbef"
      },
      "execution_count": null,
      "outputs": [
        {
          "output_type": "execute_result",
          "data": {
            "text/plain": [
              "OrderedDict([('block_1.0.weight',\n",
              "              tensor([[[[ 0.2767, -0.0781,  0.3062],\n",
              "                        [-0.0730,  0.0673, -0.1623],\n",
              "                        [ 0.1958,  0.2938, -0.2445]]],\n",
              "              \n",
              "              \n",
              "                      [[[ 0.2897,  0.0624,  0.2463],\n",
              "                        [ 0.0451,  0.1607, -0.0471],\n",
              "                        [ 0.2570,  0.0493, -0.1556]]],\n",
              "              \n",
              "              \n",
              "                      [[[ 0.0850, -0.1536, -0.0391],\n",
              "                        [-0.1354,  0.2211, -0.2631],\n",
              "                        [-0.1537, -0.0941, -0.2004]]],\n",
              "              \n",
              "              \n",
              "                      [[[ 0.0315, -0.3292,  0.3010],\n",
              "                        [-0.2832,  0.2573,  0.0555],\n",
              "                        [-0.1082,  0.2060,  0.0520]]],\n",
              "              \n",
              "              \n",
              "                      [[[ 0.2693,  0.0364, -0.1051],\n",
              "                        [ 0.0896, -0.0904,  0.1403],\n",
              "                        [ 0.2976,  0.1927, -0.1457]]],\n",
              "              \n",
              "              \n",
              "                      [[[ 0.1924,  0.0596,  0.1693],\n",
              "                        [-0.2032, -0.3300, -0.1288],\n",
              "                        [-0.2557,  0.2735,  0.0960]]],\n",
              "              \n",
              "              \n",
              "                      [[[ 0.1381,  0.1054, -0.0058],\n",
              "                        [ 0.2609, -0.2368,  0.0210],\n",
              "                        [-0.2275,  0.1028, -0.1148]]],\n",
              "              \n",
              "              \n",
              "                      [[[ 0.1021, -0.0694,  0.2765],\n",
              "                        [-0.1976, -0.1988, -0.1988],\n",
              "                        [ 0.2998,  0.1111,  0.3208]]],\n",
              "              \n",
              "              \n",
              "                      [[[-0.2751, -0.3306, -0.2608],\n",
              "                        [-0.2242,  0.1350,  0.1194],\n",
              "                        [ 0.2770, -0.1721, -0.2272]]],\n",
              "              \n",
              "              \n",
              "                      [[[ 0.1769, -0.1347,  0.2023],\n",
              "                        [-0.0791,  0.1907, -0.2590],\n",
              "                        [-0.1682,  0.1016,  0.0705]]]], device='cuda:0')),\n",
              "             ('block_1.0.bias',\n",
              "              tensor([-0.0850,  0.1987,  0.2266, -0.2417, -0.1780,  0.3052, -0.1125, -0.1182,\n",
              "                      -0.3225, -0.1909], device='cuda:0')),\n",
              "             ('block_1.2.weight',\n",
              "              tensor([[[[ 0.0263, -0.0139, -0.0765],\n",
              "                        [ 0.0025, -0.0720, -0.0894],\n",
              "                        [-0.0580, -0.0923, -0.0671]],\n",
              "              \n",
              "                       [[ 0.1054,  0.0199,  0.0325],\n",
              "                        [-0.0983, -0.0692, -0.0351],\n",
              "                        [ 0.0165, -0.0928, -0.0454]],\n",
              "              \n",
              "                       [[-0.0631,  0.0003, -0.0392],\n",
              "                        [-0.0073, -0.0714, -0.0724],\n",
              "                        [-0.0615, -0.0361, -0.0832]],\n",
              "              \n",
              "                       [[ 0.0884, -0.0209,  0.0907],\n",
              "                        [ 0.0328, -0.0893,  0.0729],\n",
              "                        [-0.0290, -0.0404, -0.0875]],\n",
              "              \n",
              "                       [[-0.1048,  0.0302, -0.0230],\n",
              "                        [ 0.0410, -0.0865,  0.0783],\n",
              "                        [-0.0774, -0.0182,  0.0220]],\n",
              "              \n",
              "                       [[ 0.0544,  0.0851,  0.0960],\n",
              "                        [-0.0836,  0.0265, -0.0453],\n",
              "                        [-0.0116, -0.0789,  0.0960]],\n",
              "              \n",
              "                       [[-0.0774,  0.0563,  0.0370],\n",
              "                        [ 0.0343, -0.0570,  0.0958],\n",
              "                        [ 0.0232,  0.0136, -0.0929]],\n",
              "              \n",
              "                       [[ 0.0442, -0.0158, -0.0483],\n",
              "                        [ 0.0905,  0.0235, -0.0583],\n",
              "                        [-0.0534, -0.0050,  0.0589]],\n",
              "              \n",
              "                       [[-0.0269, -0.0601, -0.0361],\n",
              "                        [-0.0787,  0.0376,  0.0816],\n",
              "                        [-0.0992,  0.0245,  0.0545]],\n",
              "              \n",
              "                       [[ 0.0191, -0.0375,  0.0550],\n",
              "                        [ 0.0554,  0.0394, -0.0185],\n",
              "                        [-0.0279,  0.0113, -0.0186]]],\n",
              "              \n",
              "              \n",
              "                      [[[-0.0314,  0.0674,  0.0906],\n",
              "                        [-0.0104, -0.0236,  0.0015],\n",
              "                        [-0.0063,  0.0253,  0.0295]],\n",
              "              \n",
              "                       [[-0.0957, -0.0389,  0.0888],\n",
              "                        [ 0.0411, -0.0052, -0.0636],\n",
              "                        [-0.0645, -0.0944, -0.0344]],\n",
              "              \n",
              "                       [[ 0.0356,  0.0672,  0.0487],\n",
              "                        [-0.0932, -0.0634, -0.0166],\n",
              "                        [ 0.1020,  0.0152, -0.0273]],\n",
              "              \n",
              "                       [[ 0.0436, -0.0401, -0.0682],\n",
              "                        [ 0.0769, -0.0479, -0.0211],\n",
              "                        [-0.1049,  0.0705,  0.0799]],\n",
              "              \n",
              "                       [[ 0.0384, -0.0735, -0.1040],\n",
              "                        [-0.0856,  0.0786,  0.0506],\n",
              "                        [ 0.0887,  0.0552,  0.0267]],\n",
              "              \n",
              "                       [[-0.0010, -0.0802, -0.0903],\n",
              "                        [-0.0986,  0.0432, -0.0518],\n",
              "                        [-0.0212, -0.0607, -0.0192]],\n",
              "              \n",
              "                       [[-0.0742, -0.0689,  0.0350],\n",
              "                        [-0.0313,  0.0651, -0.0338],\n",
              "                        [-0.0773, -0.0186, -0.0511]],\n",
              "              \n",
              "                       [[-0.0322, -0.1003,  0.0590],\n",
              "                        [-0.0734,  0.0530,  0.0478],\n",
              "                        [ 0.0753, -0.0809,  0.0758]],\n",
              "              \n",
              "                       [[-0.0498,  0.0391,  0.0990],\n",
              "                        [-0.0149, -0.0008, -0.0243],\n",
              "                        [-0.0880,  0.0506, -0.1046]],\n",
              "              \n",
              "                       [[ 0.0654,  0.0789,  0.0997],\n",
              "                        [-0.0249, -0.0866,  0.0237],\n",
              "                        [ 0.0582, -0.1049, -0.0239]]],\n",
              "              \n",
              "              \n",
              "                      [[[-0.0632, -0.0092, -0.0519],\n",
              "                        [-0.0431, -0.0335, -0.1002],\n",
              "                        [ 0.0865,  0.0884, -0.0165]],\n",
              "              \n",
              "                       [[-0.0120, -0.0430, -0.0952],\n",
              "                        [-0.1026,  0.0392, -0.0579],\n",
              "                        [-0.0678, -0.0082, -0.0351]],\n",
              "              \n",
              "                       [[-0.0341,  0.0034, -0.0224],\n",
              "                        [-0.0363, -0.0505, -0.0858],\n",
              "                        [ 0.0884, -0.0422,  0.0279]],\n",
              "              \n",
              "                       [[-0.0366,  0.0086,  0.0983],\n",
              "                        [ 0.0486, -0.0913,  0.0418],\n",
              "                        [ 0.1001,  0.0277,  0.0707]],\n",
              "              \n",
              "                       [[ 0.1039, -0.0162,  0.0219],\n",
              "                        [-0.0733, -0.0217,  0.0781],\n",
              "                        [ 0.0540, -0.0667, -0.0845]],\n",
              "              \n",
              "                       [[-0.0720, -0.1040, -0.0813],\n",
              "                        [-0.0261,  0.0711,  0.0176],\n",
              "                        [-0.0802, -0.0846,  0.0524]],\n",
              "              \n",
              "                       [[-0.0784, -0.0130,  0.0506],\n",
              "                        [-0.0488, -0.0115, -0.0092],\n",
              "                        [-0.0249, -0.0534, -0.0940]],\n",
              "              \n",
              "                       [[-0.0852, -0.0564,  0.1018],\n",
              "                        [-0.0509, -0.0708,  0.0256],\n",
              "                        [ 0.0291,  0.0578,  0.0801]],\n",
              "              \n",
              "                       [[ 0.0587, -0.1045,  0.0093],\n",
              "                        [ 0.0639, -0.0097, -0.0621],\n",
              "                        [ 0.1005, -0.0394, -0.0600]],\n",
              "              \n",
              "                       [[-0.0950,  0.0047,  0.0467],\n",
              "                        [ 0.0233,  0.0208, -0.0799],\n",
              "                        [-0.0984,  0.0019,  0.0961]]],\n",
              "              \n",
              "              \n",
              "                      [[[ 0.0608, -0.0614, -0.0137],\n",
              "                        [-0.0777, -0.0509,  0.0191],\n",
              "                        [ 0.0574,  0.0873, -0.0968]],\n",
              "              \n",
              "                       [[ 0.0705, -0.0743,  0.0395],\n",
              "                        [ 0.0892,  0.0015,  0.0959],\n",
              "                        [-0.0898, -0.0403,  0.0615]],\n",
              "              \n",
              "                       [[-0.0230, -0.0216, -0.0439],\n",
              "                        [ 0.0727,  0.0517,  0.0338],\n",
              "                        [-0.0592, -0.0856,  0.0114]],\n",
              "              \n",
              "                       [[ 0.0312, -0.0487, -0.0295],\n",
              "                        [ 0.0712,  0.0084,  0.0048],\n",
              "                        [-0.0259, -0.0955, -0.0991]],\n",
              "              \n",
              "                       [[-0.0504, -0.0536,  0.0328],\n",
              "                        [-0.0307, -0.0412,  0.1005],\n",
              "                        [ 0.0367,  0.0751, -0.0510]],\n",
              "              \n",
              "                       [[-0.0431,  0.0387, -0.0702],\n",
              "                        [-0.0689, -0.0051, -0.0386],\n",
              "                        [-0.0790,  0.0625,  0.0848]],\n",
              "              \n",
              "                       [[ 0.0171, -0.0184, -0.0976],\n",
              "                        [-0.0384,  0.0268,  0.0497],\n",
              "                        [-0.0133, -0.0417,  0.0587]],\n",
              "              \n",
              "                       [[-0.0839,  0.0666, -0.0409],\n",
              "                        [ 0.0016, -0.0208,  0.0128],\n",
              "                        [-0.0319,  0.0766, -0.0027]],\n",
              "              \n",
              "                       [[ 0.0823,  0.1013, -0.0514],\n",
              "                        [-0.0769,  0.0846,  0.0826],\n",
              "                        [-0.0805, -0.0081, -0.1039]],\n",
              "              \n",
              "                       [[-0.0863,  0.0204,  0.0280],\n",
              "                        [ 0.0223, -0.0287,  0.0972],\n",
              "                        [ 0.0151, -0.0622, -0.0060]]],\n",
              "              \n",
              "              \n",
              "                      [[[ 0.0253,  0.0369, -0.0745],\n",
              "                        [ 0.0395, -0.0539, -0.0876],\n",
              "                        [-0.0576,  0.1017,  0.0901]],\n",
              "              \n",
              "                       [[ 0.0944,  0.0619,  0.0796],\n",
              "                        [-0.0141, -0.0580,  0.0527],\n",
              "                        [-0.0546, -0.0711, -0.0337]],\n",
              "              \n",
              "                       [[ 0.0221,  0.0543, -0.0409],\n",
              "                        [-0.0620,  0.0142, -0.0621],\n",
              "                        [-0.0686,  0.0549, -0.0177]],\n",
              "              \n",
              "                       [[ 0.0963,  0.1025,  0.0315],\n",
              "                        [ 0.0363,  0.0243,  0.0017],\n",
              "                        [-0.0077,  0.0014,  0.0394]],\n",
              "              \n",
              "                       [[ 0.0980, -0.0273, -0.0446],\n",
              "                        [-0.0255, -0.0509,  0.0179],\n",
              "                        [ 0.0787,  0.0824,  0.0484]],\n",
              "              \n",
              "                       [[-0.0776, -0.0566, -0.0232],\n",
              "                        [-0.0194,  0.0087, -0.0968],\n",
              "                        [ 0.0328, -0.0804, -0.0667]],\n",
              "              \n",
              "                       [[-0.0876,  0.0918, -0.0998],\n",
              "                        [ 0.0795, -0.0035, -0.0123],\n",
              "                        [ 0.0659, -0.0097,  0.0661]],\n",
              "              \n",
              "                       [[ 0.0762, -0.0915,  0.0406],\n",
              "                        [ 0.0199,  0.0227,  0.0154],\n",
              "                        [ 0.0288, -0.0507, -0.0135]],\n",
              "              \n",
              "                       [[ 0.1002,  0.0708, -0.0040],\n",
              "                        [-0.0991,  0.0046, -0.0718],\n",
              "                        [ 0.0857, -0.0640, -0.0076]],\n",
              "              \n",
              "                       [[-0.0234,  0.0188,  0.0992],\n",
              "                        [ 0.0100,  0.0610,  0.0818],\n",
              "                        [ 0.0851, -0.0364, -0.0236]]],\n",
              "              \n",
              "              \n",
              "                      [[[ 0.0508, -0.0288,  0.0494],\n",
              "                        [-0.0230, -0.0715,  0.0429],\n",
              "                        [ 0.0162,  0.0470,  0.1047]],\n",
              "              \n",
              "                       [[ 0.0720,  0.0999,  0.0056],\n",
              "                        [-0.0907, -0.0739, -0.0655],\n",
              "                        [-0.0929, -0.0528, -0.0970]],\n",
              "              \n",
              "                       [[-0.0973, -0.0630, -0.1039],\n",
              "                        [-0.0647,  0.0402,  0.0879],\n",
              "                        [-0.0314, -0.0307,  0.0563]],\n",
              "              \n",
              "                       [[-0.0520, -0.0498,  0.0649],\n",
              "                        [-0.0918,  0.0129,  0.0931],\n",
              "                        [ 0.0181,  0.0287, -0.0614]],\n",
              "              \n",
              "                       [[-0.0015,  0.0058,  0.0259],\n",
              "                        [ 0.0410,  0.0916, -0.0805],\n",
              "                        [ 0.0032, -0.0527, -0.0834]],\n",
              "              \n",
              "                       [[-0.0084, -0.0928,  0.0736],\n",
              "                        [ 0.0122, -0.0568,  0.0551],\n",
              "                        [-0.0998, -0.0408, -0.0205]],\n",
              "              \n",
              "                       [[-0.0896, -0.0670, -0.0172],\n",
              "                        [ 0.0800,  0.1018,  0.0671],\n",
              "                        [-0.0629, -0.0690,  0.0920]],\n",
              "              \n",
              "                       [[ 0.0373,  0.0028,  0.0143],\n",
              "                        [-0.0847, -0.0352,  0.1015],\n",
              "                        [-0.0260, -0.0053, -0.0875]],\n",
              "              \n",
              "                       [[-0.0590, -0.0022, -0.0655],\n",
              "                        [-0.0131,  0.0429, -0.1031],\n",
              "                        [ 0.0313, -0.0697, -0.0514]],\n",
              "              \n",
              "                       [[ 0.0405,  0.0838, -0.0288],\n",
              "                        [-0.0433, -0.0953, -0.0544],\n",
              "                        [-0.0923, -0.0241,  0.0215]]],\n",
              "              \n",
              "              \n",
              "                      [[[-0.0988,  0.0920,  0.0661],\n",
              "                        [-0.1032, -0.0503,  0.0344],\n",
              "                        [-0.0217, -0.0115, -0.0476]],\n",
              "              \n",
              "                       [[ 0.0847, -0.0589,  0.0874],\n",
              "                        [ 0.0068,  0.0212,  0.0822],\n",
              "                        [-0.0174, -0.0600, -0.0170]],\n",
              "              \n",
              "                       [[ 0.0855, -0.0782,  0.0239],\n",
              "                        [-0.1036,  0.0553,  0.0389],\n",
              "                        [ 0.0045,  0.0452,  0.0001]],\n",
              "              \n",
              "                       [[ 0.0583, -0.0834, -0.0155],\n",
              "                        [ 0.0468,  0.1050,  0.0537],\n",
              "                        [-0.0767,  0.0811, -0.0235]],\n",
              "              \n",
              "                       [[-0.0225, -0.0958, -0.0166],\n",
              "                        [ 0.0746,  0.0147, -0.0614],\n",
              "                        [ 0.0324, -0.0338,  0.0962]],\n",
              "              \n",
              "                       [[-0.0915, -0.0333, -0.1018],\n",
              "                        [-0.0415,  0.0332,  0.1015],\n",
              "                        [ 0.0177,  0.1033,  0.0206]],\n",
              "              \n",
              "                       [[ 0.0609,  0.0845,  0.0881],\n",
              "                        [-0.0590,  0.0969,  0.0639],\n",
              "                        [-0.0493, -0.0503, -0.0884]],\n",
              "              \n",
              "                       [[ 0.0265, -0.0854,  0.0445],\n",
              "                        [ 0.0333, -0.0916,  0.0287],\n",
              "                        [-0.0086,  0.0482,  0.0605]],\n",
              "              \n",
              "                       [[-0.1048,  0.0967,  0.0884],\n",
              "                        [ 0.0419, -0.0963, -0.0377],\n",
              "                        [-0.0305, -0.0271,  0.0594]],\n",
              "              \n",
              "                       [[ 0.0383,  0.0835, -0.0395],\n",
              "                        [ 0.0355,  0.0375, -0.0878],\n",
              "                        [-0.1022, -0.0547,  0.0722]]],\n",
              "              \n",
              "              \n",
              "                      [[[-0.0992, -0.0918,  0.0591],\n",
              "                        [ 0.0569,  0.0867, -0.0796],\n",
              "                        [-0.0771,  0.0541,  0.0917]],\n",
              "              \n",
              "                       [[ 0.0631,  0.0165,  0.0347],\n",
              "                        [ 0.1000, -0.0680, -0.0479],\n",
              "                        [ 0.0737, -0.0721, -0.0581]],\n",
              "              \n",
              "                       [[ 0.0769,  0.0333,  0.0341],\n",
              "                        [-0.0447, -0.0015,  0.0965],\n",
              "                        [-0.0633,  0.0008,  0.0501]],\n",
              "              \n",
              "                       [[-0.0728,  0.1024, -0.0527],\n",
              "                        [-0.0253, -0.0285, -0.0687],\n",
              "                        [-0.1034,  0.0594,  0.0280]],\n",
              "              \n",
              "                       [[-0.0987, -0.0678,  0.1042],\n",
              "                        [ 0.0403,  0.0423, -0.0631],\n",
              "                        [-0.0462, -0.0159, -0.0193]],\n",
              "              \n",
              "                       [[-0.0722,  0.0087,  0.0105],\n",
              "                        [-0.0133,  0.0146, -0.0418],\n",
              "                        [ 0.0274,  0.0398, -0.0555]],\n",
              "              \n",
              "                       [[-0.1045,  0.0552,  0.0251],\n",
              "                        [-0.0536,  0.1016, -0.0477],\n",
              "                        [ 0.0712,  0.0535, -0.0884]],\n",
              "              \n",
              "                       [[ 0.0680, -0.0969, -0.0584],\n",
              "                        [-0.0176, -0.0711,  0.1030],\n",
              "                        [-0.0211,  0.0419, -0.0941]],\n",
              "              \n",
              "                       [[ 0.0607, -0.0328, -0.0802],\n",
              "                        [ 0.0154,  0.0511,  0.0912],\n",
              "                        [-0.0644, -0.0519,  0.0203]],\n",
              "              \n",
              "                       [[ 0.0286,  0.0405,  0.0579],\n",
              "                        [-0.0239,  0.0586,  0.0777],\n",
              "                        [-0.0275,  0.0750,  0.0515]]],\n",
              "              \n",
              "              \n",
              "                      [[[ 0.0930, -0.0599, -0.0521],\n",
              "                        [-0.0305,  0.0053,  0.0633],\n",
              "                        [-0.0602,  0.0528, -0.0378]],\n",
              "              \n",
              "                       [[ 0.0637, -0.0050, -0.0923],\n",
              "                        [-0.0580, -0.0763,  0.0523],\n",
              "                        [-0.0707, -0.0088,  0.0227]],\n",
              "              \n",
              "                       [[-0.0578,  0.0304, -0.1029],\n",
              "                        [-0.0754, -0.0955, -0.0319],\n",
              "                        [-0.0384,  0.0151, -0.0195]],\n",
              "              \n",
              "                       [[ 0.0496,  0.0966,  0.0378],\n",
              "                        [-0.0415, -0.0987,  0.0382],\n",
              "                        [-0.0522,  0.0536,  0.0705]],\n",
              "              \n",
              "                       [[ 0.0407,  0.0989,  0.1001],\n",
              "                        [ 0.0223, -0.0768,  0.0942],\n",
              "                        [-0.0500, -0.0498,  0.0882]],\n",
              "              \n",
              "                       [[ 0.0817,  0.0318,  0.0066],\n",
              "                        [-0.0887, -0.0109,  0.1011],\n",
              "                        [ 0.0268,  0.0090, -0.0219]],\n",
              "              \n",
              "                       [[-0.0368,  0.0628,  0.0065],\n",
              "                        [ 0.0686, -0.0187,  0.0461],\n",
              "                        [ 0.0435,  0.0168,  0.0662]],\n",
              "              \n",
              "                       [[ 0.0661,  0.0977,  0.0810],\n",
              "                        [-0.0270, -0.0892,  0.0193],\n",
              "                        [-0.0009, -0.0275, -0.0177]],\n",
              "              \n",
              "                       [[ 0.0050,  0.0769,  0.0329],\n",
              "                        [-0.0374, -0.0433, -0.0261],\n",
              "                        [-0.0407,  0.0948,  0.0558]],\n",
              "              \n",
              "                       [[ 0.0952,  0.0003,  0.0213],\n",
              "                        [ 0.0366, -0.0998,  0.0094],\n",
              "                        [-0.0071, -0.0591, -0.0818]]],\n",
              "              \n",
              "              \n",
              "                      [[[ 0.0933,  0.0857,  0.0489],\n",
              "                        [ 0.1006, -0.0428, -0.0182],\n",
              "                        [ 0.0399, -0.0174, -0.0207]],\n",
              "              \n",
              "                       [[-0.0871,  0.0283, -0.0637],\n",
              "                        [ 0.0038,  0.1028, -0.0324],\n",
              "                        [-0.0332,  0.0636, -0.0388]],\n",
              "              \n",
              "                       [[-0.0091,  0.0984, -0.0432],\n",
              "                        [-0.0754, -0.0590, -0.0292],\n",
              "                        [-0.0500, -0.0547,  0.0426]],\n",
              "              \n",
              "                       [[ 0.0179, -0.0337, -0.0819],\n",
              "                        [-0.0332, -0.0445, -0.0343],\n",
              "                        [-0.0951,  0.0227, -0.0774]],\n",
              "              \n",
              "                       [[-0.0821, -0.0861,  0.0440],\n",
              "                        [-0.0635, -0.0435,  0.0826],\n",
              "                        [ 0.0560,  0.0604, -0.1001]],\n",
              "              \n",
              "                       [[-0.0756, -0.0398,  0.0871],\n",
              "                        [ 0.0108, -0.0788,  0.0007],\n",
              "                        [-0.0819, -0.0231, -0.0290]],\n",
              "              \n",
              "                       [[ 0.0912,  0.0326, -0.0184],\n",
              "                        [ 0.0178, -0.0304,  0.0414],\n",
              "                        [ 0.0417,  0.0283, -0.0411]],\n",
              "              \n",
              "                       [[ 0.0899, -0.0152, -0.0410],\n",
              "                        [ 0.0660,  0.0859,  0.1049],\n",
              "                        [ 0.0312, -0.0359,  0.0535]],\n",
              "              \n",
              "                       [[ 0.0904, -0.1034, -0.0131],\n",
              "                        [-0.0719,  0.0196,  0.0436],\n",
              "                        [-0.0218, -0.0088,  0.0474]],\n",
              "              \n",
              "                       [[-0.0177, -0.0885,  0.0843],\n",
              "                        [-0.0531, -0.0116,  0.0099],\n",
              "                        [-0.0063, -0.0992,  0.0484]]]], device='cuda:0')),\n",
              "             ('block_1.2.bias',\n",
              "              tensor([-0.0479, -0.0547,  0.0252, -0.0550, -0.0487, -0.0355, -0.0396, -0.0440,\n",
              "                      -0.0284,  0.0274], device='cuda:0')),\n",
              "             ('block_2.0.weight',\n",
              "              tensor([[[[-8.5299e-02, -6.3802e-02,  1.5381e-03],\n",
              "                        [ 1.4659e-02,  5.8217e-02, -7.4044e-02],\n",
              "                        [ 3.3646e-02,  5.9914e-02,  5.8530e-02]],\n",
              "              \n",
              "                       [[-9.8180e-02, -4.0225e-02, -9.0606e-02],\n",
              "                        [-6.6704e-02,  5.8711e-02, -1.5740e-02],\n",
              "                        [ 4.4769e-02, -6.1876e-02,  1.6018e-02]],\n",
              "              \n",
              "                       [[-6.3758e-02,  5.2693e-02, -4.6104e-02],\n",
              "                        [-2.6432e-02, -9.1456e-02,  3.4822e-04],\n",
              "                        [ 1.0008e-01,  5.1163e-02, -5.6240e-02]],\n",
              "              \n",
              "                       [[ 1.4176e-03, -1.1558e-02, -8.4862e-02],\n",
              "                        [ 8.2650e-02,  1.6993e-03,  2.2199e-02],\n",
              "                        [-4.2567e-02, -4.9323e-02,  1.7381e-02]],\n",
              "              \n",
              "                       [[ 3.8971e-02,  2.3643e-02, -5.0801e-02],\n",
              "                        [ 1.0234e-01, -1.5517e-02, -6.4554e-02],\n",
              "                        [-4.9301e-02,  1.0377e-01,  5.0766e-06]],\n",
              "              \n",
              "                       [[-1.4309e-02, -4.3867e-02, -2.7633e-02],\n",
              "                        [-8.8779e-02, -8.3767e-02,  6.1695e-02],\n",
              "                        [ 9.0172e-02,  1.0059e-01, -7.6099e-02]],\n",
              "              \n",
              "                       [[ 5.7012e-02, -6.5245e-02,  6.2883e-02],\n",
              "                        [ 7.6058e-02,  8.1573e-02,  7.5900e-02],\n",
              "                        [ 6.5941e-02,  2.0516e-03,  4.8434e-02]],\n",
              "              \n",
              "                       [[-3.7712e-02,  4.5899e-02, -3.3879e-02],\n",
              "                        [-1.7700e-03, -9.1746e-02, -2.7562e-02],\n",
              "                        [-5.5432e-02, -3.5557e-02, -6.7313e-02]],\n",
              "              \n",
              "                       [[-9.4810e-02,  6.8639e-03,  6.8408e-02],\n",
              "                        [ 9.6001e-02,  6.1512e-02, -5.4638e-02],\n",
              "                        [-1.0425e-01,  3.9983e-02,  5.9062e-02]],\n",
              "              \n",
              "                       [[-9.0495e-02,  3.7798e-02,  8.9121e-02],\n",
              "                        [ 6.3853e-03, -6.3505e-02,  8.6423e-02],\n",
              "                        [ 4.5011e-02,  6.9802e-02, -7.1287e-02]]],\n",
              "              \n",
              "              \n",
              "                      [[[ 6.1342e-02, -7.2002e-02,  1.0430e-01],\n",
              "                        [-4.4662e-02,  6.3516e-02,  2.1107e-02],\n",
              "                        [ 2.7935e-02, -1.6165e-02,  4.3295e-02]],\n",
              "              \n",
              "                       [[-4.3932e-02, -9.9357e-02, -4.0499e-02],\n",
              "                        [ 8.2592e-02, -2.7751e-02,  3.3132e-02],\n",
              "                        [-3.8973e-02,  7.9073e-02,  6.3086e-02]],\n",
              "              \n",
              "                       [[ 3.7211e-02, -5.3881e-02, -8.6133e-02],\n",
              "                        [ 3.9686e-03, -6.1839e-02,  8.6667e-02],\n",
              "                        [-1.0130e-01,  4.7104e-02,  1.0508e-01]],\n",
              "              \n",
              "                       [[ 5.2792e-02,  3.5942e-02, -1.0142e-01],\n",
              "                        [ 1.0139e-01, -1.8030e-02, -9.8495e-02],\n",
              "                        [ 1.0406e-01, -4.2894e-02, -7.4575e-03]],\n",
              "              \n",
              "                       [[ 9.6479e-02, -7.3070e-02, -7.4576e-02],\n",
              "                        [ 1.7141e-02, -1.4109e-02,  2.4280e-02],\n",
              "                        [-8.8407e-02,  3.1524e-03, -4.6882e-02]],\n",
              "              \n",
              "                       [[-5.1820e-02, -9.6517e-02,  5.5890e-02],\n",
              "                        [ 2.0306e-02, -8.9118e-02,  8.3648e-02],\n",
              "                        [ 3.1794e-02,  1.9560e-02, -6.1890e-02]],\n",
              "              \n",
              "                       [[ 1.5896e-02,  1.0157e-01,  7.2299e-02],\n",
              "                        [-8.2100e-02,  9.6220e-02,  8.1702e-03],\n",
              "                        [ 5.0698e-02,  8.1869e-02,  8.9862e-02]],\n",
              "              \n",
              "                       [[-8.2170e-02,  9.2303e-02, -7.1591e-02],\n",
              "                        [ 7.9021e-03, -7.3656e-02, -2.3109e-02],\n",
              "                        [-4.7901e-03, -1.2611e-02, -1.6652e-02]],\n",
              "              \n",
              "                       [[ 8.3137e-03,  1.0398e-01,  6.1244e-02],\n",
              "                        [ 5.8973e-02,  4.2190e-02,  8.1606e-02],\n",
              "                        [-4.8645e-03,  8.3813e-03,  2.1693e-02]],\n",
              "              \n",
              "                       [[-9.1931e-02, -8.4913e-02,  1.2923e-02],\n",
              "                        [-4.1241e-02, -1.9342e-03, -2.4187e-02],\n",
              "                        [ 1.6408e-02,  6.8581e-02, -3.4958e-02]]],\n",
              "              \n",
              "              \n",
              "                      [[[ 8.4418e-02,  8.3227e-02, -8.0901e-02],\n",
              "                        [-8.1400e-02, -8.5284e-02, -5.7766e-02],\n",
              "                        [-4.1033e-02, -7.9341e-03, -2.5635e-02]],\n",
              "              \n",
              "                       [[-5.3258e-02, -3.3488e-02, -3.8131e-02],\n",
              "                        [ 1.0341e-01, -3.9068e-02, -7.5473e-02],\n",
              "                        [ 4.3818e-02, -6.0886e-03,  8.0698e-02]],\n",
              "              \n",
              "                       [[ 6.5863e-02,  9.6843e-02, -7.7197e-02],\n",
              "                        [ 6.7764e-02,  8.8464e-02, -5.2054e-02],\n",
              "                        [ 9.6890e-02,  7.9019e-02,  1.1544e-03]],\n",
              "              \n",
              "                       [[ 5.0823e-02, -3.6853e-02, -9.1936e-02],\n",
              "                        [ 2.6645e-02,  3.1425e-02, -6.8891e-02],\n",
              "                        [ 5.1123e-02, -9.0043e-02,  9.0718e-02]],\n",
              "              \n",
              "                       [[ 1.0208e-01,  2.8699e-02, -6.6137e-02],\n",
              "                        [ 5.1300e-02,  1.7963e-02,  2.8663e-02],\n",
              "                        [ 3.4643e-02,  8.0254e-02, -4.5309e-02]],\n",
              "              \n",
              "                       [[-2.3711e-02,  2.8746e-02,  1.1486e-02],\n",
              "                        [ 8.5000e-02, -5.5365e-02, -3.8387e-03],\n",
              "                        [ 1.9696e-02, -2.7996e-02,  7.1859e-02]],\n",
              "              \n",
              "                       [[ 1.1530e-02, -9.7422e-02, -1.1420e-02],\n",
              "                        [-4.7809e-02,  1.0243e-02, -1.2250e-02],\n",
              "                        [-1.0456e-01, -1.9208e-02, -1.0096e-02]],\n",
              "              \n",
              "                       [[-3.1083e-02,  9.6848e-02, -2.3000e-02],\n",
              "                        [ 6.7717e-02,  2.6112e-02, -8.8979e-02],\n",
              "                        [ 2.4770e-02,  8.7356e-02, -6.8948e-02]],\n",
              "              \n",
              "                       [[-6.8134e-02,  1.0318e-01,  8.4697e-02],\n",
              "                        [-5.8807e-02,  6.3429e-02, -1.3485e-02],\n",
              "                        [-1.0393e-01,  7.9198e-03,  3.4057e-02]],\n",
              "              \n",
              "                       [[-3.1619e-02,  3.6670e-02, -9.0136e-02],\n",
              "                        [ 7.3050e-02,  8.9865e-02,  5.8130e-02],\n",
              "                        [ 1.7866e-02,  3.4716e-02, -7.6269e-02]]],\n",
              "              \n",
              "              \n",
              "                      [[[-2.6339e-02, -1.0063e-02, -5.8659e-02],\n",
              "                        [-7.7857e-02,  7.0900e-02,  7.1535e-02],\n",
              "                        [-9.5731e-02,  3.3542e-02,  4.2881e-02]],\n",
              "              \n",
              "                       [[ 1.0014e-01,  6.0985e-02,  9.6907e-02],\n",
              "                        [-3.4510e-02,  7.3827e-02,  8.5740e-02],\n",
              "                        [-9.9541e-02, -8.4613e-02,  2.1335e-02]],\n",
              "              \n",
              "                       [[ 5.7557e-02, -5.2369e-02,  1.1609e-02],\n",
              "                        [-1.5303e-04,  2.6680e-02, -5.6642e-02],\n",
              "                        [ 5.9455e-02,  7.0098e-02, -7.3139e-02]],\n",
              "              \n",
              "                       [[ 1.0211e-03,  2.9247e-04,  3.3849e-02],\n",
              "                        [ 9.8198e-02,  3.0913e-02, -2.3951e-02],\n",
              "                        [ 9.4672e-02, -4.0112e-02, -3.0608e-02]],\n",
              "              \n",
              "                       [[ 7.1969e-03, -8.0270e-02,  1.1470e-02],\n",
              "                        [-7.1518e-02,  1.0838e-02,  1.0099e-02],\n",
              "                        [ 1.4591e-02, -8.8891e-02, -1.0012e-01]],\n",
              "              \n",
              "                       [[ 4.8501e-02,  9.0399e-02, -9.3537e-02],\n",
              "                        [ 3.9043e-02, -7.7594e-02,  6.6082e-03],\n",
              "                        [ 9.8068e-02,  7.9965e-02, -7.7069e-02]],\n",
              "              \n",
              "                       [[ 6.5203e-02,  5.5057e-02, -1.6168e-04],\n",
              "                        [ 1.0211e-01, -4.1866e-02, -2.4530e-02],\n",
              "                        [-5.3275e-02,  1.5168e-02,  2.7911e-02]],\n",
              "              \n",
              "                       [[ 8.3990e-03, -5.9307e-02, -4.7452e-02],\n",
              "                        [ 3.5855e-02, -9.2426e-02, -1.6416e-02],\n",
              "                        [-2.3350e-03, -4.2708e-02,  3.8360e-02]],\n",
              "              \n",
              "                       [[ 6.7940e-03,  7.4004e-02, -9.3616e-03],\n",
              "                        [-6.6528e-02,  7.4477e-02,  1.4720e-02],\n",
              "                        [-3.0189e-02, -6.9476e-02,  2.4707e-02]],\n",
              "              \n",
              "                       [[-1.0053e-01,  2.7762e-02,  5.2119e-02],\n",
              "                        [-9.2465e-02, -6.9009e-02, -7.5781e-02],\n",
              "                        [ 8.8597e-02,  8.9611e-02,  6.5987e-03]]],\n",
              "              \n",
              "              \n",
              "                      [[[ 9.8959e-02, -3.5239e-02, -1.0233e-01],\n",
              "                        [ 3.6819e-02,  3.7343e-02,  1.0334e-01],\n",
              "                        [-3.0510e-05,  8.0785e-02,  6.4612e-02]],\n",
              "              \n",
              "                       [[ 7.6292e-02, -1.0460e-01,  8.6800e-02],\n",
              "                        [-8.9856e-02,  9.4501e-02, -4.3682e-03],\n",
              "                        [-9.3415e-02,  2.9314e-02, -2.1456e-02]],\n",
              "              \n",
              "                       [[-9.4678e-02, -3.8215e-02,  1.0868e-02],\n",
              "                        [ 8.2098e-02, -3.2406e-02,  6.2610e-02],\n",
              "                        [ 1.3200e-02,  3.5531e-03,  2.0170e-02]],\n",
              "              \n",
              "                       [[-6.9177e-02, -8.7616e-02, -3.3121e-02],\n",
              "                        [-9.8226e-02, -4.9158e-02,  4.8494e-03],\n",
              "                        [-6.9424e-02, -4.3723e-02, -1.8941e-02]],\n",
              "              \n",
              "                       [[-1.2144e-02, -5.8187e-02,  5.0650e-03],\n",
              "                        [-1.4795e-02,  3.0147e-02,  4.7611e-03],\n",
              "                        [-5.2638e-02, -3.6291e-02, -1.2149e-03]],\n",
              "              \n",
              "                       [[-6.5774e-02,  8.2520e-03, -7.4425e-03],\n",
              "                        [ 4.0897e-02,  2.4947e-02,  7.8887e-02],\n",
              "                        [-3.4749e-03, -7.7887e-02,  4.7119e-02]],\n",
              "              \n",
              "                       [[-7.1240e-02, -1.4489e-02, -3.4132e-02],\n",
              "                        [-3.9997e-02, -3.9000e-02,  9.6863e-02],\n",
              "                        [ 6.0342e-02,  2.9213e-02,  9.8975e-02]],\n",
              "              \n",
              "                       [[-9.5524e-02,  1.7010e-02,  6.7481e-02],\n",
              "                        [ 7.0022e-02, -8.3890e-02,  3.7514e-02],\n",
              "                        [-6.0050e-02, -4.1187e-03, -2.1996e-02]],\n",
              "              \n",
              "                       [[-8.8013e-02, -1.0055e-01, -6.9349e-02],\n",
              "                        [ 4.7832e-02,  4.8218e-02, -9.1681e-02],\n",
              "                        [-3.9586e-02,  1.7218e-03, -9.1135e-02]],\n",
              "              \n",
              "                       [[ 5.9393e-02,  9.5473e-02,  1.8643e-02],\n",
              "                        [-7.8321e-02,  2.4580e-02,  3.8265e-02],\n",
              "                        [ 8.3468e-02, -5.6085e-02, -9.4437e-02]]],\n",
              "              \n",
              "              \n",
              "                      [[[ 4.6312e-02,  6.5624e-03, -3.4345e-02],\n",
              "                        [-4.4169e-02, -5.4351e-02,  8.5328e-02],\n",
              "                        [-1.8187e-02,  7.6022e-02,  9.4094e-02]],\n",
              "              \n",
              "                       [[ 1.3353e-02,  2.2454e-02, -7.1789e-03],\n",
              "                        [ 7.2397e-02, -9.4983e-02,  4.1919e-02],\n",
              "                        [-1.7174e-02,  4.8132e-02, -4.6949e-04]],\n",
              "              \n",
              "                       [[-3.9029e-02, -1.1379e-02,  5.6920e-02],\n",
              "                        [-7.3210e-02, -6.6629e-02, -2.3611e-02],\n",
              "                        [-3.8235e-02,  4.1409e-02,  7.0937e-02]],\n",
              "              \n",
              "                       [[-1.1289e-02,  9.9672e-02, -4.4042e-02],\n",
              "                        [-5.9151e-02, -4.7191e-02, -7.2624e-02],\n",
              "                        [-7.3885e-02, -9.3921e-02, -9.3422e-02]],\n",
              "              \n",
              "                       [[ 2.7512e-02,  6.4284e-02,  9.8963e-02],\n",
              "                        [ 8.9787e-02, -6.0709e-03,  2.0454e-02],\n",
              "                        [-6.3068e-02,  4.0743e-02, -1.0107e-01]],\n",
              "              \n",
              "                       [[ 4.9719e-02,  1.9334e-02,  3.2393e-02],\n",
              "                        [ 3.8595e-02, -4.8394e-02,  9.0452e-02],\n",
              "                        [ 5.0307e-02,  6.9243e-02,  1.3922e-02]],\n",
              "              \n",
              "                       [[ 6.6196e-02,  7.0941e-02,  4.7775e-02],\n",
              "                        [ 8.0297e-02, -1.9119e-02,  6.9310e-02],\n",
              "                        [ 2.4286e-02,  6.3424e-02,  1.0267e-01]],\n",
              "              \n",
              "                       [[ 2.3869e-02, -3.9124e-02, -1.0488e-02],\n",
              "                        [ 2.9676e-02,  1.7773e-02, -2.8795e-02],\n",
              "                        [ 8.2590e-02,  6.3331e-02, -6.5475e-02]],\n",
              "              \n",
              "                       [[-8.5889e-03, -1.0119e-02, -6.6063e-02],\n",
              "                        [ 1.5374e-02, -3.2360e-02, -5.4419e-02],\n",
              "                        [-3.3894e-02, -3.7584e-02,  1.0084e-01]],\n",
              "              \n",
              "                       [[ 4.0432e-02,  1.0373e-01,  2.8903e-02],\n",
              "                        [ 2.3868e-02,  4.3333e-02,  1.8092e-02],\n",
              "                        [-8.2722e-02, -6.2334e-02, -2.5538e-02]]],\n",
              "              \n",
              "              \n",
              "                      [[[ 1.5846e-03,  3.9709e-02,  4.0588e-02],\n",
              "                        [ 8.3623e-02,  2.1458e-02, -3.5975e-02],\n",
              "                        [-7.9271e-02, -7.7203e-02, -6.2965e-02]],\n",
              "              \n",
              "                       [[ 3.1792e-02,  5.6950e-02,  9.2224e-02],\n",
              "                        [-3.3342e-02, -8.3150e-03, -3.1303e-02],\n",
              "                        [-3.8517e-04,  3.3837e-02, -2.3160e-03]],\n",
              "              \n",
              "                       [[ 4.8799e-03,  1.3354e-02,  3.9256e-02],\n",
              "                        [-3.1981e-02, -6.2855e-02,  2.4869e-02],\n",
              "                        [-1.2481e-02, -4.7753e-02,  4.4268e-02]],\n",
              "              \n",
              "                       [[ 9.5597e-04, -1.5333e-02, -5.1027e-02],\n",
              "                        [-1.3868e-02, -8.9632e-02,  2.3980e-02],\n",
              "                        [ 1.5818e-03,  6.3966e-02,  6.8063e-03]],\n",
              "              \n",
              "                       [[ 8.4277e-03,  2.8715e-02,  8.0210e-02],\n",
              "                        [-4.9812e-02,  6.2930e-02,  2.5779e-02],\n",
              "                        [-7.0320e-02,  3.6702e-02, -6.3217e-02]],\n",
              "              \n",
              "                       [[-3.3181e-02, -5.0245e-02, -7.1711e-02],\n",
              "                        [ 8.3017e-02, -9.4217e-02,  5.2706e-02],\n",
              "                        [-9.4870e-02, -1.2829e-02,  6.2868e-03]],\n",
              "              \n",
              "                       [[ 7.4937e-02, -3.8147e-02,  3.0340e-02],\n",
              "                        [ 1.6329e-02,  6.2021e-02,  6.2667e-03],\n",
              "                        [ 3.9470e-02, -6.3677e-02, -7.3250e-02]],\n",
              "              \n",
              "                       [[ 9.3928e-02, -7.6808e-02, -1.7945e-02],\n",
              "                        [-1.2742e-02,  1.0308e-01, -2.2780e-02],\n",
              "                        [-8.0249e-02, -2.6721e-02,  5.4372e-02]],\n",
              "              \n",
              "                       [[ 4.1773e-02,  8.7204e-02, -2.1579e-02],\n",
              "                        [ 4.9653e-02, -9.9194e-02,  4.0787e-02],\n",
              "                        [ 4.8432e-02,  6.7998e-02, -6.0446e-02]],\n",
              "              \n",
              "                       [[-2.8142e-02,  2.5502e-02, -7.4905e-02],\n",
              "                        [-8.3851e-02, -1.0141e-01,  5.8842e-03],\n",
              "                        [ 6.5458e-02,  2.7075e-02,  6.4263e-03]]],\n",
              "              \n",
              "              \n",
              "                      [[[ 3.6727e-02, -6.6240e-02,  1.1113e-02],\n",
              "                        [-2.6186e-02, -5.2193e-02,  9.0902e-02],\n",
              "                        [-8.1550e-02,  1.5448e-02, -9.2624e-02]],\n",
              "              \n",
              "                       [[-3.5762e-03, -4.6840e-02,  3.4695e-02],\n",
              "                        [-5.9191e-02,  6.7466e-02, -8.5536e-02],\n",
              "                        [ 6.3313e-02, -7.9181e-02,  5.6456e-02]],\n",
              "              \n",
              "                       [[-4.4384e-02, -2.4556e-04, -1.9238e-02],\n",
              "                        [ 6.8414e-02,  3.4546e-02, -9.2887e-02],\n",
              "                        [ 9.6914e-03, -7.2718e-02,  7.8800e-02]],\n",
              "              \n",
              "                       [[ 1.7319e-02, -2.7109e-02, -5.3777e-02],\n",
              "                        [ 3.6485e-02, -6.3129e-02,  4.9992e-02],\n",
              "                        [ 5.7519e-02,  6.4701e-02,  2.7537e-02]],\n",
              "              \n",
              "                       [[-9.2272e-02,  7.5823e-02, -3.2700e-02],\n",
              "                        [-3.1163e-02, -1.1325e-02,  7.7068e-02],\n",
              "                        [ 8.1052e-02,  1.6276e-02,  5.0296e-02]],\n",
              "              \n",
              "                       [[-9.8241e-02,  2.4900e-04, -9.3254e-02],\n",
              "                        [ 3.5876e-02, -7.5099e-02, -3.7568e-02],\n",
              "                        [ 7.3684e-02,  1.0074e-01, -6.3286e-02]],\n",
              "              \n",
              "                       [[-5.8503e-02,  1.3055e-02,  4.1437e-02],\n",
              "                        [-1.7168e-02, -3.2918e-02, -6.9237e-02],\n",
              "                        [ 4.4997e-02,  1.0328e-01, -5.1026e-02]],\n",
              "              \n",
              "                       [[ 4.9718e-02,  5.1481e-02,  8.4728e-02],\n",
              "                        [-1.2001e-02,  3.3202e-03,  7.7444e-02],\n",
              "                        [ 6.6631e-02,  1.0411e-01, -3.0207e-02]],\n",
              "              \n",
              "                       [[ 4.1709e-02,  7.3605e-02, -7.1553e-02],\n",
              "                        [ 2.0940e-02, -2.3586e-02,  6.7760e-02],\n",
              "                        [-4.7342e-02,  7.3933e-03,  6.3067e-02]],\n",
              "              \n",
              "                       [[-9.6567e-02, -8.9004e-02, -5.3989e-02],\n",
              "                        [ 6.7611e-02,  7.0680e-02, -7.1991e-02],\n",
              "                        [ 2.0100e-02, -5.5854e-02, -4.8926e-02]]],\n",
              "              \n",
              "              \n",
              "                      [[[ 9.0907e-02,  5.0914e-02, -2.8828e-02],\n",
              "                        [ 1.5516e-02,  2.0424e-02,  2.4691e-02],\n",
              "                        [-3.6079e-02, -6.2074e-02,  6.9788e-02]],\n",
              "              \n",
              "                       [[ 1.4164e-02,  4.4119e-02, -3.9922e-02],\n",
              "                        [ 5.1057e-02,  7.6713e-02,  6.4107e-02],\n",
              "                        [ 2.8660e-02,  1.0371e-01, -2.3053e-04]],\n",
              "              \n",
              "                       [[ 2.2441e-02,  1.0015e-01,  1.0245e-01],\n",
              "                        [-4.4506e-02,  9.4953e-02,  3.8902e-02],\n",
              "                        [-1.1799e-02,  9.2038e-02, -5.4605e-02]],\n",
              "              \n",
              "                       [[ 6.8490e-02,  1.0445e-01, -7.2701e-02],\n",
              "                        [-6.2201e-02, -1.0445e-01, -1.8970e-02],\n",
              "                        [-9.5733e-02, -3.5304e-02,  3.2002e-02]],\n",
              "              \n",
              "                       [[ 7.4511e-02,  5.8717e-02,  5.8511e-02],\n",
              "                        [ 4.3730e-02, -6.5378e-02, -8.3694e-02],\n",
              "                        [ 4.3696e-03,  1.0009e-01,  5.9351e-03]],\n",
              "              \n",
              "                       [[-9.0662e-03, -7.1545e-02, -5.2266e-02],\n",
              "                        [-8.1256e-02,  8.4398e-02, -1.7174e-02],\n",
              "                        [-9.3119e-02,  1.1308e-02,  7.6494e-03]],\n",
              "              \n",
              "                       [[-1.3023e-02,  3.7733e-02,  5.6687e-02],\n",
              "                        [-9.9128e-02, -8.0753e-02, -5.0639e-03],\n",
              "                        [-9.7729e-02, -9.5750e-02,  9.3067e-02]],\n",
              "              \n",
              "                       [[-8.0174e-03, -5.2113e-02, -3.6157e-02],\n",
              "                        [-8.2295e-02,  8.2258e-02, -2.2857e-02],\n",
              "                        [-5.9265e-02, -7.9944e-02,  6.1611e-02]],\n",
              "              \n",
              "                       [[-1.4571e-02, -1.1074e-02, -2.7473e-02],\n",
              "                        [-5.0883e-02,  1.8751e-02,  8.1099e-02],\n",
              "                        [-6.1093e-02,  5.0504e-03, -8.0165e-02]],\n",
              "              \n",
              "                       [[-4.9426e-02,  9.2525e-02,  1.1052e-03],\n",
              "                        [ 1.0154e-01, -1.8468e-02, -5.7453e-02],\n",
              "                        [-6.2981e-02,  9.3426e-02, -8.1058e-02]]],\n",
              "              \n",
              "              \n",
              "                      [[[ 5.5318e-02,  2.6203e-02,  3.1107e-02],\n",
              "                        [ 5.9476e-02, -2.7577e-02,  6.5223e-02],\n",
              "                        [-8.3982e-02, -3.7087e-02,  7.7164e-02]],\n",
              "              \n",
              "                       [[ 3.1283e-02, -1.4038e-02, -2.4616e-02],\n",
              "                        [-6.4364e-02,  6.4098e-02, -3.3520e-03],\n",
              "                        [-3.5664e-03,  2.4929e-02,  7.7787e-02]],\n",
              "              \n",
              "                       [[-5.3778e-02, -3.6303e-02,  7.1429e-02],\n",
              "                        [ 5.9532e-02, -5.1855e-02, -1.0428e-01],\n",
              "                        [ 1.9555e-02,  5.5434e-02,  2.5178e-02]],\n",
              "              \n",
              "                       [[ 7.4768e-02, -8.3640e-02,  5.3156e-02],\n",
              "                        [-6.5531e-02,  5.9325e-02,  7.8394e-02],\n",
              "                        [ 3.3385e-02,  8.5284e-02, -6.9481e-02]],\n",
              "              \n",
              "                       [[-9.4275e-02, -1.0135e-01,  6.6179e-02],\n",
              "                        [ 3.6926e-02, -7.7188e-02,  5.1048e-02],\n",
              "                        [ 9.6177e-02, -1.0394e-01,  7.6466e-02]],\n",
              "              \n",
              "                       [[ 1.6167e-02,  9.8053e-03,  9.4847e-02],\n",
              "                        [ 9.5458e-02,  4.4414e-02,  8.3288e-02],\n",
              "                        [ 4.3853e-02,  1.7176e-02, -9.2656e-02]],\n",
              "              \n",
              "                       [[ 1.9689e-02, -7.4993e-02,  3.2452e-02],\n",
              "                        [ 1.8598e-02,  2.3681e-03, -7.2071e-02],\n",
              "                        [-6.3899e-02,  7.7912e-02,  5.1336e-02]],\n",
              "              \n",
              "                       [[ 5.5576e-02, -3.1410e-02, -1.8151e-02],\n",
              "                        [-2.7014e-02,  7.2489e-02, -4.5504e-02],\n",
              "                        [ 6.6394e-02,  7.2679e-02, -9.6403e-02]],\n",
              "              \n",
              "                       [[ 6.4369e-04, -2.0076e-02, -5.8273e-02],\n",
              "                        [ 4.5507e-02, -1.2807e-02,  9.2287e-02],\n",
              "                        [-6.5976e-02,  4.8976e-02, -8.9998e-02]],\n",
              "              \n",
              "                       [[-5.2833e-02,  7.1903e-03,  8.3283e-02],\n",
              "                        [ 5.5521e-02, -8.6550e-02,  1.1676e-02],\n",
              "                        [-6.2138e-02,  4.5674e-03, -8.7814e-02]]]], device='cuda:0')),\n",
              "             ('block_2.0.bias',\n",
              "              tensor([-0.0309,  0.0723, -0.0967, -0.1005,  0.0192,  0.0144, -0.0193,  0.0920,\n",
              "                      -0.0635, -0.0640], device='cuda:0')),\n",
              "             ('block_2.2.weight',\n",
              "              tensor([[[[-7.8791e-02, -1.9619e-02, -2.6901e-02],\n",
              "                        [ 6.5222e-02, -5.9186e-03,  3.3663e-02],\n",
              "                        [-4.3804e-02,  8.5507e-02,  8.8862e-02]],\n",
              "              \n",
              "                       [[-9.4401e-02, -2.7090e-02, -8.9439e-02],\n",
              "                        [ 4.4781e-02, -9.2094e-02, -4.9839e-02],\n",
              "                        [ 1.0532e-01, -1.0066e-01,  7.7771e-02]],\n",
              "              \n",
              "                       [[ 8.9049e-03,  8.4289e-02, -5.3494e-02],\n",
              "                        [ 6.9236e-02,  1.2718e-02,  8.1073e-03],\n",
              "                        [ 7.1945e-02, -1.0019e-01, -8.4902e-02]],\n",
              "              \n",
              "                       [[ 1.0180e-01, -6.3298e-02, -7.5980e-02],\n",
              "                        [-5.1539e-03, -3.3742e-02, -1.4421e-02],\n",
              "                        [-7.0623e-02,  3.8034e-02, -9.0703e-02]],\n",
              "              \n",
              "                       [[ 8.5374e-03,  6.1510e-02,  2.0253e-02],\n",
              "                        [ 1.4006e-02,  1.5418e-02, -3.0880e-02],\n",
              "                        [-2.0080e-02, -4.4450e-02, -7.1207e-02]],\n",
              "              \n",
              "                       [[-5.5810e-02,  1.0420e-01, -1.7641e-02],\n",
              "                        [ 3.6924e-02,  7.2896e-02, -8.2343e-03],\n",
              "                        [-5.6707e-02, -7.1419e-02, -3.8833e-02]],\n",
              "              \n",
              "                       [[ 3.7624e-02, -8.8771e-02, -1.2870e-02],\n",
              "                        [ 4.0096e-02,  8.5999e-02,  3.1721e-02],\n",
              "                        [ 2.0846e-02,  7.2162e-02,  4.8708e-02]],\n",
              "              \n",
              "                       [[ 3.5661e-02, -3.2682e-02, -8.4528e-02],\n",
              "                        [-2.2769e-02, -1.9117e-02,  7.7410e-03],\n",
              "                        [-1.1593e-02,  4.2616e-02,  7.0050e-02]],\n",
              "              \n",
              "                       [[-4.2735e-02, -1.0002e-01, -5.4081e-02],\n",
              "                        [-5.0436e-02,  5.9750e-02, -6.7994e-02],\n",
              "                        [-9.9145e-03, -2.2340e-02, -6.3976e-02]],\n",
              "              \n",
              "                       [[ 4.7780e-02, -4.3909e-02, -5.4531e-03],\n",
              "                        [-7.4112e-02, -1.0632e-02,  1.4977e-02],\n",
              "                        [-4.2894e-03, -3.9386e-02,  3.1315e-02]]],\n",
              "              \n",
              "              \n",
              "                      [[[-2.7311e-02, -5.8439e-02, -7.7732e-02],\n",
              "                        [-2.2329e-02, -9.9578e-02,  8.7492e-02],\n",
              "                        [-5.0357e-02, -4.3684e-02,  9.7439e-03]],\n",
              "              \n",
              "                       [[ 2.7326e-02, -9.9393e-03,  7.2313e-02],\n",
              "                        [-6.1448e-02,  3.7777e-02, -2.3773e-04],\n",
              "                        [-8.5747e-02, -4.0824e-02,  2.6825e-02]],\n",
              "              \n",
              "                       [[ 2.0138e-02,  7.6647e-02,  7.0518e-02],\n",
              "                        [-5.7493e-02, -4.5013e-02, -2.2351e-02],\n",
              "                        [-7.5517e-02, -2.8459e-02, -8.6258e-02]],\n",
              "              \n",
              "                       [[ 4.0092e-02,  7.4583e-02,  8.3459e-03],\n",
              "                        [-7.5460e-02, -7.9827e-02, -4.1036e-02],\n",
              "                        [ 3.0659e-02,  2.5711e-03,  1.9166e-02]],\n",
              "              \n",
              "                       [[ 9.9346e-02,  4.8956e-02,  2.2665e-02],\n",
              "                        [-2.1327e-02,  4.9864e-02,  3.8563e-02],\n",
              "                        [-9.4879e-02, -6.2266e-02,  3.5381e-03]],\n",
              "              \n",
              "                       [[ 3.9997e-02,  5.1282e-02, -6.2748e-02],\n",
              "                        [-1.0458e-01, -5.4909e-03, -1.2050e-02],\n",
              "                        [ 3.0588e-02, -2.8988e-02,  8.0588e-02]],\n",
              "              \n",
              "                       [[ 7.0333e-03,  7.6975e-02, -7.3398e-02],\n",
              "                        [ 4.2167e-02,  1.2560e-02, -5.2720e-02],\n",
              "                        [ 5.2256e-02, -1.0372e-01,  8.5220e-02]],\n",
              "              \n",
              "                       [[ 8.4947e-03,  1.0178e-02,  4.8746e-02],\n",
              "                        [ 8.7503e-03,  4.5184e-02,  6.7063e-02],\n",
              "                        [-8.2268e-02,  6.9735e-02, -1.5784e-02]],\n",
              "              \n",
              "                       [[-2.4513e-02,  2.1217e-02,  8.2446e-02],\n",
              "                        [-5.7302e-02, -7.1039e-02,  6.5418e-02],\n",
              "                        [-4.9507e-02,  3.3937e-02, -1.5530e-02]],\n",
              "              \n",
              "                       [[ 2.9014e-02,  8.0439e-02, -5.3421e-02],\n",
              "                        [-5.1151e-02,  5.1716e-02,  5.7714e-03],\n",
              "                        [-1.1601e-02, -9.2590e-02,  8.9309e-02]]],\n",
              "              \n",
              "              \n",
              "                      [[[-3.9919e-03, -1.9415e-02, -4.3269e-02],\n",
              "                        [-2.0801e-02,  5.1233e-02, -2.4227e-03],\n",
              "                        [ 9.0147e-02, -6.0858e-03, -1.5122e-02]],\n",
              "              \n",
              "                       [[ 5.9498e-02, -2.7275e-03, -2.1039e-02],\n",
              "                        [ 3.5231e-02,  8.3129e-02,  2.6305e-02],\n",
              "                        [ 7.3398e-02,  6.8309e-02,  2.9810e-02]],\n",
              "              \n",
              "                       [[ 3.6650e-02,  3.4014e-02,  1.0934e-02],\n",
              "                        [ 8.9675e-02,  9.7308e-02,  3.7524e-02],\n",
              "                        [-5.2640e-03,  9.4509e-02, -8.2042e-02]],\n",
              "              \n",
              "                       [[ 7.7453e-02,  5.5849e-02,  6.7687e-02],\n",
              "                        [-8.0992e-03, -7.8646e-02,  7.5193e-02],\n",
              "                        [-4.6091e-02,  2.7734e-02,  5.9719e-02]],\n",
              "              \n",
              "                       [[-9.8508e-02,  6.9954e-03, -3.7444e-02],\n",
              "                        [ 7.4815e-02, -6.7114e-02,  6.4001e-02],\n",
              "                        [ 6.5730e-02,  5.8156e-02,  1.0119e-01]],\n",
              "              \n",
              "                       [[ 1.5964e-02, -9.5541e-02,  7.5248e-02],\n",
              "                        [ 9.6499e-03,  2.0918e-03, -1.0041e-01],\n",
              "                        [-2.3691e-02, -5.1162e-02,  1.0324e-01]],\n",
              "              \n",
              "                       [[ 7.5054e-02,  7.8634e-02,  7.2188e-02],\n",
              "                        [-6.5340e-02, -4.5270e-02, -4.1252e-02],\n",
              "                        [-4.2257e-02,  8.2054e-02,  3.5815e-02]],\n",
              "              \n",
              "                       [[ 8.4470e-02, -4.9309e-03, -9.3965e-02],\n",
              "                        [-3.0582e-02,  7.4081e-02,  6.4174e-02],\n",
              "                        [ 3.2632e-02, -3.0919e-02, -9.8386e-02]],\n",
              "              \n",
              "                       [[-5.6639e-02,  5.4958e-02, -4.2518e-02],\n",
              "                        [ 5.0421e-02,  2.8781e-02, -4.0486e-02],\n",
              "                        [ 6.4202e-02, -3.3871e-02, -3.5020e-03]],\n",
              "              \n",
              "                       [[-4.0152e-02, -9.9988e-02,  1.6996e-02],\n",
              "                        [ 3.0460e-02, -5.3072e-02,  6.4663e-02],\n",
              "                        [-9.4558e-02, -1.0161e-01, -6.5106e-02]]],\n",
              "              \n",
              "              \n",
              "                      [[[-3.6430e-02, -1.1707e-02, -2.0370e-02],\n",
              "                        [ 4.8108e-02, -9.2510e-02,  1.5521e-02],\n",
              "                        [ 1.8254e-03,  2.7842e-02,  1.0479e-01]],\n",
              "              \n",
              "                       [[ 6.4874e-02, -5.8366e-02, -8.6378e-02],\n",
              "                        [-2.5520e-02, -5.2876e-02,  3.6820e-02],\n",
              "                        [ 9.6628e-04,  8.4783e-02,  4.1405e-02]],\n",
              "              \n",
              "                       [[-1.9382e-02,  3.6229e-03,  2.5244e-02],\n",
              "                        [-1.3080e-02,  8.5058e-02, -8.2420e-02],\n",
              "                        [ 5.1377e-02, -6.7192e-02, -9.2347e-02]],\n",
              "              \n",
              "                       [[-2.1640e-02,  5.1366e-02,  7.4478e-02],\n",
              "                        [ 2.6452e-02, -9.1104e-03, -5.9092e-03],\n",
              "                        [-4.2731e-02, -9.4592e-03, -7.2831e-03]],\n",
              "              \n",
              "                       [[ 8.9699e-02,  6.1690e-02, -8.4351e-02],\n",
              "                        [ 4.3604e-04, -6.4834e-02, -1.6733e-02],\n",
              "                        [-8.3776e-02,  2.7402e-02, -7.6008e-02]],\n",
              "              \n",
              "                       [[ 1.0406e-01,  7.9605e-02, -7.2559e-02],\n",
              "                        [-9.9239e-02,  4.1128e-03, -2.9425e-02],\n",
              "                        [ 3.0945e-02, -7.1353e-02,  4.3148e-02]],\n",
              "              \n",
              "                       [[-9.1047e-02, -5.5632e-02, -5.5414e-02],\n",
              "                        [ 5.1007e-02, -2.7597e-03, -1.0130e-01],\n",
              "                        [-6.0201e-02, -4.8781e-02, -9.7802e-02]],\n",
              "              \n",
              "                       [[ 1.3497e-02,  3.7561e-02, -1.9340e-02],\n",
              "                        [-4.1947e-02, -6.3926e-04, -8.3725e-02],\n",
              "                        [-6.4184e-02, -2.4040e-03,  9.3643e-02]],\n",
              "              \n",
              "                       [[-3.2414e-02,  5.2247e-02, -4.1484e-02],\n",
              "                        [-2.8060e-02, -1.0034e-01,  8.7330e-02],\n",
              "                        [ 1.0264e-01, -2.2139e-03,  6.6974e-02]],\n",
              "              \n",
              "                       [[ 8.6219e-02,  5.2359e-02,  5.4288e-02],\n",
              "                        [-1.0035e-01, -9.9050e-02, -8.0906e-02],\n",
              "                        [ 3.2970e-02, -9.1177e-02, -8.0464e-02]]],\n",
              "              \n",
              "              \n",
              "                      [[[-5.1092e-02, -9.7154e-02,  1.4203e-04],\n",
              "                        [ 1.5207e-02, -6.1686e-02,  6.9018e-02],\n",
              "                        [-4.0018e-02, -2.9676e-02,  8.0309e-02]],\n",
              "              \n",
              "                       [[ 9.0499e-02, -1.2093e-02, -7.5671e-02],\n",
              "                        [-5.2881e-02,  1.3423e-02,  6.1790e-02],\n",
              "                        [ 5.2477e-02, -4.6547e-02, -9.9650e-02]],\n",
              "              \n",
              "                       [[-9.2249e-02, -3.3537e-02,  1.3223e-03],\n",
              "                        [-4.7347e-02, -8.3348e-02,  1.1109e-02],\n",
              "                        [-8.3668e-02, -8.0946e-02, -8.5692e-02]],\n",
              "              \n",
              "                       [[-2.8563e-02,  9.3104e-02,  4.1207e-02],\n",
              "                        [-1.2498e-02,  2.1694e-02,  4.1975e-02],\n",
              "                        [ 6.1414e-04, -8.5020e-02, -6.4944e-02]],\n",
              "              \n",
              "                       [[-7.1610e-02, -2.6766e-03, -9.6492e-02],\n",
              "                        [-1.9166e-02, -3.8545e-02,  1.0345e-01],\n",
              "                        [ 8.5679e-02,  6.1227e-02,  5.9116e-03]],\n",
              "              \n",
              "                       [[-3.4129e-02,  2.6887e-02, -7.2830e-02],\n",
              "                        [-4.4957e-02, -2.1175e-02, -2.4766e-02],\n",
              "                        [-9.9854e-02,  4.1903e-02,  8.6803e-02]],\n",
              "              \n",
              "                       [[-5.8141e-02,  2.8415e-02, -1.2225e-02],\n",
              "                        [-3.8445e-03,  6.1443e-03,  9.1346e-02],\n",
              "                        [ 1.4124e-02, -6.6690e-02, -3.7917e-02]],\n",
              "              \n",
              "                       [[ 5.1495e-02,  3.2893e-02,  2.0487e-03],\n",
              "                        [-1.3912e-02, -4.1012e-02, -3.7413e-02],\n",
              "                        [-5.5602e-02,  1.7273e-02,  2.9603e-02]],\n",
              "              \n",
              "                       [[ 8.0717e-02, -2.3813e-02,  7.5461e-03],\n",
              "                        [ 6.8125e-02,  4.5852e-02,  1.3544e-02],\n",
              "                        [ 3.2390e-02,  5.4714e-03, -9.0419e-02]],\n",
              "              \n",
              "                       [[ 4.0636e-03, -2.3040e-02,  9.5123e-02],\n",
              "                        [ 9.5145e-02,  2.0912e-02,  9.4215e-02],\n",
              "                        [-5.4288e-02,  9.1619e-02,  9.0756e-02]]],\n",
              "              \n",
              "              \n",
              "                      [[[-4.0288e-03, -8.4592e-02, -3.4015e-02],\n",
              "                        [-2.8189e-02,  1.7411e-03, -9.5569e-02],\n",
              "                        [ 1.9535e-02, -4.3839e-02, -2.6989e-02]],\n",
              "              \n",
              "                       [[-5.4443e-02, -2.2255e-02, -9.7896e-02],\n",
              "                        [-5.5885e-02,  9.7108e-03,  6.9072e-02],\n",
              "                        [ 9.5790e-02, -7.9737e-02,  4.4264e-02]],\n",
              "              \n",
              "                       [[-5.9419e-02, -8.1498e-02, -4.6417e-03],\n",
              "                        [-6.0468e-02, -9.0783e-02, -9.8509e-02],\n",
              "                        [-7.0556e-02,  8.6619e-02,  5.8788e-02]],\n",
              "              \n",
              "                       [[-4.1726e-02, -7.0553e-02, -8.1085e-02],\n",
              "                        [-6.2246e-02, -4.3376e-02,  6.3308e-02],\n",
              "                        [ 3.4496e-02, -4.0622e-02,  7.2567e-02]],\n",
              "              \n",
              "                       [[-6.5484e-02, -8.5876e-02,  2.3006e-02],\n",
              "                        [-5.8123e-02,  2.9987e-02,  8.9306e-02],\n",
              "                        [-4.9849e-02, -7.3556e-02,  3.9676e-02]],\n",
              "              \n",
              "                       [[-9.5200e-02,  9.4044e-02, -4.9780e-02],\n",
              "                        [ 5.0961e-02, -8.3818e-02, -7.1348e-02],\n",
              "                        [ 1.1611e-02,  3.7463e-02,  8.1734e-02]],\n",
              "              \n",
              "                       [[ 8.8158e-02, -6.0623e-03, -1.3552e-02],\n",
              "                        [ 1.7424e-02, -2.4486e-02,  3.5882e-03],\n",
              "                        [-9.9828e-02, -8.6531e-02,  7.2233e-02]],\n",
              "              \n",
              "                       [[-6.1597e-02,  8.3008e-02,  1.1568e-02],\n",
              "                        [ 2.5676e-02,  9.5804e-02, -5.8628e-02],\n",
              "                        [-1.6640e-02,  1.8675e-02,  3.6012e-02]],\n",
              "              \n",
              "                       [[-1.0259e-01,  3.7464e-02, -6.2163e-02],\n",
              "                        [ 1.3846e-02,  7.1315e-02, -1.0500e-02],\n",
              "                        [-3.3346e-03, -7.8757e-03,  8.7962e-02]],\n",
              "              \n",
              "                       [[ 5.9907e-02,  1.7727e-02, -6.3437e-02],\n",
              "                        [-5.7241e-02,  8.3964e-02,  7.5834e-02],\n",
              "                        [ 6.1033e-02, -8.2189e-02,  8.2092e-02]]],\n",
              "              \n",
              "              \n",
              "                      [[[-1.0076e-02,  7.7661e-02,  9.1553e-02],\n",
              "                        [ 1.1554e-02, -4.3863e-02,  9.9153e-02],\n",
              "                        [-5.4931e-02,  6.8876e-02, -1.0108e-01]],\n",
              "              \n",
              "                       [[-3.3153e-02, -9.1902e-02, -4.7284e-02],\n",
              "                        [ 4.4759e-02, -7.5529e-02, -9.1158e-02],\n",
              "                        [ 7.5371e-02,  5.6270e-02, -1.1527e-03]],\n",
              "              \n",
              "                       [[-7.4309e-02, -2.7927e-02, -3.4129e-02],\n",
              "                        [ 6.5100e-02, -3.4478e-02, -3.0360e-02],\n",
              "                        [-7.4720e-02, -4.9646e-02,  5.7074e-02]],\n",
              "              \n",
              "                       [[ 6.7914e-02,  1.5315e-02, -3.9549e-02],\n",
              "                        [ 1.0124e-01,  2.0806e-02, -4.0688e-02],\n",
              "                        [-3.6535e-02, -1.4752e-02,  4.9974e-02]],\n",
              "              \n",
              "                       [[ 3.8555e-02,  7.6418e-02, -4.7494e-03],\n",
              "                        [ 8.7183e-02, -4.2816e-02, -4.8547e-02],\n",
              "                        [-3.8927e-02, -9.8896e-02, -6.9195e-02]],\n",
              "              \n",
              "                       [[-9.5382e-02, -6.2294e-03,  9.9374e-04],\n",
              "                        [-2.7358e-02, -7.2035e-02,  9.5637e-02],\n",
              "                        [-3.4926e-02,  5.0233e-02,  7.3408e-02]],\n",
              "              \n",
              "                       [[-6.9291e-02, -1.3179e-02,  6.0923e-02],\n",
              "                        [ 1.0218e-01, -1.3299e-02,  7.6382e-02],\n",
              "                        [-8.2732e-02, -6.8489e-02,  8.6682e-02]],\n",
              "              \n",
              "                       [[-9.9801e-03,  1.0414e-01,  7.6651e-03],\n",
              "                        [-4.3714e-02,  1.0011e-01,  9.2179e-02],\n",
              "                        [ 9.7826e-03, -6.3900e-02, -4.5639e-03]],\n",
              "              \n",
              "                       [[-5.0693e-02,  7.6810e-02,  4.8829e-03],\n",
              "                        [ 2.2191e-02,  6.3927e-02,  3.4916e-02],\n",
              "                        [-6.5803e-02,  8.7566e-02,  6.4758e-02]],\n",
              "              \n",
              "                       [[-6.5073e-02,  7.9700e-02,  2.9905e-02],\n",
              "                        [-2.0750e-02, -7.5385e-02, -1.7490e-02],\n",
              "                        [-1.0335e-01,  6.0163e-02,  7.6343e-02]]],\n",
              "              \n",
              "              \n",
              "                      [[[-3.0347e-02,  9.7720e-02, -3.9032e-02],\n",
              "                        [ 1.8051e-02, -7.3459e-02, -4.4565e-03],\n",
              "                        [ 4.2610e-02,  4.5403e-02, -3.5346e-03]],\n",
              "              \n",
              "                       [[-5.3154e-02,  7.3680e-02,  6.9788e-02],\n",
              "                        [ 1.6916e-02, -4.8475e-02,  2.2349e-02],\n",
              "                        [ 2.8186e-04,  9.6302e-02,  1.5621e-02]],\n",
              "              \n",
              "                       [[ 8.1301e-03,  7.2057e-03,  5.6079e-02],\n",
              "                        [-1.3024e-03,  9.0351e-02,  5.4917e-02],\n",
              "                        [-7.9650e-02, -1.2063e-06, -8.9472e-02]],\n",
              "              \n",
              "                       [[-8.0934e-02,  2.0480e-02,  2.3687e-02],\n",
              "                        [-9.2246e-03,  1.0019e-01, -5.6627e-02],\n",
              "                        [-4.4176e-02, -1.6881e-02,  6.3911e-04]],\n",
              "              \n",
              "                       [[-8.9284e-03,  9.4909e-02, -4.4519e-02],\n",
              "                        [-5.5137e-02,  9.0599e-03,  7.9171e-02],\n",
              "                        [ 2.5019e-02,  5.6787e-02,  2.0406e-02]],\n",
              "              \n",
              "                       [[ 8.9839e-02,  6.3311e-02,  7.5428e-02],\n",
              "                        [-1.4198e-02, -8.7268e-02, -5.0002e-02],\n",
              "                        [ 3.5910e-02,  7.3950e-02, -4.1184e-02]],\n",
              "              \n",
              "                       [[ 8.7218e-02,  1.5150e-02,  4.1869e-04],\n",
              "                        [ 4.1093e-03, -1.8623e-02,  9.8683e-02],\n",
              "                        [ 4.5784e-03,  6.4564e-02, -8.8967e-02]],\n",
              "              \n",
              "                       [[-5.4309e-02,  1.1852e-02,  8.4169e-02],\n",
              "                        [ 5.0184e-02,  2.0076e-02, -1.0414e-01],\n",
              "                        [ 1.9816e-03, -6.9581e-02, -9.0006e-02]],\n",
              "              \n",
              "                       [[ 1.4414e-02, -6.6693e-02,  9.5674e-02],\n",
              "                        [-5.7294e-02,  3.3970e-02,  6.1871e-02],\n",
              "                        [-8.1928e-02,  5.3946e-02, -1.4114e-02]],\n",
              "              \n",
              "                       [[ 5.4619e-02,  1.0201e-01, -4.4922e-02],\n",
              "                        [-4.5653e-02,  8.3753e-02,  1.1722e-02],\n",
              "                        [-1.0513e-02,  7.9971e-02, -5.0928e-02]]],\n",
              "              \n",
              "              \n",
              "                      [[[-5.2047e-03,  7.2403e-02,  4.1195e-02],\n",
              "                        [-6.8180e-02,  2.7398e-02, -8.0368e-02],\n",
              "                        [-5.7245e-02,  6.7779e-02, -2.8093e-02]],\n",
              "              \n",
              "                       [[-5.3691e-02,  7.4717e-03,  2.5759e-02],\n",
              "                        [-6.5524e-02, -7.1084e-02, -1.0209e-01],\n",
              "                        [ 2.7236e-02, -6.8013e-02,  8.0331e-03]],\n",
              "              \n",
              "                       [[-2.3576e-02, -6.8923e-02, -3.3636e-02],\n",
              "                        [-8.1027e-02, -5.5797e-02, -3.2857e-03],\n",
              "                        [-9.0116e-02, -9.2447e-02,  7.8958e-02]],\n",
              "              \n",
              "                       [[ 9.9188e-03, -4.6618e-02, -3.5047e-03],\n",
              "                        [ 7.8168e-02, -8.7939e-02, -5.5886e-02],\n",
              "                        [-7.6226e-02, -7.6634e-03, -3.6274e-03]],\n",
              "              \n",
              "                       [[-8.2146e-02,  7.3163e-02, -8.0946e-02],\n",
              "                        [ 9.8414e-02, -7.2560e-02, -1.4446e-02],\n",
              "                        [ 1.9710e-02, -4.6852e-02,  9.6939e-02]],\n",
              "              \n",
              "                       [[-7.2673e-02, -5.8427e-03, -7.7398e-02],\n",
              "                        [ 2.9261e-02,  8.9871e-02,  9.7776e-02],\n",
              "                        [ 1.2514e-02, -5.2773e-02,  1.0244e-01]],\n",
              "              \n",
              "                       [[ 7.8667e-03,  7.1317e-02, -5.4751e-02],\n",
              "                        [-4.8920e-02, -8.7504e-02,  9.6990e-02],\n",
              "                        [ 1.7486e-02, -7.5704e-02,  9.0535e-03]],\n",
              "              \n",
              "                       [[-4.5211e-02,  5.2659e-03,  3.4988e-02],\n",
              "                        [-5.2308e-02,  1.8394e-02, -6.6553e-02],\n",
              "                        [ 2.0312e-02, -1.0178e-01,  1.6797e-02]],\n",
              "              \n",
              "                       [[ 1.0473e-01,  9.7094e-02,  3.8451e-02],\n",
              "                        [ 7.7563e-02,  1.0248e-01,  2.9870e-02],\n",
              "                        [ 3.5156e-02,  1.3707e-02,  9.3322e-02]],\n",
              "              \n",
              "                       [[ 9.0551e-02, -4.9570e-02, -4.3333e-03],\n",
              "                        [-5.3110e-02,  3.7824e-02, -1.0214e-01],\n",
              "                        [ 3.7301e-02, -2.8929e-02,  3.8227e-02]]],\n",
              "              \n",
              "              \n",
              "                      [[[ 3.2899e-02, -5.2454e-02,  5.4687e-02],\n",
              "                        [ 4.4762e-02, -8.9602e-02,  1.0517e-01],\n",
              "                        [ 9.0731e-02,  6.5584e-02, -1.0699e-02]],\n",
              "              \n",
              "                       [[ 3.7345e-02, -5.7028e-02, -3.5818e-02],\n",
              "                        [ 4.9749e-02,  4.6925e-02,  4.1741e-02],\n",
              "                        [-1.0053e-01,  8.7350e-02, -4.4028e-02]],\n",
              "              \n",
              "                       [[ 9.1223e-02,  8.6852e-02,  3.9070e-02],\n",
              "                        [ 1.0502e-01,  6.0528e-02,  6.1821e-02],\n",
              "                        [-3.5794e-02,  9.7766e-02,  2.7627e-02]],\n",
              "              \n",
              "                       [[ 6.2280e-02, -2.3834e-02,  7.6340e-02],\n",
              "                        [ 9.3509e-02, -8.0770e-02,  8.6415e-02],\n",
              "                        [-6.9664e-02, -7.2571e-02, -8.8089e-02]],\n",
              "              \n",
              "                       [[ 3.0459e-02, -7.9144e-02, -3.9680e-02],\n",
              "                        [-5.2988e-02,  2.8172e-02, -1.0349e-01],\n",
              "                        [-4.8324e-02,  7.7112e-04,  9.4660e-03]],\n",
              "              \n",
              "                       [[-4.7605e-02,  3.7764e-02, -6.9544e-02],\n",
              "                        [-8.9270e-02, -1.4986e-02, -5.6989e-02],\n",
              "                        [ 6.6443e-02, -7.2049e-02, -8.8494e-03]],\n",
              "              \n",
              "                       [[ 4.3782e-02, -9.2311e-02,  8.1599e-02],\n",
              "                        [-4.7895e-02, -2.8684e-02, -6.4480e-02],\n",
              "                        [-3.9279e-02, -4.0645e-02, -9.3801e-02]],\n",
              "              \n",
              "                       [[ 3.6019e-02, -3.3768e-04,  1.0311e-01],\n",
              "                        [ 7.1117e-02,  9.1699e-02,  3.1014e-02],\n",
              "                        [ 5.5388e-02,  9.8704e-02,  8.6545e-02]],\n",
              "              \n",
              "                       [[-8.0996e-02, -2.3636e-02, -1.0166e-01],\n",
              "                        [ 3.9877e-03, -3.7229e-02,  9.1486e-02],\n",
              "                        [ 1.6666e-02,  1.1601e-03, -7.6248e-02]],\n",
              "              \n",
              "                       [[-8.2718e-02,  1.6594e-02, -5.2376e-02],\n",
              "                        [-4.8409e-02,  7.3938e-02, -5.4952e-02],\n",
              "                        [-4.6918e-02,  8.0934e-02,  4.1183e-02]]]], device='cuda:0')),\n",
              "             ('block_2.2.bias',\n",
              "              tensor([-0.0599,  0.0319,  0.0531, -0.0936,  0.0197,  0.0241, -0.0041,  0.1011,\n",
              "                      -0.0697,  0.0571], device='cuda:0')),\n",
              "             ('classifier.1.weight',\n",
              "              tensor([[-0.0240, -0.0387,  0.0308,  ..., -0.0015, -0.0225,  0.0228],\n",
              "                      [ 0.0067, -0.0439, -0.0080,  ...,  0.0368,  0.0293,  0.0303],\n",
              "                      [ 0.0347, -0.0211, -0.0252,  ..., -0.0423, -0.0240,  0.0283],\n",
              "                      ...,\n",
              "                      [-0.0343,  0.0166, -0.0148,  ...,  0.0113, -0.0143, -0.0294],\n",
              "                      [-0.0316,  0.0251,  0.0204,  ...,  0.0300, -0.0396, -0.0246],\n",
              "                      [-0.0035, -0.0046,  0.0160,  ..., -0.0358,  0.0175,  0.0320]],\n",
              "                     device='cuda:0')),\n",
              "             ('classifier.1.bias',\n",
              "              tensor([-0.0445,  0.0246, -0.0357, -0.0442,  0.0156, -0.0010, -0.0277,  0.0404,\n",
              "                       0.0037, -0.0283], device='cuda:0'))])"
            ]
          },
          "metadata": {},
          "execution_count": 19
        }
      ]
    },
    {
      "cell_type": "markdown",
      "source": [
        "## 9. Train the model you built in exercise 8. for 5 epochs on CPU and GPU and see how long it takes on each."
      ],
      "metadata": {
        "id": "sf_3zUr7xlhy"
      }
    },
    {
      "cell_type": "code",
      "source": [
        "%%time\n",
        "from tqdm.auto import tqdm\n",
        "\n",
        "# Train on CPU\n",
        "model_cpu = MNISTModel(input_shape=1,\n",
        "                        hidden_units=10,\n",
        "                        output_shape=10).to(\"cpu\")\n",
        "\n",
        "# Create a loss function and optimizer\n",
        "loss_fn = nn.CrossEntropyLoss()\n",
        "optimizer = torch.optim.SGD(model_cpu.parameters(), lr=0.1)\n",
        "\n",
        "### Training loop\n",
        "epochs = 5\n",
        "for epoch in tqdm(range(epochs)):\n",
        "  train_loss = 0\n",
        "  for batch, (X, y) in enumerate(train_dataloader):\n",
        "    model_cpu.train()\n",
        "\n",
        "    # Put data on CPU\n",
        "    X, y = X.to(\"cpu\"), y.to(\"cpu\")\n",
        "\n",
        "    # Forward pass\n",
        "    y_pred = model_cpu(X)\n",
        "\n",
        "    # Loss calculation\n",
        "    loss = loss_fn(y_pred, y)\n",
        "    train_loss += loss\n",
        "\n",
        "    # Optimizer zero grad\n",
        "    optimizer.zero_grad()\n",
        "\n",
        "    # Loss backward\n",
        "    loss.backward()\n",
        "\n",
        "    # Step the optimizer\n",
        "    optimizer.step()\n",
        "\n",
        "  # Adjust train loss for number of batches\n",
        "  train_loss /= len(train_dataloader)\n",
        "\n",
        "  ### Testing loop\n",
        "  test_loss_total = 0\n",
        "\n",
        "  # Put model in eval mode\n",
        "  model_cpu.eval()\n",
        "\n",
        "  # Turn on inference mode\n",
        "  with torch.inference_mode():\n",
        "    for batch, (X_test, y_test) in enumerate(test_dataloader):\n",
        "      # Make sure test data on CPU\n",
        "      X_test, y_test = X_test.to(\"cpu\"), y_test.to(\"cpu\")\n",
        "      test_pred = model_cpu(X_test)\n",
        "      test_loss = loss_fn(test_pred, y_test)\n",
        "\n",
        "      test_loss_total += test_loss\n",
        "\n",
        "    test_loss_total /= len(test_dataloader)\n",
        "\n",
        "  # Print out what's happening\n",
        "  print(f\"Epoch: {epoch} | Loss: {train_loss:.3f} | Test loss: {test_loss_total:.3f}\")"
      ],
      "metadata": {
        "id": "jSo6vVWFbNLD",
        "colab": {
          "base_uri": "https://localhost:8080/",
          "height": 171,
          "referenced_widgets": [
            "529095765d294b49986883260e3ed2d1",
            "d6af6e49428d41ac8e8ce492b27f86c7",
            "7da4cd4b83e94ec4a97020ef4333dcd6",
            "c3c69fb211da406ab3f00e5d606e4815",
            "f72b2552baa14646b758271b1574acef",
            "e6ee62789e784253bc8d25575e50d832",
            "cdb153b31f75448ea9895b611ad5a8b6",
            "41646fdef4fa4490a79ae4be79a8d7c7",
            "0b5e0aee45eb410f9584568335f6655b",
            "24fdb2ee97804b6fb4a723e062df581d",
            "0221ec43d21949ef92b7a74dfead7521"
          ]
        },
        "outputId": "f62b17bc-1292-441b-a37e-4130d6b89c75"
      },
      "execution_count": null,
      "outputs": [
        {
          "output_type": "display_data",
          "data": {
            "text/plain": [
              "  0%|          | 0/5 [00:00<?, ?it/s]"
            ],
            "application/vnd.jupyter.widget-view+json": {
              "version_major": 2,
              "version_minor": 0,
              "model_id": "529095765d294b49986883260e3ed2d1"
            }
          },
          "metadata": {}
        },
        {
          "output_type": "stream",
          "name": "stdout",
          "text": [
            "Epoch: 0 | Loss: 0.286 | Test loss: 0.065\n",
            "Epoch: 1 | Loss: 0.067 | Test loss: 0.059\n",
            "Epoch: 2 | Loss: 0.052 | Test loss: 0.041\n",
            "Epoch: 3 | Loss: 0.045 | Test loss: 0.041\n",
            "Epoch: 4 | Loss: 0.039 | Test loss: 0.043\n",
            "CPU times: user 3min 47s, sys: 1.01 s, total: 3min 48s\n",
            "Wall time: 3min 57s\n"
          ]
        }
      ]
    },
    {
      "cell_type": "code",
      "source": [
        "%%time\n",
        "from tqdm.auto import tqdm\n",
        "\n",
        "device = \"cuda\" if torch.cuda.is_available() else \"cpu\"\n",
        "\n",
        "# Train on GPU\n",
        "model_gpu = MNISTModel(input_shape=1,\n",
        "                        hidden_units=10,\n",
        "                        output_shape=10).to(device)\n",
        "\n",
        "# Create a loss function and optimizer\n",
        "loss_fn = nn.CrossEntropyLoss()\n",
        "optimizer = torch.optim.SGD(model_gpu.parameters(), lr=0.1)\n",
        "\n",
        "# Training loop\n",
        "epochs = 5\n",
        "for epoch in tqdm(range(epochs)):\n",
        "  train_loss = 0\n",
        "  model_gpu.train()\n",
        "  for batch, (X, y) in enumerate(train_dataloader):\n",
        "    # Put data on target device\n",
        "    X, y = X.to(device), y.to(device)\n",
        "\n",
        "    # Forward pass\n",
        "    y_pred = model_gpu(X)\n",
        "\n",
        "    # Loss calculation\n",
        "    loss = loss_fn(y_pred, y)\n",
        "    train_loss += loss\n",
        "\n",
        "    # Optimizer zero grad\n",
        "    optimizer.zero_grad()\n",
        "\n",
        "    # Loss backward\n",
        "    loss.backward()\n",
        "\n",
        "    # Step the optimizer\n",
        "    optimizer.step()\n",
        "\n",
        "  # Adjust train loss to number of batches\n",
        "  train_loss /= len(train_dataloader)\n",
        "\n",
        "  ### Testing loop\n",
        "  test_loss_total = 0\n",
        "  # Put model in eval mode and turn on inference mode\n",
        "  model_gpu.eval()\n",
        "  with torch.inference_mode():\n",
        "    for batch, (X_test, y_test) in enumerate(test_dataloader):\n",
        "      # Make sure test data on target device\n",
        "      X_test, y_test = X_test.to(device), y_test.to(device)\n",
        "\n",
        "      test_pred = model_gpu(X_test)\n",
        "      test_loss = loss_fn(test_pred, y_test)\n",
        "\n",
        "      test_loss_total += test_loss\n",
        "\n",
        "    # Adjust test loss total for number of batches\n",
        "    test_loss_total /= len(test_dataloader)\n",
        "\n",
        "  # Print out what's happening\n",
        "  print(f\"Epoch: {epoch} | Loss: {train_loss:.3f} | Test loss: {test_loss_total:.3f}\")\n"
      ],
      "metadata": {
        "colab": {
          "base_uri": "https://localhost:8080/",
          "height": 171,
          "referenced_widgets": [
            "fe4235b756954399b6d26fedae5fb672",
            "448a3e8be80e4ced8b5ff9fc18fd1045",
            "611cc5e32cb84c9d84e382ef37ead87d",
            "829649664a594f6eb55cc2a360eab17d",
            "7d6d927552c94cbc97fcf0b72a95c448",
            "50bf0ebf2d0a408ea4a15cf190d2c72b",
            "aec607dc69074f9e81e358fec66152c3",
            "e0fdf6e9d85945cfa728afb2e9eaadbf",
            "9ddc24fe665d44d7892754ef2015025f",
            "cb5227003903403d9e8bb9a35a9d38de",
            "e3d9e805bf7949d9a79531e15bfbedfa"
          ]
        },
        "id": "yJ8Vr1zo4rO_",
        "outputId": "fc28d3d8-3974-4e67-ace0-8fe9604d6f9a"
      },
      "execution_count": null,
      "outputs": [
        {
          "output_type": "display_data",
          "data": {
            "text/plain": [
              "  0%|          | 0/5 [00:00<?, ?it/s]"
            ],
            "application/vnd.jupyter.widget-view+json": {
              "version_major": 2,
              "version_minor": 0,
              "model_id": "fe4235b756954399b6d26fedae5fb672"
            }
          },
          "metadata": {}
        },
        {
          "output_type": "stream",
          "name": "stdout",
          "text": [
            "Epoch: 0 | Loss: 0.270 | Test loss: 0.070\n",
            "Epoch: 1 | Loss: 0.070 | Test loss: 0.050\n",
            "Epoch: 2 | Loss: 0.055 | Test loss: 0.053\n",
            "Epoch: 3 | Loss: 0.047 | Test loss: 0.047\n",
            "Epoch: 4 | Loss: 0.041 | Test loss: 0.042\n",
            "CPU times: user 59.5 s, sys: 554 ms, total: 1min\n",
            "Wall time: 1min 1s\n"
          ]
        }
      ]
    },
    {
      "cell_type": "markdown",
      "source": [
        "## 10. Make predictions using your trained model and visualize at least 5 of them comparing the prediciton to the target label."
      ],
      "metadata": {
        "id": "w1CsHhPpxp1w"
      }
    },
    {
      "cell_type": "code",
      "source": [
        "# Make predictions with the trained model\n",
        "plt.imshow(test_data[0][0].squeeze(), cmap=\"gray\")"
      ],
      "metadata": {
        "id": "_YGgZvSobNxu",
        "colab": {
          "base_uri": "https://localhost:8080/",
          "height": 447
        },
        "outputId": "a7c62103-53ec-486b-dabd-bd43d6dfb654"
      },
      "execution_count": null,
      "outputs": [
        {
          "output_type": "execute_result",
          "data": {
            "text/plain": [
              "<matplotlib.image.AxesImage at 0x7ad07a219bd0>"
            ]
          },
          "metadata": {},
          "execution_count": 22
        },
        {
          "output_type": "display_data",
          "data": {
            "text/plain": [
              "<Figure size 640x480 with 1 Axes>"
            ],
            "image/png": "[encoded data removed]"
          },
          "metadata": {}
        }
      ]
    },
    {
      "cell_type": "code",
      "source": [
        "# Logits -> Prediction probabilities -> Prediction labels\n",
        "model_pred_logits = model_gpu(test_data[0][0].unsqueeze(dim=0).to(device))\n",
        "model_pred_probs = torch.softmax(model_pred_logits, dim=1)\n",
        "model_pred_label = torch.argmax(model_pred_probs, dim=1)\n",
        "model_pred_label"
      ],
      "metadata": {
        "colab": {
          "base_uri": "https://localhost:8080/"
        },
        "id": "isizyD6I4kUP",
        "outputId": "c9e9c651-e399-4174-ef30-c96cb33ac4a7"
      },
      "execution_count": null,
      "outputs": [
        {
          "output_type": "execute_result",
          "data": {
            "text/plain": [
              "tensor([7], device='cuda:0')"
            ]
          },
          "metadata": {},
          "execution_count": 23
        }
      ]
    },
    {
      "cell_type": "code",
      "source": [
        "num_to_plot = 5\n",
        "for i in range(num_to_plot):\n",
        "  # Get image and labels from the test data\n",
        "  img = test_data[i][0]\n",
        "  label = test_data[i][1]\n",
        "\n",
        "  # Make prediction on image\n",
        "  model_pred_logits = model_gpu(img.unsqueeze(dim=0).to(device))\n",
        "  model_pred_probs = torch.softmax(model_pred_logits, dim=1)\n",
        "  model_pred_label = torch.argmax(model_pred_probs, dim=1)\n",
        "\n",
        "  # Plot the image and prediction\n",
        "  plt.figure()\n",
        "  plt.imshow(img.squeeze(), cmap=\"gray\")\n",
        "  plt.title(f\"Truth: {label} | Pred: {model_pred_label.cpu().item()}\")\n",
        "  plt.axis(False);"
      ],
      "metadata": {
        "colab": {
          "base_uri": "https://localhost:8080/",
          "height": 1000
        },
        "id": "gxOnGVWE5c4L",
        "outputId": "eb13fe2e-2eb4-4643-ec51-703bb613045c"
      },
      "execution_count": null,
      "outputs": [
        {
          "output_type": "display_data",
          "data": {
            "text/plain": [
              "<Figure size 640x480 with 1 Axes>"
            ],
            "image/png": "[encoded data removed]"
          },
          "metadata": {}
        },
        {
          "output_type": "display_data",
          "data": {
            "text/plain": [
              "<Figure size 640x480 with 1 Axes>"
            ],
            "image/png": "[encoded data removed]"
          },
          "metadata": {}
        },
        {
          "output_type": "display_data",
          "data": {
            "text/plain": [
              "<Figure size 640x480 with 1 Axes>"
            ],
            "image/png": "[encoded data removed]"
          },
          "metadata": {}
        },
        {
          "output_type": "display_data",
          "data": {
            "text/plain": [
              "<Figure size 640x480 with 1 Axes>"
            ],
            "image/png": "[encoded data removed]"
          },
          "metadata": {}
        },
        {
          "output_type": "display_data",
          "data": {
            "text/plain": [
              "<Figure size 640x480 with 1 Axes>"
            ],
            "image/png": "[encoded data removed]"
          },
          "metadata": {}
        }
      ]
    },
    {
      "cell_type": "markdown",
      "source": [
        "## 11. Plot a confusion matrix comparing your model's predictions to the truth labels."
      ],
      "metadata": {
        "id": "qQwzqlBWxrpG"
      }
    },
    {
      "cell_type": "code",
      "source": [
        "# See if torchmetrics exists, if not, install it\n",
        "try:\n",
        "    import torchmetrics, mlxtend\n",
        "    print(f\"mlxtend version: {mlxtend.__version__}\")\n",
        "    assert int(mlxtend.__version__.split(\".\")[1]) >= 19, \"mlxtend verison should be 0.19.0 or higher\"\n",
        "except:\n",
        "    !pip install -q torchmetrics -U mlxtend # <- Note: If you're using Google Colab, this may require restarting the runtime\n",
        "    import torchmetrics, mlxtend\n",
        "    print(f\"mlxtend version: {mlxtend.__version__}\")"
      ],
      "metadata": {
        "colab": {
          "base_uri": "https://localhost:8080/"
        },
        "id": "ii7F4n8-6BzQ",
        "outputId": "64951252-bbf1-41ba-d05b-45c06bc9f5a6"
      },
      "execution_count": null,
      "outputs": [
        {
          "output_type": "stream",
          "name": "stdout",
          "text": [
            "\u001b[?25l   \u001b[90m━━━━━━━━━━━━━━━━━━━━━━━━━━━━━━━━━━━━━━━━\u001b[0m \u001b[32m0.0/869.5 kB\u001b[0m \u001b[31m?\u001b[0m eta \u001b[36m-:--:--\u001b[0m\r\u001b[2K   \u001b[91m━━━━━━━━━━━━━━━━━━━━━━━━━━━━━━━━━━━━━━━\u001b[0m\u001b[91m╸\u001b[0m \u001b[32m860.2/869.5 kB\u001b[0m \u001b[31m33.2 MB/s\u001b[0m eta \u001b[36m0:00:01\u001b[0m\r\u001b[2K   \u001b[90m━━━━━━━━━━━━━━━━━━━━━━━━━━━━━━━━━━━━━━━━\u001b[0m \u001b[32m869.5/869.5 kB\u001b[0m \u001b[31m21.6 MB/s\u001b[0m eta \u001b[36m0:00:00\u001b[0m\n",
            "\u001b[?25hmlxtend version: 0.23.1\n"
          ]
        }
      ]
    },
    {
      "cell_type": "code",
      "source": [
        "# Import mlxtend upgraded version\n",
        "import mlxtend\n",
        "print(mlxtend.__version__)\n",
        "assert int(mlxtend.__version__.split(\".\")[1]) >= 19 # should be version 0.19.0 or higher\n"
      ],
      "metadata": {
        "colab": {
          "base_uri": "https://localhost:8080/"
        },
        "id": "j76jyBbI6hS6",
        "outputId": "b51206d9-9f29-4186-d874-31166053446a"
      },
      "execution_count": null,
      "outputs": [
        {
          "output_type": "stream",
          "name": "stdout",
          "text": [
            "0.23.1\n"
          ]
        }
      ]
    },
    {
      "cell_type": "code",
      "source": [
        "# Make predictions across all test data\n",
        "from tqdm.auto import tqdm\n",
        "model_gpu.eval()\n",
        "y_preds = []\n",
        "with torch.inference_mode():\n",
        "  for batch, (X, y) in tqdm(enumerate(test_dataloader)):\n",
        "    # Make sure data on right device\n",
        "    X, y = X.to(device), y.to(device)\n",
        "    # Forward pass\n",
        "    y_pred_logits = model_gpu(X)\n",
        "    # Logits -> Pred probs -> Pred label\n",
        "    y_pred_labels = torch.argmax(torch.softmax(y_pred_logits, dim=1), dim=1)\n",
        "    # Append the labels to the preds list\n",
        "    y_preds.append(y_pred_labels)\n",
        "  y_preds=torch.cat(y_preds).cpu()\n",
        "len(y_preds)\n"
      ],
      "metadata": {
        "colab": {
          "base_uri": "https://localhost:8080/",
          "height": 66,
          "referenced_widgets": [
            "33ed8500608f43f2897c8a17e841de5e",
            "ea792efcbbfa4867b2f740afedcb0f11",
            "8cebc8be6816407e8074ab257bc09196",
            "86a526f23abe43bdb908e23dec3254af",
            "8f0057d7daec490bad26f11da59dc634",
            "d8a0d55912d54f17a46be9d1db398069",
            "98cf8fa7d19f4a0c9c21614351c47876",
            "46da3b2fdeca4e23a0248ea242d4434e",
            "babe65b5ae244c9faa8a84304305bbda",
            "ca3a7fbd28ec4988866a4bfb94839020",
            "5f79bff161e7479aa1110be1629ade2c"
          ]
        },
        "id": "g1qfghQ-6iy9",
        "outputId": "0429c247-1745-4c03-dfdf-322a7a6c19c3"
      },
      "execution_count": null,
      "outputs": [
        {
          "output_type": "display_data",
          "data": {
            "text/plain": [
              "0it [00:00, ?it/s]"
            ],
            "application/vnd.jupyter.widget-view+json": {
              "version_major": 2,
              "version_minor": 0,
              "model_id": "33ed8500608f43f2897c8a17e841de5e"
            }
          },
          "metadata": {}
        },
        {
          "output_type": "execute_result",
          "data": {
            "text/plain": [
              "10000"
            ]
          },
          "metadata": {},
          "execution_count": 28
        }
      ]
    },
    {
      "cell_type": "code",
      "source": [
        "test_data.targets[:10], y_preds[:10]"
      ],
      "metadata": {
        "colab": {
          "base_uri": "https://localhost:8080/"
        },
        "id": "G6yqHCKoBwYv",
        "outputId": "fd6c9796-9af2-48fd-cd9d-551ba4bca92a"
      },
      "execution_count": null,
      "outputs": [
        {
          "output_type": "execute_result",
          "data": {
            "text/plain": [
              "(tensor([7, 2, 1, 0, 4, 1, 4, 9, 5, 9]),\n",
              " tensor([7, 2, 1, 0, 4, 1, 4, 9, 5, 9]))"
            ]
          },
          "metadata": {},
          "execution_count": 29
        }
      ]
    },
    {
      "cell_type": "code",
      "source": [
        "from torchmetrics import ConfusionMatrix\n",
        "from mlxtend.plotting import plot_confusion_matrix\n",
        "\n",
        "# Setup confusion matrix\n",
        "confmat = ConfusionMatrix(task=\"multiclass\", num_classes=len(class_names))\n",
        "confmat_tensor = confmat(preds=y_preds,\n",
        "                         target=test_data.targets)\n",
        "\n",
        "# Plot the confusion matrix\n",
        "fix, ax = plot_confusion_matrix(\n",
        "    conf_mat=confmat_tensor.numpy(),\n",
        "    class_names=class_names,\n",
        "    figsize=(10, 7)\n",
        ")"
      ],
      "metadata": {
        "colab": {
          "base_uri": "https://localhost:8080/",
          "height": 639
        },
        "id": "Uzw_4AwcB5RG",
        "outputId": "a61406f2-72d6-4c44-f53b-4befb820845c"
      },
      "execution_count": null,
      "outputs": [
        {
          "output_type": "display_data",
          "data": {
            "text/plain": [
              "<Figure size 1000x700 with 1 Axes>"
            ],
            "image/png": "[encoded data removed]"
          },
          "metadata": {}
        }
      ]
    },
    {
      "cell_type": "markdown",
      "source": [
        "## 12. Create a random tensor of shape `[1, 3, 64, 64]` and pass it through a `nn.Conv2d()` layer with various hyperparameter settings (these can be any settings you choose), what do you notice if the `kernel_size` parameter goes up and down?"
      ],
      "metadata": {
        "id": "lj6bDhoWxt2y"
      }
    },
    {
      "cell_type": "code",
      "source": [
        "random_tensor = torch.rand([1, 3, 64, 64])\n",
        "random_tensor.shape"
      ],
      "metadata": {
        "id": "leCTsqtSbR5P",
        "colab": {
          "base_uri": "https://localhost:8080/"
        },
        "outputId": "86574f4f-53e0-4681-ca45-43d6d119b877"
      },
      "execution_count": null,
      "outputs": [
        {
          "output_type": "execute_result",
          "data": {
            "text/plain": [
              "torch.Size([1, 3, 64, 64])"
            ]
          },
          "metadata": {},
          "execution_count": 31
        }
      ]
    },
    {
      "cell_type": "code",
      "source": [
        "conv_layer = nn.Conv2d(in_channels=3,\n",
        "                       out_channels=64,\n",
        "                       kernel_size=3,\n",
        "                       stride=2,\n",
        "                       padding=1)\n",
        "\n",
        "print(f\"Random tensor original shape: {random_tensor.shape}\")\n",
        "random_tensor_through_conv_layer = conv_layer(random_tensor)\n",
        "print(f\"Random tensor through conv layer shape: {random_tensor_through_conv_layer.shape}\")\n"
      ],
      "metadata": {
        "id": "IiZt2XKrCsx5",
        "outputId": "c2ec9e27-d876-42bc-b2b0-c96eee4de8fa",
        "colab": {
          "base_uri": "https://localhost:8080/"
        }
      },
      "execution_count": null,
      "outputs": [
        {
          "output_type": "stream",
          "name": "stdout",
          "text": [
            "Random tensor original shape: torch.Size([1, 3, 64, 64])\n",
            "Random tensor through conv layer shape: torch.Size([1, 64, 32, 32])\n"
          ]
        }
      ]
    },
    {
      "cell_type": "markdown",
      "source": [
        "## 13. Use a model similar to the trained `model_2` from notebook 03 to make predictions on the test [`torchvision.datasets.FashionMNIST`](https://pytorch.org/vision/main/generated/torchvision.datasets.FashionMNIST.html) dataset.\n",
        "* Then plot some predictions where the model was wrong alongside what the label of the image should've been.\n",
        "* After visualing these predictions do you think it's more of a modelling error or a data error?\n",
        "* As in, could the model do better or are the labels of the data too close to each other (e.g. a \"Shirt\" label is too close to \"T-shirt/top\")?"
      ],
      "metadata": {
        "id": "VHS20cNTxwSi"
      }
    },
    {
      "cell_type": "code",
      "source": [],
      "metadata": {
        "id": "78a8LjtdbSZj"
      },
      "execution_count": null,
      "outputs": []
    }
  ]
}