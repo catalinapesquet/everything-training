{
  "nbformat": 4,
  "nbformat_minor": 0,
  "metadata": {
    "colab": {
      "provenance": [],
      "authorship_tag": "ABX9TyN2UIpMa8X6j9MUQ4ssKAvz",
      "include_colab_link": true
    },
    "kernelspec": {
      "name": "python3",
      "display_name": "Python 3"
    },
    "language_info": {
      "name": "python"
    }
  },
  "cells": [
    {
      "cell_type": "markdown",
      "metadata": {
        "id": "view-in-github",
        "colab_type": "text"
      },
      "source": [
        "<a href=\"https://colab.research.google.com/github/catalinapesquet/PINNS-Code-and-Notes/blob/main/Antiderivative.ipynb\" target=\"_parent\"><img src=\"https://colab.research.google.com/assets/colab-badge.svg\" alt=\"Open In Colab\"/></a>"
      ]
    },
    {
      "cell_type": "markdown",
      "source": [
        "# **Libraries**\n"
      ],
      "metadata": {
        "id": "elrdd4rGw1sp"
      }
    },
    {
      "cell_type": "code",
      "source": [
        "pip install jax jaxlib"
      ],
      "metadata": {
        "colab": {
          "base_uri": "https://localhost:8080/"
        },
        "id": "QbINlVr3Ohvo",
        "outputId": "8dd522c7-b7cd-4ecf-fa42-d2b7121c2a91"
      },
      "execution_count": 1,
      "outputs": [
        {
          "output_type": "stream",
          "name": "stdout",
          "text": [
            "Requirement already satisfied: jax in /usr/local/lib/python3.10/dist-packages (0.4.33)\n",
            "Requirement already satisfied: jaxlib in /usr/local/lib/python3.10/dist-packages (0.4.33)\n",
            "Requirement already satisfied: ml-dtypes>=0.2.0 in /usr/local/lib/python3.10/dist-packages (from jax) (0.4.1)\n",
            "Requirement already satisfied: numpy>=1.24 in /usr/local/lib/python3.10/dist-packages (from jax) (1.26.4)\n",
            "Requirement already satisfied: opt-einsum in /usr/local/lib/python3.10/dist-packages (from jax) (3.4.0)\n",
            "Requirement already satisfied: scipy>=1.10 in /usr/local/lib/python3.10/dist-packages (from jax) (1.13.1)\n"
          ]
        }
      ]
    },
    {
      "cell_type": "code",
      "source": [
        "pip show jax jaxlib"
      ],
      "metadata": {
        "colab": {
          "base_uri": "https://localhost:8080/"
        },
        "id": "O0lxD9INOlxp",
        "outputId": "1c19615d-0d8f-4d92-dbb5-95b6de161439"
      },
      "execution_count": 2,
      "outputs": [
        {
          "output_type": "stream",
          "name": "stdout",
          "text": [
            "Name: jax\n",
            "Version: 0.4.33\n",
            "Summary: Differentiate, compile, and transform Numpy code.\n",
            "Home-page: https://github.com/google/jax\n",
            "Author: JAX team\n",
            "Author-email: jax-dev@google.com\n",
            "License: Apache-2.0\n",
            "Location: /usr/local/lib/python3.10/dist-packages\n",
            "Requires: jaxlib, ml-dtypes, numpy, opt-einsum, scipy\n",
            "Required-by: chex, dopamine_rl, flax, optax, orbax-checkpoint\n",
            "---\n",
            "Name: jaxlib\n",
            "Version: 0.4.33\n",
            "Summary: XLA library for JAX\n",
            "Home-page: https://github.com/google/jax\n",
            "Author: JAX team\n",
            "Author-email: jax-dev@google.com\n",
            "License: Apache-2.0\n",
            "Location: /usr/local/lib/python3.10/dist-packages\n",
            "Requires: ml-dtypes, numpy, scipy\n",
            "Required-by: chex, dopamine_rl, jax, optax, orbax-checkpoint\n"
          ]
        }
      ]
    },
    {
      "cell_type": "code",
      "execution_count": 3,
      "metadata": {
        "id": "Y_ZwlPKUwEE7"
      },
      "outputs": [],
      "source": [
        "import numpy as onp\n",
        "import jax.numpy as np\n",
        "from jax import random, grad, vmap, jit\n",
        "from jax.experimental.ode import odeint\n",
        "from jax.nn import relu\n",
        "from jax import config\n",
        "import optax\n",
        "\n",
        "\n"
      ]
    },
    {
      "cell_type": "code",
      "source": [
        "import itertools\n",
        "from functools import partial\n",
        "from torch.utils import data\n",
        "from tqdm import trange\n",
        "import matplotlib.pyplot as plt\n",
        "\n",
        "%matplotlib inline"
      ],
      "metadata": {
        "id": "pUqybfGwzSwC"
      },
      "execution_count": 4,
      "outputs": []
    },
    {
      "cell_type": "markdown",
      "source": [
        "# **Auxiliary Functions**\n"
      ],
      "metadata": {
        "id": "0133TK-XzX2o"
      }
    },
    {
      "cell_type": "markdown",
      "source": [
        "RBF Kernel: kernel function used in various kernelized learning algorithms. Commonly used in support vector machine classification.\n",
        "\n",
        "https://en.wikipedia.org/wiki/Radial_basis_function_kernel\n",
        "\n",
        "https://www.youtube.com/watch?v=Qc5IyLW_hns"
      ],
      "metadata": {
        "id": "D6a79aFjziCM"
      }
    },
    {
      "cell_type": "code",
      "source": [
        "# Define RBF kernel\n",
        "def RBF(x1, x2, params):\n",
        "    output_scale, lengthscales = params\n",
        "    diffs = np.expand_dims(x1 / lengthscales, 1) - \\\n",
        "            np.expand_dims(x2 / lengthscales, 0)\n",
        "    r2 = np.sum(diffs**2, axis=2)\n",
        "    return output_scale * np.exp(-0.5 * r2)"
      ],
      "metadata": {
        "id": "oWu33ASmzcOM"
      },
      "execution_count": 5,
      "outputs": []
    },
    {
      "cell_type": "code",
      "source": [
        "# 2D plot with two curves\n",
        "def plot_us(x,u,y,s):\n",
        "  fig, ax1 = plt.subplots(figsize=(8, 6))\n",
        "  plt.rcParams['font.size'] = '18'\n",
        "  color='black'\n",
        "  wdt=1.5\n",
        "  ax1.plot(x,u,'k--',label='$u(x)=ds/dx$',linewidth=wdt)\n",
        "  ax1.plot(y,s,'o-',label='$s(x)=s(0)+\\int u(t)dt|_{t=y}$',linewidth=wdt)\n",
        "  ax1.set_xlabel('x',fontsize='large')\n",
        "  ax1.set_ylabel('u',fontsize='large')\n",
        "  ax1.tick_params(axis='y', color=color)\n",
        "  ax1.legend(loc = 'lower right', ncol=1)"
      ],
      "metadata": {
        "id": "T8sNrgqq7EVC"
      },
      "execution_count": 6,
      "outputs": []
    },
    {
      "cell_type": "markdown",
      "source": [
        "# **Introduction**\n",
        "\n",
        "This project explores the concept of Deep Operator Networks (DeepONets) to approximate operators that map between infinite-dimensional function spaces. It involves theoretical and practical insights into parametric PDEs and how operators can transform functions.\n",
        "\n",
        "## Functions and Operators\n",
        "\n",
        "### Function\n",
        "\n",
        " Maps between vector spaces:\n",
        "\n",
        "*Example:*\n",
        "\n",
        "Let $f_1(x)=sin(x)$; for  $x\\in\\mathbf{R}$\n",
        "\n",
        "$$z=f_1(x)=sin(x)\\in[0:1]$$\n",
        "\n",
        "In other words $f_1$ maps $\\mathbf{R}→[0,1]$\n",
        "\n",
        "### **Operator:**\n",
        "\n",
        " Maps between infite-dimensional function spaces:\n",
        "$$G(f_1(x))=f_2(x)$$\n",
        "\n",
        "*Example:*\n",
        "\n",
        "Derivative Operator →$\\frac{d}{d x}$\n",
        "\n",
        "It transforms a funcion $f_1$ into a function $f_2$:\n",
        "\n",
        "Let $f_1(x)=sin(x)$\n",
        "\n",
        "Then when we apply our operator:\n",
        "\n",
        "$$f_2=\\frac{df_1(x)}{d x}=\\frac{d}{d x}sin(x)=cos(x)$$\n",
        "\n",
        "\n",
        "\n"
      ],
      "metadata": {
        "id": "h2NNwRpi7btr"
      }
    },
    {
      "cell_type": "markdown",
      "source": [
        "### Parametric PDEs and Operators\n",
        "\n",
        "*Solving Parametric Partial Differential Equations (PDEs) using operators.*\n",
        "\n",
        "Parametric PDEs $\\rightarrow$ Some parameters (e.g., shape, IC/BC, coefficients, etc.) of a given PDE system are allowed to change.\n",
        "\n",
        "Let  $\\mathcal{N}$ be a nonlinear operator. Let's consider a parametric PDEs of the form:\n",
        "\n",
        "$$\\mathcal{N}(u,s)=0$$\n",
        "\n",
        "Where $u$ is the input function and $s$ is the unknown PDE's solution (also a function).\n",
        "\n",
        "Our PDE solution operator would be:\n",
        "\n",
        "$$G(u)=s$$\n",
        "\n",
        "**Note 1:**In other words, we can express the general solution of our PDE as an operator $G$\n",
        "\n",
        "**Note 2:** Remember $s$ is itself a function, so if we evaluate it at any point $y$, the answer would be a real number:\n",
        "\n",
        " $$G(u)(y)=s(y)\\in \\mathbf{R}$$\n",
        "\n",
        " ### **Universal Approximation Theorem for Operator**\n",
        "\n",
        "This theorem states that we can approximate the operator\n",
        "𝐺\n",
        "G (which maps functions to functions) using a neural network.\n",
        "\n",
        " $\\forall \\epsilon >0$, there are positive integers $n,p,m$, constants $c_i^k,W_{bij}^k,b_{bij}^k,W_{tk},b_{tk}$ such that:\n",
        "\n",
        "$$\\left|G(u)(y)-\\sum_{k=1}^{p}\\sum_{i=1}^{n}c_i^k\\sigma\\left(\\sum_{j=1}^{m}W_{bij}^{k}u(x_j)+b_{bi}^k\\right).\\sigma(W_{tk}.y+b_{tk})\\right|<\\epsilon $$"
      ],
      "metadata": {
        "id": "-LllRojL-V6O"
      }
    },
    {
      "cell_type": "markdown",
      "source": [
        " ### **Neural Network**\n",
        "\n",
        "A Neural Network is a function that takes the form:\n",
        "\n",
        "$$NN(X)=W_n\\sigma_{n-1}(W_{n-1}\\sigma_{n-2}(...(W_2\\sigma_1(W_1X+b_1)+b_2)+..)+b_{n-1})+b_n$$\n",
        "\n",
        "For DeepONets, two neural networks are used to implement the Universal Approximation Theorem for Operator i.e.:\n",
        "\n",
        "Branch (Processes the input function u(x)):\n",
        "\n",
        "$$NN_b(u(\\textbf{x}))=b(u(\\textbf{x}))=\\textbf{c}.\\sigma\\left(W_{b}u(\\textbf{x})+\\textbf{b}_{b}\\right)$$\n",
        "\n",
        "Trunk (Processes the evaluation point):\n",
        "\n",
        "\n",
        "$$NN_t(\\textbf{y})=t(\\textbf{y})=\\sigma(W_{t}.\\textbf{y}+\\textbf{b}_{t})$$\n",
        "\n",
        "### **DeepOnet**\n",
        "\n",
        "DeepONets aim to approximate the operator G, which solves the parametric PDE. They do this by combining the outputs of the branch and trunk networks:\n",
        "\n",
        "\n",
        "$$G_\\theta(u)(y)=\\sum_{k=1}^q\\underset{Branch}{\\underbrace{b_k\\left(u(x_1),u(x_2),...,u(x_m)\\right)}}.\\underset{Trunk}{\\underbrace{t_k(\\textbf{y})}}$$\n",
        "\n",
        "\n",
        "We want to obtain G, so our goal would be:\n",
        "\n",
        " $$G_\\theta(u)(y)\\approx G(u)(y)$$\n",
        "\n",
        "So we will enforce that condition into a loss function:\n",
        "\n",
        "$$\\mathcal{L}(\\theta)=\\frac{1}{NP}\\sum_{i=1}^N\\sum_{j=1}^P\\left|G_{\\theta}(u^{(i)})y_j^{(i)}-G(u^{(i)})y_j^{(i)}\\right|^2$$\n",
        "\n",
        "\n",
        "$$\\mathcal{L}(\\theta)=\\frac{1}{NP}\\sum_{i=1}^N\\sum_{j=1}^P\\left|\\sum_{k=1}^q{b_k\\left(u(x_1),u(x_2),...,u(x_m)\\right)}.t_k(y_j^{(i)})-G(u^{(i)})y_j^{(i)}\\right|^2$$\n",
        "\n",
        "where $N$ is the number of functions $u(x)$ in our training dataset, $P$, is the number of points inside the domain at which we will evaluate $G(u)$.\n",
        "\n",
        "$m:$ Number of points at which we evaluated our input functions.\n",
        "\n",
        "$N:$ Number of input functions.\n",
        "\n",
        "$P:$ Number of points at which we evaluate the output function → output sensors.\n",
        "\n",
        "\n",
        "**Objective**\n",
        "The goal is to train the DeepONet to approximate the true operator $G(u)(y)$. This is done by minimizing the difference between the predicted operator $G_θ(u)(y)$ and the true operator $G(u)(y)$ using a loss function.\n",
        "\n",
        "\n"
      ],
      "metadata": {
        "id": "AAvSAqv6-qmg"
      }
    },
    {
      "cell_type": "markdown",
      "source": [
        "**In summary:**\n",
        "\n",
        "To train a DeepOnet, we would:\n",
        "\n",
        "1.   We select $N$ functions →$u(x)$.\n",
        "2.   We evaluate our $N$ functions at $m$ points (i.e., input sensors) →$u(x_1),u(x_2),...,u(x_m)$\n",
        "3.   We send the $m$ outputs of our $N$ functions to our **branch network** → $b_k(u(x_1),u(x_2),...,u(x_m))$\n",
        "4.   We select $P$ points (i.e., output sensors) inside our domain → $y_1,y_2,...,y_P$\n",
        "5.  We send our output sensors to our **trunk network**→$t_k(y_1,y_2,...,y_P)$\n",
        "6. We approximate our operator by computing the dot product between the outpur of our **branch network** and the output of our **trunk network**→ $G_\\theta(u)(y)=\\sum_{k=1}^q\\underset{Branch}{\\underbrace{b_k\\left(u(x_1),u(x_2),...,u(x_m)\\right)}}.\\underset{Trunk}{\\underbrace{t_k(\\textbf{y})}}$\n",
        "7. Ideally $G_\\theta(u)(y)\\approx G(u)(y)$, so we compute the error → $\\mathcal{L}(\\theta)=\\frac{1}{NP}\\sum_{i=1}^N\\sum_{j=1}^P\\left|G_{\\theta}(u^{(i)})y_j^{(i)}-G(u^{(i)})y_j^{(i)}\\right|^2$\n",
        "\n",
        "8. We update our NN parameters (i.e., branch and trunk) to minimize  $\\mathcal{L}(\\theta)$.\n",
        "9. We repeat the process."
      ],
      "metadata": {
        "id": "joE5B5s8-vQH"
      }
    },
    {
      "cell_type": "markdown",
      "source": [
        "# **Problem Setup**\n",
        "\n",
        "**Anti-derivative Operator**\n",
        "\n",
        "Our PDE would be:\n",
        "\n",
        "$$\\frac{ds(x)}{dx}-u(x)=0$$\n",
        "\n",
        "\n",
        "The solution of our PDE is:\n",
        "\n",
        "$$G:u(x)→s(x)=s(0)+\\int_{0}^{x}u(t)dt$$\n",
        "\n",
        "$$x\\in[0,1]$$\n",
        "$$s(0)=0$$"
      ],
      "metadata": {
        "id": "nusWEWU0FK5h"
      }
    },
    {
      "cell_type": "markdown",
      "source": [
        "# **Data Generation**\n",
        "\n",
        "We will randomly sample 10 000 different functions $u$ from a zero-mean Gaussian process with an exponential quadratic kernel with a length scale: $l=0.2$."
      ],
      "metadata": {
        "id": "I5WCYl_tFZpU"
      }
    },
    {
      "cell_type": "code",
      "source": [
        "N_train = 10000\n",
        "m = 100 # number of input sensors\n",
        "P_train = 1 # number of output sensors\n",
        "length_scale = 0.2\n",
        "key_train = random.PRNGKey(0) # use different key to generate training and test data\n",
        "config.update(\"jax_enable_x64\", True) # enable double precision"
      ],
      "metadata": {
        "id": "sWqPO_ZQNSiA"
      },
      "execution_count": 7,
      "outputs": []
    },
    {
      "cell_type": "markdown",
      "source": [
        "## Generate a random function"
      ],
      "metadata": {
        "id": "UtLcQSw0RsPu"
      }
    },
    {
      "cell_type": "code",
      "source": [
        "# Set parameters for the gaussian process\n",
        "N = 512 # points in the grid\n",
        "gp_params = (1.0, length_scale) # variance and length scale\n",
        "jitter = 1e-10 # numerical stability\n",
        "\n",
        "# Define grid\n",
        "X = np.linspace(0, 1, N)[:, None] # reshaped to a column vector\n",
        "\n",
        "# RBF Kernel\n",
        "K = RBF(X, X, gp_params)\n",
        "\n",
        "# Cholesky Decomposition\n",
        "L = np.linalg.cholesky(K + jitter*np.eye(N))\n",
        "\n",
        "# Sample from GP Prior\n",
        "gp_sample = np.dot(L, random.normal(key_train, (N,)))\n",
        "\n",
        "# interpolation function\n",
        "u_fn = lambda x, t: np.interp(t, X.flatten(), gp_sample)\n",
        "\n",
        "x = np.linspace(0, 1, m)\n",
        "u = vmap(u_fn, in_axes=(None,0))(0.0, x) #vectorize our code to run it in multiple batches simultaneusly (or to evaluate a function simultaneusly)"
      ],
      "metadata": {
        "id": "bP5BmxvtRwAd"
      },
      "execution_count": 8,
      "outputs": []
    },
    {
      "cell_type": "markdown",
      "source": [
        "We obtain the corresponding 10 000 ODE solutions by solving:\n",
        "\n",
        "$$\\frac{ds(x)}{dx}=u(x)$$\n",
        "\n",
        "Using an explicit Runge-Kutta method(RK45)→ JAX's odeint functiom."
      ],
      "metadata": {
        "id": "T_mMGiw5WgHk"
      }
    },
    {
      "cell_type": "code",
      "source": [
        "# Output sensor locations and measurements\n",
        "y_train = random.uniform(key_train, (P_train*100)).sort()\n",
        "s_train = odeint(u_fn, 0.0, y_train) # Obtain the ODE solution with JAX's ODE solver"
      ],
      "metadata": {
        "id": "2-PUOBK0WfZR"
      },
      "execution_count": 9,
      "outputs": []
    },
    {
      "cell_type": "code",
      "source": [
        "plot_us(x,u,y_train,s_train)"
      ],
      "metadata": {
        "colab": {
          "base_uri": "https://localhost:8080/",
          "height": 559
        },
        "id": "-DoJXRYkZOdh",
        "outputId": "d387c90e-92b8-4452-c37c-c16a8139f06d"
      },
      "execution_count": 10,
      "outputs": [
        {
          "output_type": "display_data",
          "data": {
            "text/plain": [
              "<Figure size 800x600 with 1 Axes>"
            ],
            "image/png": "[encoded data removed]"
          },
          "metadata": {}
        }
      ]
    },
    {
      "cell_type": "markdown",
      "source": [
        "Now, we will have to create many functions for our testing and training dataset, so let's create a pair of programing-functions to generate one random function at a time."
      ],
      "metadata": {
        "id": "MhV9dKfItGLy"
      }
    },
    {
      "cell_type": "code",
      "source": [
        "# Generate training data corresponding to one input sample\n",
        "def generate_one_training_data(key, m=100, P=1):\n",
        "  # Sample GP prior at a fine grid\n",
        "  N = 512\n",
        "  gp_params = (1.0, length_scale)\n",
        "  jitter = 1e-10\n",
        "  X = np.linspace(0, 1, N)[:,None]\n",
        "  K = RBF(X, X, gp_params)\n",
        "  L = np.linalg.cholesky(K + jitter*np.eye(N))\n",
        "  gp_sample = np.dot(L, random.normal(key, (N,)))\n",
        "\n",
        "  # Create a callable interpolation function\n",
        "  u_fn = lambda x, t: np.interp(t, X.flatten(), gp_sample)\n",
        "\n",
        "  # Input sensor locations and measurements\n",
        "  x = np.linspace(0, 1, m)\n",
        "  u = vmap(u_fn, in_axes=(None,0))(0.0, x)\n",
        "\n",
        "  # Output sensor locations and measurements\n",
        "  y_train = random.uniform(key, (P,)).sort()\n",
        "  s_train = odeint(u_fn, 0.0, np.hstack((0.0, y_train)))[1:] # JAX has a bug and always returns s(0), so add a dummy entry to y and return s[1:]\n",
        "\n",
        "  # Tile inputs\n",
        "  u_train = np.tile(u, (P,1))\n",
        "\n",
        "  return u_train, y_train, s_train\n"
      ],
      "metadata": {
        "id": "f1q4RH6rtgD6"
      },
      "execution_count": 11,
      "outputs": []
    },
    {
      "cell_type": "code",
      "source": [
        "# Geneate test data corresponding to one input sample\n",
        "def generate_one_test_data(key, m=100, P=100):\n",
        "    # Sample GP prior at a fine grid\n",
        "    N = 512\n",
        "    gp_params = (1.0, length_scale)\n",
        "    jitter = 1e-10\n",
        "    X = np.linspace(0, 1, N)[:,None]\n",
        "    K = RBF(X, X, gp_params)\n",
        "    L = np.linalg.cholesky(K + jitter*np.eye(N))\n",
        "    gp_sample = np.dot(L, random.normal(key, (N,)))\n",
        "\n",
        "    # Create a callable interpolation function\n",
        "    u_fn = lambda x, t: np.interp(t, X.flatten(), gp_sample)\n",
        "\n",
        "    # Input sensor locations and measurements\n",
        "    x = np.linspace(0, 1, m)\n",
        "    u = vmap(u_fn, in_axes=(None,0))(0.0, x)\n",
        "\n",
        "    # Output sensor locations and measurements\n",
        "    y = np.linspace(0, 1, P)\n",
        "    s = odeint(u_fn, 0.0, y)\n",
        "\n",
        "    # Tile inputs\n",
        "    u = np.tile(u, (P,1))\n",
        "\n",
        "    return u, y, s"
      ],
      "metadata": {
        "id": "-mNbvbtfuTkL"
      },
      "execution_count": 12,
      "outputs": []
    },
    {
      "cell_type": "markdown",
      "source": [
        "# Network"
      ],
      "metadata": {
        "id": "4OQdrcXkagQ3"
      }
    },
    {
      "cell_type": "markdown",
      "source": [
        "MLP: multi layer perceptron.\n",
        "\n",
        "https://pytorch.org/vision/main/generated/torchvision.ops.MLP.html\n",
        "\n",
        "A DeepONet is a neural network architecture designed to learn mappings between function spaces, effectively approximating operators that map one function to another. This is achieved through two primary components:\n",
        "\n",
        "* **Branch Network:** Processes the input function, which is typically represented by discrete values.\n",
        "Encodes the characteristics of the input function into a latent representation.\n",
        "\n",
        "* **Trunk Network:** Handles the locations or coordinates where the output function is evaluated.\n",
        "Encodes spatial or temporal information relevant to the problem.\n",
        "The outputs of these two networks are combined, often through an inner product or element-wise multiplication, to produce the final output, which represents the evaluated operator at specific points.\n",
        "\n"
      ],
      "metadata": {
        "id": "_pWaQhn6XfSi"
      }
    },
    {
      "cell_type": "code",
      "source": [
        "class DeepONet:\n",
        "  def __init__(self, branch_layers, trunk_layers):\n",
        "\n",
        "    # Network initialization and evaluation functions\n",
        "    self.branch_init, self.branch_apply = MLP(branch_layers, activation=relu)\n",
        "    self.trunk_init, self.trunck_apply =  MLP(trunk_layers, activation=relu)\n",
        "\n",
        "    # Initialization\n",
        "    branch_params = self.branch_init(rng_key = random.PRNGKey(1234))\n",
        "    trunk_params = self.trunk_init(rng_key = random.PRNGKey(42))\n",
        "\n",
        "    params = (branch_params, trunk_params)\n",
        "\n",
        "    # Use optimizers to set optimizer initialization and update functions\n",
        "    self.opt_init, \\\n",
        "    self.opt_update, \\\n",
        "    self.get_params = optimizers.adam(optimizers.exponential_decay(1e-3,\n",
        "                                                                   decay_steps=1000,\n",
        "                                                                   decay_rate=0.9))\n",
        "    self.opt_state = self.opt_init(params)\n",
        "    self.itercount = itertools.count() # counting the iterations\n",
        "\n",
        "    # Logger\n",
        "    self.loss_log = []\n",
        "\n",
        "  # Define operator net\n",
        "  def operator_net(self, params, u, y):\n",
        "    branch_params, trunk_params = params\n",
        "    B = self.branch_apply(branch_params, u)\n",
        "    T = self.trunk_apply(trunk_params, y)\n",
        "    outputs = np.sum(B * T)\n",
        "    return outputs\n",
        "\n",
        "  # Define ODE/PDE residual\n",
        "  def residual_net(self, params, u, y):\n",
        "    s_y = grad(self.operator_net, argnums = 2)(params, u, y)\n",
        "    return s_y\n",
        "\n",
        "  # Define loss\n",
        "  def loss(self, params, batch):\n",
        "    # Fetch data\n",
        "\n"
      ],
      "metadata": {
        "id": "tjaF1BzAYCVI"
      },
      "execution_count": 14,
      "outputs": []
    }
  ]
}