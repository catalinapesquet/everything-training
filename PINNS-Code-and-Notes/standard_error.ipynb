{
  "nbformat": 4,
  "nbformat_minor": 0,
  "metadata": {
    "colab": {
      "provenance": [],
      "authorship_tag": "ABX9TyNnz6whAkSeC8H8gRqmoSvQ",
      "include_colab_link": true
    },
    "kernelspec": {
      "name": "python3",
      "display_name": "Python 3"
    },
    "language_info": {
      "name": "python"
    }
  },
  "cells": [
    {
      "cell_type": "markdown",
      "metadata": {
        "id": "view-in-github",
        "colab_type": "text"
      },
      "source": [
        "<a href=\"https://colab.research.google.com/github/catalinapesquet/PINNS-Code-and-Notes/blob/main/standard_error.ipynb\" target=\"_parent\"><img src=\"https://colab.research.google.com/assets/colab-badge.svg\" alt=\"Open In Colab\"/></a>"
      ]
    },
    {
      "cell_type": "code",
      "execution_count": null,
      "metadata": {
        "colab": {
          "base_uri": "https://localhost:8080/"
        },
        "id": "wY_21XJpNNju",
        "outputId": "b9dfda66-4ad6-48c8-818c-807b6735a899"
      },
      "outputs": [
        {
          "output_type": "stream",
          "name": "stdout",
          "text": [
            "Mounted at /content/gdrive\n"
          ]
        }
      ],
      "source": [
        "import os\n",
        "import glob\n",
        "import pandas as pd\n",
        "\n",
        "from google.colab import drive\n",
        "\n",
        "# Mount Google Drive\n",
        "drive.mount('/content/gdrive')"
      ]
    },
    {
      "cell_type": "code",
      "source": [
        "input_folder = \"/content/gdrive/MyDrive/Projet Tec/E_Zener_MG63-main/E_Zener_MG63-main/MG63_withC\"\n",
        "output_folder = \"/content/gdrive/MyDrive/Projet Tec/E_Zener_MG63-main/E_Zener_MG63-main/MG63_standarderror\"\n",
        "os.makedirs(output_folder, exist_ok=True)\n",
        "\n",
        "file_paths = glob.glob(os.path.join(input_folder, \"*.txt\"))"
      ],
      "metadata": {
        "id": "gvOc1FkQOd54"
      },
      "execution_count": null,
      "outputs": []
    },
    {
      "cell_type": "code",
      "source": [
        "y = [[] for _ in range(5001)]\n",
        "\n",
        "# Process files\n",
        "for file in file_paths:\n",
        "    df = pd.read_csv(file, delim_whitespace=True, header=None)\n",
        "\n",
        "    for i in range(len(df[1])-1):\n",
        "      y[i].append(df[1][i])"
      ],
      "metadata": {
        "colab": {
          "base_uri": "https://localhost:8080/"
        },
        "collapsed": true,
        "id": "cjA2C_BPOpJq",
        "outputId": "1459678a-61ba-4623-fbd8-9f6d90b40511"
      },
      "execution_count": null,
      "outputs": [
        {
          "output_type": "stream",
          "name": "stderr",
          "text": [
            "<ipython-input-6-aebc15918711>:5: FutureWarning: The 'delim_whitespace' keyword in pd.read_csv is deprecated and will be removed in a future version. Use ``sep='\\s+'`` instead\n",
            "  df = pd.read_csv(file, delim_whitespace=True, header=None)\n",
            "<ipython-input-6-aebc15918711>:5: FutureWarning: The 'delim_whitespace' keyword in pd.read_csv is deprecated and will be removed in a future version. Use ``sep='\\s+'`` instead\n",
            "  df = pd.read_csv(file, delim_whitespace=True, header=None)\n",
            "<ipython-input-6-aebc15918711>:5: FutureWarning: The 'delim_whitespace' keyword in pd.read_csv is deprecated and will be removed in a future version. Use ``sep='\\s+'`` instead\n",
            "  df = pd.read_csv(file, delim_whitespace=True, header=None)\n",
            "<ipython-input-6-aebc15918711>:5: FutureWarning: The 'delim_whitespace' keyword in pd.read_csv is deprecated and will be removed in a future version. Use ``sep='\\s+'`` instead\n",
            "  df = pd.read_csv(file, delim_whitespace=True, header=None)\n",
            "<ipython-input-6-aebc15918711>:5: FutureWarning: The 'delim_whitespace' keyword in pd.read_csv is deprecated and will be removed in a future version. Use ``sep='\\s+'`` instead\n",
            "  df = pd.read_csv(file, delim_whitespace=True, header=None)\n",
            "<ipython-input-6-aebc15918711>:5: FutureWarning: The 'delim_whitespace' keyword in pd.read_csv is deprecated and will be removed in a future version. Use ``sep='\\s+'`` instead\n",
            "  df = pd.read_csv(file, delim_whitespace=True, header=None)\n",
            "<ipython-input-6-aebc15918711>:5: FutureWarning: The 'delim_whitespace' keyword in pd.read_csv is deprecated and will be removed in a future version. Use ``sep='\\s+'`` instead\n",
            "  df = pd.read_csv(file, delim_whitespace=True, header=None)\n",
            "<ipython-input-6-aebc15918711>:5: FutureWarning: The 'delim_whitespace' keyword in pd.read_csv is deprecated and will be removed in a future version. Use ``sep='\\s+'`` instead\n",
            "  df = pd.read_csv(file, delim_whitespace=True, header=None)\n",
            "<ipython-input-6-aebc15918711>:5: FutureWarning: The 'delim_whitespace' keyword in pd.read_csv is deprecated and will be removed in a future version. Use ``sep='\\s+'`` instead\n",
            "  df = pd.read_csv(file, delim_whitespace=True, header=None)\n",
            "<ipython-input-6-aebc15918711>:5: FutureWarning: The 'delim_whitespace' keyword in pd.read_csv is deprecated and will be removed in a future version. Use ``sep='\\s+'`` instead\n",
            "  df = pd.read_csv(file, delim_whitespace=True, header=None)\n",
            "<ipython-input-6-aebc15918711>:5: FutureWarning: The 'delim_whitespace' keyword in pd.read_csv is deprecated and will be removed in a future version. Use ``sep='\\s+'`` instead\n",
            "  df = pd.read_csv(file, delim_whitespace=True, header=None)\n",
            "<ipython-input-6-aebc15918711>:5: FutureWarning: The 'delim_whitespace' keyword in pd.read_csv is deprecated and will be removed in a future version. Use ``sep='\\s+'`` instead\n",
            "  df = pd.read_csv(file, delim_whitespace=True, header=None)\n",
            "<ipython-input-6-aebc15918711>:5: FutureWarning: The 'delim_whitespace' keyword in pd.read_csv is deprecated and will be removed in a future version. Use ``sep='\\s+'`` instead\n",
            "  df = pd.read_csv(file, delim_whitespace=True, header=None)\n",
            "<ipython-input-6-aebc15918711>:5: FutureWarning: The 'delim_whitespace' keyword in pd.read_csv is deprecated and will be removed in a future version. Use ``sep='\\s+'`` instead\n",
            "  df = pd.read_csv(file, delim_whitespace=True, header=None)\n",
            "<ipython-input-6-aebc15918711>:5: FutureWarning: The 'delim_whitespace' keyword in pd.read_csv is deprecated and will be removed in a future version. Use ``sep='\\s+'`` instead\n",
            "  df = pd.read_csv(file, delim_whitespace=True, header=None)\n",
            "<ipython-input-6-aebc15918711>:5: FutureWarning: The 'delim_whitespace' keyword in pd.read_csv is deprecated and will be removed in a future version. Use ``sep='\\s+'`` instead\n",
            "  df = pd.read_csv(file, delim_whitespace=True, header=None)\n",
            "<ipython-input-6-aebc15918711>:5: FutureWarning: The 'delim_whitespace' keyword in pd.read_csv is deprecated and will be removed in a future version. Use ``sep='\\s+'`` instead\n",
            "  df = pd.read_csv(file, delim_whitespace=True, header=None)\n",
            "<ipython-input-6-aebc15918711>:5: FutureWarning: The 'delim_whitespace' keyword in pd.read_csv is deprecated and will be removed in a future version. Use ``sep='\\s+'`` instead\n",
            "  df = pd.read_csv(file, delim_whitespace=True, header=None)\n",
            "<ipython-input-6-aebc15918711>:5: FutureWarning: The 'delim_whitespace' keyword in pd.read_csv is deprecated and will be removed in a future version. Use ``sep='\\s+'`` instead\n",
            "  df = pd.read_csv(file, delim_whitespace=True, header=None)\n",
            "<ipython-input-6-aebc15918711>:5: FutureWarning: The 'delim_whitespace' keyword in pd.read_csv is deprecated and will be removed in a future version. Use ``sep='\\s+'`` instead\n",
            "  df = pd.read_csv(file, delim_whitespace=True, header=None)\n",
            "<ipython-input-6-aebc15918711>:5: FutureWarning: The 'delim_whitespace' keyword in pd.read_csv is deprecated and will be removed in a future version. Use ``sep='\\s+'`` instead\n",
            "  df = pd.read_csv(file, delim_whitespace=True, header=None)\n"
          ]
        }
      ]
    },
    {
      "cell_type": "code",
      "source": [
        "len(y), len(y[5])"
      ],
      "metadata": {
        "colab": {
          "base_uri": "https://localhost:8080/"
        },
        "id": "Q5MRNkZARITO",
        "outputId": "c4b4b974-ed8c-4f9b-b6c8-f88de8412485"
      },
      "execution_count": null,
      "outputs": [
        {
          "output_type": "execute_result",
          "data": {
            "text/plain": [
              "(5001, 21)"
            ]
          },
          "metadata": {},
          "execution_count": 7
        }
      ]
    },
    {
      "cell_type": "code",
      "source": [
        "import numpy as np\n",
        "\n",
        "# Calculer l'erreur standard pour chaque sous-liste\n",
        "std_errors = [np.std(sublist, ddof=1) / np.sqrt(len(sublist)) for sublist in y]\n"
      ],
      "metadata": {
        "colab": {
          "base_uri": "https://localhost:8080/"
        },
        "id": "2D6fHJB5VZfa",
        "outputId": "984ba27d-40a4-4ef6-8b66-85905c80b263"
      },
      "execution_count": null,
      "outputs": [
        {
          "output_type": "stream",
          "name": "stderr",
          "text": [
            "/usr/local/lib/python3.11/dist-packages/numpy/core/_methods.py:206: RuntimeWarning: Degrees of freedom <= 0 for slice\n",
            "  ret = _var(a, axis=axis, dtype=dtype, out=out, ddof=ddof,\n",
            "/usr/local/lib/python3.11/dist-packages/numpy/core/_methods.py:163: RuntimeWarning: invalid value encountered in divide\n",
            "  arrmean = um.true_divide(arrmean, div, out=arrmean,\n",
            "/usr/local/lib/python3.11/dist-packages/numpy/core/_methods.py:198: RuntimeWarning: invalid value encountered in scalar divide\n",
            "  ret = ret.dtype.type(ret / rcount)\n"
          ]
        }
      ]
    },
    {
      "cell_type": "code",
      "source": [
        "# Sauvegarder la liste des erreurs standard dans un fichier texte\n",
        "with open(\"weights.txt\", \"w\") as f:\n",
        "    for value in std_errors:\n",
        "        f.write(f\"{value}\\n\")  # Écrire chaque erreur standard sur une nouvelle ligne\n",
        "\n",
        "print(\"Fichier 'weights.txt' enregistré avec succès !\")\n"
      ],
      "metadata": {
        "colab": {
          "base_uri": "https://localhost:8080/"
        },
        "id": "az6pyPw3T38S",
        "outputId": "cdab4c83-78bf-420d-8d38-fded6b095da3"
      },
      "execution_count": null,
      "outputs": [
        {
          "output_type": "stream",
          "name": "stdout",
          "text": [
            "Fichier 'weights.txt' enregistré avec succès !\n"
          ]
        }
      ]
    }
  ]
}